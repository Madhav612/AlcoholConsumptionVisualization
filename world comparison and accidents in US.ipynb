{
  "nbformat": 4,
  "nbformat_minor": 0,
  "metadata": {
    "colab": {
      "name": "Data Viz Project.ipynb",
      "provenance": [],
      "collapsed_sections": []
    },
    "kernelspec": {
      "name": "python3",
      "display_name": "Python 3"
    },
    "language_info": {
      "name": "python"
    }
  },
  "cells": [
    {
      "cell_type": "markdown",
      "metadata": {
        "id": "w-8tjdwoAie1"
      },
      "source": [
        "Starting with the basics, we imported the libraries and datasets. The main aim was to analyse the dataset, and the attributes so that effective visuals could be created."
      ]
    },
    {
      "cell_type": "code",
      "metadata": {
        "id": "8bPYS9bE-3cT"
      },
      "source": [
        "import pandas as pd\n",
        "import numpy as np\n",
        "import seaborn as sns\n",
        "import folium\n",
        "import matplotlib.pyplot as plt\n"
      ],
      "execution_count": 1,
      "outputs": []
    },
    {
      "cell_type": "markdown",
      "metadata": {
        "id": "4Xy3waW4E-Ew"
      },
      "source": [
        "IMPORTING WHO ALCOHOL DATA LATEST\n"
      ]
    },
    {
      "cell_type": "markdown",
      "metadata": {
        "id": "wLVgMg-VLMzu"
      },
      "source": [
        "Dataset:\n",
        "\n",
        "Alcohol, recorded per capita (15+) consumption (in litres of pure alcohol)\n",
        "\n",
        "[Link to Dataset](https://www.who.int/data/gho/data/indicators/indicator-details/GHO/alcohol-recorded-per-capita-(15-)-consumption-(in-litres-of-pure-alcohol))"
      ]
    },
    {
      "cell_type": "code",
      "metadata": {
        "id": "sNLLvMbgCV9l"
      },
      "source": [
        "alc_cons_who = pd.read_csv('/content/who worldwide alc consumption data.csv')"
      ],
      "execution_count": 3,
      "outputs": []
    },
    {
      "cell_type": "code",
      "metadata": {
        "colab": {
          "base_uri": "https://localhost:8080/",
          "height": 363
        },
        "id": "Kma_e9AtFHmN",
        "outputId": "cf16ba8b-4be8-4685-fba5-7658c7d0126f"
      },
      "source": [
        "alc_cons_who.head(10)"
      ],
      "execution_count": 4,
      "outputs": [
        {
          "output_type": "execute_result",
          "data": {
            "text/html": [
              "<div>\n",
              "<style scoped>\n",
              "    .dataframe tbody tr th:only-of-type {\n",
              "        vertical-align: middle;\n",
              "    }\n",
              "\n",
              "    .dataframe tbody tr th {\n",
              "        vertical-align: top;\n",
              "    }\n",
              "\n",
              "    .dataframe thead th {\n",
              "        text-align: right;\n",
              "    }\n",
              "</style>\n",
              "<table border=\"1\" class=\"dataframe\">\n",
              "  <thead>\n",
              "    <tr style=\"text-align: right;\">\n",
              "      <th></th>\n",
              "      <th>Country</th>\n",
              "      <th>All types</th>\n",
              "      <th>Beer</th>\n",
              "      <th>Other alcoholic beverages</th>\n",
              "      <th>Spirits</th>\n",
              "      <th>Wine</th>\n",
              "    </tr>\n",
              "  </thead>\n",
              "  <tbody>\n",
              "    <tr>\n",
              "      <th>0</th>\n",
              "      <td>Afghanistan</td>\n",
              "      <td>0.01</td>\n",
              "      <td>0.00</td>\n",
              "      <td>0.00</td>\n",
              "      <td>0.01</td>\n",
              "      <td>0.00</td>\n",
              "    </tr>\n",
              "    <tr>\n",
              "      <th>1</th>\n",
              "      <td>Albania</td>\n",
              "      <td>4.40</td>\n",
              "      <td>1.75</td>\n",
              "      <td>0.08</td>\n",
              "      <td>1.43</td>\n",
              "      <td>1.15</td>\n",
              "    </tr>\n",
              "    <tr>\n",
              "      <th>2</th>\n",
              "      <td>Algeria</td>\n",
              "      <td>0.59</td>\n",
              "      <td>0.31</td>\n",
              "      <td>0.00</td>\n",
              "      <td>0.08</td>\n",
              "      <td>0.20</td>\n",
              "    </tr>\n",
              "    <tr>\n",
              "      <th>3</th>\n",
              "      <td>Andorra</td>\n",
              "      <td>10.99</td>\n",
              "      <td>3.59</td>\n",
              "      <td>0.00</td>\n",
              "      <td>2.32</td>\n",
              "      <td>4.98</td>\n",
              "    </tr>\n",
              "    <tr>\n",
              "      <th>4</th>\n",
              "      <td>Angola</td>\n",
              "      <td>5.84</td>\n",
              "      <td>3.78</td>\n",
              "      <td>0.08</td>\n",
              "      <td>1.27</td>\n",
              "      <td>0.72</td>\n",
              "    </tr>\n",
              "    <tr>\n",
              "      <th>5</th>\n",
              "      <td>Antigua and Barbuda</td>\n",
              "      <td>11.88</td>\n",
              "      <td>2.97</td>\n",
              "      <td>0.41</td>\n",
              "      <td>4.55</td>\n",
              "      <td>3.95</td>\n",
              "    </tr>\n",
              "    <tr>\n",
              "      <th>6</th>\n",
              "      <td>Argentina</td>\n",
              "      <td>7.95</td>\n",
              "      <td>3.62</td>\n",
              "      <td>0.72</td>\n",
              "      <td>0.72</td>\n",
              "      <td>2.88</td>\n",
              "    </tr>\n",
              "    <tr>\n",
              "      <th>7</th>\n",
              "      <td>Armenia</td>\n",
              "      <td>3.77</td>\n",
              "      <td>0.52</td>\n",
              "      <td>0.01</td>\n",
              "      <td>2.78</td>\n",
              "      <td>0.46</td>\n",
              "    </tr>\n",
              "    <tr>\n",
              "      <th>8</th>\n",
              "      <td>Australia</td>\n",
              "      <td>9.51</td>\n",
              "      <td>3.71</td>\n",
              "      <td>0.81</td>\n",
              "      <td>1.32</td>\n",
              "      <td>3.67</td>\n",
              "    </tr>\n",
              "    <tr>\n",
              "      <th>9</th>\n",
              "      <td>Austria</td>\n",
              "      <td>11.90</td>\n",
              "      <td>6.30</td>\n",
              "      <td>0.00</td>\n",
              "      <td>1.90</td>\n",
              "      <td>3.70</td>\n",
              "    </tr>\n",
              "  </tbody>\n",
              "</table>\n",
              "</div>"
            ],
            "text/plain": [
              "               Country  All types  ...  Spirits  Wine\n",
              "0          Afghanistan       0.01  ...     0.01  0.00\n",
              "1              Albania       4.40  ...     1.43  1.15\n",
              "2              Algeria       0.59  ...     0.08  0.20\n",
              "3              Andorra      10.99  ...     2.32  4.98\n",
              "4               Angola       5.84  ...     1.27  0.72\n",
              "5  Antigua and Barbuda      11.88  ...     4.55  3.95\n",
              "6            Argentina       7.95  ...     0.72  2.88\n",
              "7              Armenia       3.77  ...     2.78  0.46\n",
              "8            Australia       9.51  ...     1.32  3.67\n",
              "9              Austria      11.90  ...     1.90  3.70\n",
              "\n",
              "[10 rows x 6 columns]"
            ]
          },
          "metadata": {},
          "execution_count": 4
        }
      ]
    },
    {
      "cell_type": "markdown",
      "metadata": {
        "id": "6voW0ClROMuC"
      },
      "source": [
        "Checking for the distribution of the alcohol consumption attribute"
      ]
    },
    {
      "cell_type": "code",
      "metadata": {
        "colab": {
          "base_uri": "https://localhost:8080/",
          "height": 296
        },
        "id": "jSCVvZIFFJYc",
        "outputId": "57ba0189-875a-4a00-9a5c-94ff55c78ef9"
      },
      "source": [
        "sns.boxplot(data=alc_cons_who,x='All types',color='yellow')"
      ],
      "execution_count": 5,
      "outputs": [
        {
          "output_type": "execute_result",
          "data": {
            "text/plain": [
              "<matplotlib.axes._subplots.AxesSubplot at 0x7f832547e590>"
            ]
          },
          "metadata": {},
          "execution_count": 5
        },
        {
          "output_type": "display_data",
          "data": {
            "image/png": "[encoded data removed]",
            "text/plain": [
              "<Figure size 432x288 with 1 Axes>"
            ]
          },
          "metadata": {
            "needs_background": "light"
          }
        }
      ]
    },
    {
      "cell_type": "code",
      "metadata": {
        "colab": {
          "base_uri": "https://localhost:8080/",
          "height": 394
        },
        "id": "M4QcUvTbA2lc",
        "outputId": "b4ae5209-bc1a-4b01-8eb4-d55063b564b9"
      },
      "source": [
        "fig,axes = plt.subplots(ncols=3,figsize=(15,5))\n",
        "sns.boxplot(y=alc_cons_who['Beer'],ax=axes[0]).set_title('Beer consumption per Capita')\n",
        "sns.swarmplot(y=alc_cons_who['Beer'],ax=axes[0],color='red')\n",
        "sns.boxplot(y=alc_cons_who['Spirits'],ax=axes[1]).set_title('Spirits consumption per Capita')\n",
        "sns.swarmplot(y=alc_cons_who['Spirits'],ax=axes[1],color='red')\n",
        "sns.boxplot(y=alc_cons_who['Wine'],ax=axes[2]).set_title('Wine consumption per Capita')\n",
        "sns.swarmplot(y=alc_cons_who['Wine'],ax=axes[2],color='red')"
      ],
      "execution_count": 6,
      "outputs": [
        {
          "output_type": "stream",
          "name": "stderr",
          "text": [
            "/usr/local/lib/python3.7/dist-packages/seaborn/categorical.py:1296: UserWarning: 22.6% of the points cannot be placed; you may want to decrease the size of the markers or use stripplot.\n",
            "  warnings.warn(msg, UserWarning)\n"
          ]
        },
        {
          "output_type": "execute_result",
          "data": {
            "text/plain": [
              "<matplotlib.axes._subplots.AxesSubplot at 0x7f8324ef4790>"
            ]
          },
          "metadata": {},
          "execution_count": 6
        },
        {
          "output_type": "display_data",
          "data": {
            "image/png": "[encoded data removed]",
            "text/plain": [
              "<Figure size 1080x360 with 3 Axes>"
            ]
          },
          "metadata": {
            "needs_background": "light"
          }
        }
      ]
    },
    {
      "cell_type": "code",
      "metadata": {
        "colab": {
          "base_uri": "https://localhost:8080/"
        },
        "id": "lN6GZBTL16Rq",
        "outputId": "79d36242-bc88-4eec-be91-c5a256b84d3b"
      },
      "source": [
        "!pip install geopandas"
      ],
      "execution_count": 8,
      "outputs": [
        {
          "output_type": "stream",
          "name": "stdout",
          "text": [
            "Collecting geopandas\n",
            "  Downloading geopandas-0.10.2-py2.py3-none-any.whl (1.0 MB)\n",
            "\u001b[K     |████████████████████████████████| 1.0 MB 5.1 MB/s \n",
            "\u001b[?25hCollecting pyproj>=2.2.0\n",
            "  Downloading pyproj-3.2.1-cp37-cp37m-manylinux2010_x86_64.whl (6.3 MB)\n",
            "\u001b[K     |████████████████████████████████| 6.3 MB 35.7 MB/s \n",
            "\u001b[?25hCollecting fiona>=1.8\n",
            "  Downloading Fiona-1.8.20-cp37-cp37m-manylinux1_x86_64.whl (15.4 MB)\n",
            "\u001b[K     |████████████████████████████████| 15.4 MB 13.8 MB/s \n",
            "\u001b[?25hRequirement already satisfied: pandas>=0.25.0 in /usr/local/lib/python3.7/dist-packages (from geopandas) (1.1.5)\n",
            "Requirement already satisfied: shapely>=1.6 in /usr/local/lib/python3.7/dist-packages (from geopandas) (1.8.0)\n",
            "Collecting cligj>=0.5\n",
            "  Downloading cligj-0.7.2-py3-none-any.whl (7.1 kB)\n",
            "Requirement already satisfied: six>=1.7 in /usr/local/lib/python3.7/dist-packages (from fiona>=1.8->geopandas) (1.15.0)\n",
            "Requirement already satisfied: click>=4.0 in /usr/local/lib/python3.7/dist-packages (from fiona>=1.8->geopandas) (7.1.2)\n",
            "Collecting munch\n",
            "  Downloading munch-2.5.0-py2.py3-none-any.whl (10 kB)\n",
            "Requirement already satisfied: attrs>=17 in /usr/local/lib/python3.7/dist-packages (from fiona>=1.8->geopandas) (21.2.0)\n",
            "Requirement already satisfied: certifi in /usr/local/lib/python3.7/dist-packages (from fiona>=1.8->geopandas) (2021.10.8)\n",
            "Requirement already satisfied: setuptools in /usr/local/lib/python3.7/dist-packages (from fiona>=1.8->geopandas) (57.4.0)\n",
            "Collecting click-plugins>=1.0\n",
            "  Downloading click_plugins-1.1.1-py2.py3-none-any.whl (7.5 kB)\n",
            "Requirement already satisfied: numpy>=1.15.4 in /usr/local/lib/python3.7/dist-packages (from pandas>=0.25.0->geopandas) (1.19.5)\n",
            "Requirement already satisfied: python-dateutil>=2.7.3 in /usr/local/lib/python3.7/dist-packages (from pandas>=0.25.0->geopandas) (2.8.2)\n",
            "Requirement already satisfied: pytz>=2017.2 in /usr/local/lib/python3.7/dist-packages (from pandas>=0.25.0->geopandas) (2018.9)\n",
            "Installing collected packages: munch, cligj, click-plugins, pyproj, fiona, geopandas\n",
            "Successfully installed click-plugins-1.1.1 cligj-0.7.2 fiona-1.8.20 geopandas-0.10.2 munch-2.5.0 pyproj-3.2.1\n"
          ]
        }
      ]
    },
    {
      "cell_type": "code",
      "metadata": {
        "colab": {
          "base_uri": "https://localhost:8080/",
          "height": 206
        },
        "id": "M_04ne7UHQlg",
        "outputId": "d4d41b2c-6db4-4e02-fcf2-9f3b3733904c"
      },
      "source": [
        "import geopandas as gpd\n",
        "shapefile = '/content/ne_110m_admin_0_countries.shp'\n",
        "#Read shapefile using Geopandas\n",
        "gdf = gpd.read_file(shapefile)[['ADMIN', 'ADM0_A3', 'geometry']]\n",
        "#Rename columns.\n",
        "gdf.columns = ['country', 'country_code', 'geometry']\n",
        "gdf.head()"
      ],
      "execution_count": 10,
      "outputs": [
        {
          "output_type": "execute_result",
          "data": {
            "text/html": [
              "<div>\n",
              "<style scoped>\n",
              "    .dataframe tbody tr th:only-of-type {\n",
              "        vertical-align: middle;\n",
              "    }\n",
              "\n",
              "    .dataframe tbody tr th {\n",
              "        vertical-align: top;\n",
              "    }\n",
              "\n",
              "    .dataframe thead th {\n",
              "        text-align: right;\n",
              "    }\n",
              "</style>\n",
              "<table border=\"1\" class=\"dataframe\">\n",
              "  <thead>\n",
              "    <tr style=\"text-align: right;\">\n",
              "      <th></th>\n",
              "      <th>country</th>\n",
              "      <th>country_code</th>\n",
              "      <th>geometry</th>\n",
              "    </tr>\n",
              "  </thead>\n",
              "  <tbody>\n",
              "    <tr>\n",
              "      <th>0</th>\n",
              "      <td>Fiji</td>\n",
              "      <td>FJI</td>\n",
              "      <td>MULTIPOLYGON (((180.00000 -16.06713, 180.00000...</td>\n",
              "    </tr>\n",
              "    <tr>\n",
              "      <th>1</th>\n",
              "      <td>United Republic of Tanzania</td>\n",
              "      <td>TZA</td>\n",
              "      <td>POLYGON ((33.90371 -0.95000, 34.07262 -1.05982...</td>\n",
              "    </tr>\n",
              "    <tr>\n",
              "      <th>2</th>\n",
              "      <td>Western Sahara</td>\n",
              "      <td>SAH</td>\n",
              "      <td>POLYGON ((-8.66559 27.65643, -8.66512 27.58948...</td>\n",
              "    </tr>\n",
              "    <tr>\n",
              "      <th>3</th>\n",
              "      <td>Canada</td>\n",
              "      <td>CAN</td>\n",
              "      <td>MULTIPOLYGON (((-122.84000 49.00000, -122.9742...</td>\n",
              "    </tr>\n",
              "    <tr>\n",
              "      <th>4</th>\n",
              "      <td>United States of America</td>\n",
              "      <td>USA</td>\n",
              "      <td>MULTIPOLYGON (((-122.84000 49.00000, -120.0000...</td>\n",
              "    </tr>\n",
              "  </tbody>\n",
              "</table>\n",
              "</div>"
            ],
            "text/plain": [
              "                       country  ...                                           geometry\n",
              "0                         Fiji  ...  MULTIPOLYGON (((180.00000 -16.06713, 180.00000...\n",
              "1  United Republic of Tanzania  ...  POLYGON ((33.90371 -0.95000, 34.07262 -1.05982...\n",
              "2               Western Sahara  ...  POLYGON ((-8.66559 27.65643, -8.66512 27.58948...\n",
              "3                       Canada  ...  MULTIPOLYGON (((-122.84000 49.00000, -122.9742...\n",
              "4     United States of America  ...  MULTIPOLYGON (((-122.84000 49.00000, -120.0000...\n",
              "\n",
              "[5 rows x 3 columns]"
            ]
          },
          "metadata": {},
          "execution_count": 10
        }
      ]
    },
    {
      "cell_type": "code",
      "metadata": {
        "colab": {
          "base_uri": "https://localhost:8080/"
        },
        "id": "ANDTxz4kIM5C",
        "outputId": "e5e2c0ac-b014-4561-fafe-3914da9bd65d"
      },
      "source": [
        "print(gdf[gdf['country'] == 'Antarctica'])\n",
        "#Drop row corresponding to 'Antarctica'\n",
        "gdf = gdf.drop(gdf.index[159])"
      ],
      "execution_count": 11,
      "outputs": [
        {
          "output_type": "stream",
          "name": "stdout",
          "text": [
            "        country country_code                                           geometry\n",
            "159  Antarctica          ATA  MULTIPOLYGON (((-48.66062 -78.04702, -48.15140...\n"
          ]
        }
      ]
    },
    {
      "cell_type": "code",
      "metadata": {
        "id": "NCWIhZg_IU5B"
      },
      "source": [
        "merged = gdf.merge(alc_cons_who, left_on = 'country', right_on = 'Country')"
      ],
      "execution_count": 12,
      "outputs": []
    },
    {
      "cell_type": "code",
      "metadata": {
        "colab": {
          "base_uri": "https://localhost:8080/",
          "height": 310
        },
        "id": "gZbgzVZn_rxt",
        "outputId": "7114fba6-7db2-4627-e793-26ae6fdb5837"
      },
      "source": [
        "merged.head()"
      ],
      "execution_count": 51,
      "outputs": [
        {
          "output_type": "execute_result",
          "data": {
            "text/html": [
              "<div>\n",
              "<style scoped>\n",
              "    .dataframe tbody tr th:only-of-type {\n",
              "        vertical-align: middle;\n",
              "    }\n",
              "\n",
              "    .dataframe tbody tr th {\n",
              "        vertical-align: top;\n",
              "    }\n",
              "\n",
              "    .dataframe thead th {\n",
              "        text-align: right;\n",
              "    }\n",
              "</style>\n",
              "<table border=\"1\" class=\"dataframe\">\n",
              "  <thead>\n",
              "    <tr style=\"text-align: right;\">\n",
              "      <th></th>\n",
              "      <th>country</th>\n",
              "      <th>country_code</th>\n",
              "      <th>geometry</th>\n",
              "      <th>Country</th>\n",
              "      <th>All types</th>\n",
              "      <th>Beer</th>\n",
              "      <th>Other alcoholic beverages</th>\n",
              "      <th>Spirits</th>\n",
              "      <th>Wine</th>\n",
              "    </tr>\n",
              "  </thead>\n",
              "  <tbody>\n",
              "    <tr>\n",
              "      <th>0</th>\n",
              "      <td>Fiji</td>\n",
              "      <td>FJI</td>\n",
              "      <td>MULTIPOLYGON (((180.00000 -16.06713, 180.00000...</td>\n",
              "      <td>Fiji</td>\n",
              "      <td>2.71</td>\n",
              "      <td>1.64</td>\n",
              "      <td>0.0</td>\n",
              "      <td>0.79</td>\n",
              "      <td>0.29</td>\n",
              "    </tr>\n",
              "    <tr>\n",
              "      <th>1</th>\n",
              "      <td>United Republic of Tanzania</td>\n",
              "      <td>TZA</td>\n",
              "      <td>POLYGON ((33.90371 -0.95000, 34.07262 -1.05982...</td>\n",
              "      <td>United Republic of Tanzania</td>\n",
              "      <td>7.81</td>\n",
              "      <td>0.74</td>\n",
              "      <td>6.6</td>\n",
              "      <td>0.38</td>\n",
              "      <td>0.09</td>\n",
              "    </tr>\n",
              "    <tr>\n",
              "      <th>2</th>\n",
              "      <td>Canada</td>\n",
              "      <td>CAN</td>\n",
              "      <td>MULTIPOLYGON (((-122.84000 49.00000, -122.9742...</td>\n",
              "      <td>Canada</td>\n",
              "      <td>8.00</td>\n",
              "      <td>3.50</td>\n",
              "      <td>0.4</td>\n",
              "      <td>2.10</td>\n",
              "      <td>2.00</td>\n",
              "    </tr>\n",
              "    <tr>\n",
              "      <th>3</th>\n",
              "      <td>United States of America</td>\n",
              "      <td>USA</td>\n",
              "      <td>MULTIPOLYGON (((-122.84000 49.00000, -120.0000...</td>\n",
              "      <td>United States of America</td>\n",
              "      <td>8.93</td>\n",
              "      <td>3.97</td>\n",
              "      <td>0.0</td>\n",
              "      <td>3.29</td>\n",
              "      <td>1.67</td>\n",
              "    </tr>\n",
              "    <tr>\n",
              "      <th>4</th>\n",
              "      <td>Kazakhstan</td>\n",
              "      <td>KAZ</td>\n",
              "      <td>POLYGON ((87.35997 49.21498, 86.59878 48.54918...</td>\n",
              "      <td>Kazakhstan</td>\n",
              "      <td>3.73</td>\n",
              "      <td>2.52</td>\n",
              "      <td>0.0</td>\n",
              "      <td>1.05</td>\n",
              "      <td>0.16</td>\n",
              "    </tr>\n",
              "  </tbody>\n",
              "</table>\n",
              "</div>"
            ],
            "text/plain": [
              "                       country country_code  ... Spirits  Wine\n",
              "0                         Fiji          FJI  ...    0.79  0.29\n",
              "1  United Republic of Tanzania          TZA  ...    0.38  0.09\n",
              "2                       Canada          CAN  ...    2.10  2.00\n",
              "3     United States of America          USA  ...    3.29  1.67\n",
              "4                   Kazakhstan          KAZ  ...    1.05  0.16\n",
              "\n",
              "[5 rows x 9 columns]"
            ]
          },
          "metadata": {},
          "execution_count": 51
        }
      ]
    },
    {
      "cell_type": "code",
      "metadata": {
        "id": "Urc7FTMgaFwk"
      },
      "source": [
        "import plotly.express as px"
      ],
      "execution_count": 55,
      "outputs": []
    },
    {
      "cell_type": "code",
      "metadata": {
        "colab": {
          "base_uri": "https://localhost:8080/",
          "height": 542
        },
        "id": "ocKqO6yRcdsC",
        "outputId": "ec9ae9e1-f83c-41a7-8350-12141221e249"
      },
      "source": [
        "fig = px.choropleth(merged,\n",
        "                    locations='country_code',\n",
        "                    color='All types',\n",
        "                    color_continuous_scale='spectral_r',\n",
        "                    hover_name='Country',\n",
        "                    \n",
        "                    #labels={'Cost per capita ($)':'Total Cost per capita in $'\n",
        "                    )\n",
        "\n",
        "fig.update_layout(title={'text':'All tyes of Alcohol Consumption',\n",
        "                         'xanchor':'center',\n",
        "                        'yanchor':'top',\n",
        "                        'x':0})\n",
        "fig.show()"
      ],
      "execution_count": 72,
      "outputs": [
        {
          "output_type": "display_data",
          "data": {
            "text/html": [
              "<html>\n",
              "<head><meta charset=\"utf-8\" /></head>\n",
              "<body>\n",
              "    <div>            <script src=\"https://cdnjs.cloudflare.com/ajax/libs/mathjax/2.7.5/MathJax.js?config=TeX-AMS-MML_SVG\"></script><script type=\"text/javascript\">if (window.MathJax) {MathJax.Hub.Config({SVG: {font: \"STIX-Web\"}});}</script>                <script type=\"text/javascript\">window.PlotlyConfig = {MathJaxConfig: 'local'};</script>\n",
              "        <script src=\"https://cdn.plot.ly/plotly-2.6.3.min.js\"></script>                <div id=\"d60d2cd4-438d-4afa-b885-ca56eb0ac475\" class=\"plotly-graph-div\" style=\"height:525px; width:100%;\"></div>            <script type=\"text/javascript\">                                    window.PLOTLYENV=window.PLOTLYENV || {};                                    if (document.getElementById(\"d60d2cd4-438d-4afa-b885-ca56eb0ac475\")) {                    Plotly.newPlot(                        \"d60d2cd4-438d-4afa-b885-ca56eb0ac475\",                        [{\"coloraxis\":\"coloraxis\",\"geo\":\"geo\",\"hovertemplate\":\"<b>%{hovertext}</b><br><br>country_code=%{location}<br>All types=%{z}<extra></extra>\",\"hovertext\":[\"Fiji\",\"United Republic of Tanzania\",\"Canada\",\"United States of America\",\"Kazakhstan\",\"Uzbekistan\",\"Papua New Guinea\",\"Indonesia\",\"Argentina\",\"Chile\",\"Democratic Republic of the Congo\",\"Somalia\",\"Kenya\",\"Sudan\",\"Chad\",\"Haiti\",\"Dominican Republic\",\"Norway\",\"South Africa\",\"Lesotho\",\"Mexico\",\"Uruguay\",\"Brazil\",\"Peru\",\"Colombia\",\"Panama\",\"Costa Rica\",\"Nicaragua\",\"Honduras\",\"El Salvador\",\"Guatemala\",\"Belize\",\"Guyana\",\"Suriname\",\"France\",\"Ecuador\",\"Jamaica\",\"Cuba\",\"Zimbabwe\",\"Botswana\",\"Namibia\",\"Senegal\",\"Mali\",\"Mauritania\",\"Benin\",\"Niger\",\"Nigeria\",\"Cameroon\",\"Togo\",\"Ghana\",\"Guinea\",\"Guinea-Bissau\",\"Liberia\",\"Sierra Leone\",\"Burkina Faso\",\"Central African Republic\",\"Gabon\",\"Equatorial Guinea\",\"Zambia\",\"Malawi\",\"Mozambique\",\"Angola\",\"Burundi\",\"Israel\",\"Lebanon\",\"Madagascar\",\"Gambia\",\"Tunisia\",\"Algeria\",\"Jordan\",\"United Arab Emirates\",\"Qatar\",\"Kuwait\",\"Iraq\",\"Oman\",\"Vanuatu\",\"Cambodia\",\"Thailand\",\"Myanmar\",\"Mongolia\",\"India\",\"Bangladesh\",\"Bhutan\",\"Nepal\",\"Pakistan\",\"Afghanistan\",\"Tajikistan\",\"Kyrgyzstan\",\"Turkmenistan\",\"Armenia\",\"Sweden\",\"Belarus\",\"Ukraine\",\"Poland\",\"Austria\",\"Hungary\",\"Romania\",\"Lithuania\",\"Latvia\",\"Estonia\",\"Germany\",\"Bulgaria\",\"Greece\",\"Turkey\",\"Albania\",\"Croatia\",\"Switzerland\",\"Luxembourg\",\"Belgium\",\"Netherlands\",\"Portugal\",\"Spain\",\"Ireland\",\"Solomon Islands\",\"New Zealand\",\"Australia\",\"Sri Lanka\",\"China\",\"Italy\",\"Denmark\",\"Iceland\",\"Azerbaijan\",\"Georgia\",\"Philippines\",\"Malaysia\",\"Slovenia\",\"Finland\",\"Slovakia\",\"Czechia\",\"Eritrea\",\"Japan\",\"Paraguay\",\"Yemen\",\"Saudi Arabia\",\"Cyprus\",\"Morocco\",\"Egypt\",\"Libya\",\"Ethiopia\",\"Djibouti\",\"Uganda\",\"Rwanda\",\"Bosnia and Herzegovina\",\"Montenegro\",\"Trinidad and Tobago\"],\"locations\":[\"FJI\",\"TZA\",\"CAN\",\"USA\",\"KAZ\",\"UZB\",\"PNG\",\"IDN\",\"ARG\",\"CHL\",\"COD\",\"SOM\",\"KEN\",\"SDN\",\"TCD\",\"HTI\",\"DOM\",\"NOR\",\"ZAF\",\"LSO\",\"MEX\",\"URY\",\"BRA\",\"PER\",\"COL\",\"PAN\",\"CRI\",\"NIC\",\"HND\",\"SLV\",\"GTM\",\"BLZ\",\"GUY\",\"SUR\",\"FRA\",\"ECU\",\"JAM\",\"CUB\",\"ZWE\",\"BWA\",\"NAM\",\"SEN\",\"MLI\",\"MRT\",\"BEN\",\"NER\",\"NGA\",\"CMR\",\"TGO\",\"GHA\",\"GIN\",\"GNB\",\"LBR\",\"SLE\",\"BFA\",\"CAF\",\"GAB\",\"GNQ\",\"ZMB\",\"MWI\",\"MOZ\",\"AGO\",\"BDI\",\"ISR\",\"LBN\",\"MDG\",\"GMB\",\"TUN\",\"DZA\",\"JOR\",\"ARE\",\"QAT\",\"KWT\",\"IRQ\",\"OMN\",\"VUT\",\"KHM\",\"THA\",\"MMR\",\"MNG\",\"IND\",\"BGD\",\"BTN\",\"NPL\",\"PAK\",\"AFG\",\"TJK\",\"KGZ\",\"TKM\",\"ARM\",\"SWE\",\"BLR\",\"UKR\",\"POL\",\"AUT\",\"HUN\",\"ROU\",\"LTU\",\"LVA\",\"EST\",\"DEU\",\"BGR\",\"GRC\",\"TUR\",\"ALB\",\"HRV\",\"CHE\",\"LUX\",\"BEL\",\"NLD\",\"PRT\",\"ESP\",\"IRL\",\"SLB\",\"NZL\",\"AUS\",\"LKA\",\"CHN\",\"ITA\",\"DNK\",\"ISL\",\"AZE\",\"GEO\",\"PHL\",\"MYS\",\"SVN\",\"FIN\",\"SVK\",\"CZE\",\"ERI\",\"JPN\",\"PRY\",\"YEM\",\"SAU\",\"CYP\",\"MAR\",\"EGY\",\"LBY\",\"ETH\",\"DJI\",\"UGA\",\"RWA\",\"BIH\",\"MNE\",\"TTO\"],\"name\":\"\",\"z\":[2.71,7.81,8.0,8.93,3.73,2.45,1.26,0.08,7.95,7.8,0.56,0.0,1.68,1.93,0.55,2.85,5.56,6.05,7.21,3.56,4.25,5.42,6.12,5.74,4.09,6.54,3.07,3.69,2.73,2.94,1.63,5.93,5.11,6.6,11.44,3.05,3.46,4.7,3.11,5.98,2.38,0.25,0.6,0.0,1.25,0.11,4.49,4.09,1.4,1.59,0.33,3.21,3.12,3.22,7.28,0.94,6.47,6.11,3.82,2.04,1.46,5.84,4.07,3.07,1.14,0.89,2.67,1.51,0.59,0.25,2.03,0.96,0.0,0.16,0.47,1.6,4.56,6.86,2.06,5.46,3.09,0.0,0.07,0.36,0.04,0.01,0.85,4.02,2.88,3.77,7.1,10.57,5.69,10.96,11.9,10.79,10.96,11.93,12.9,11.65,10.56,11.18,6.33,1.18,4.4,9.64,9.41,11.0,9.15,8.23,10.37,10.73,10.91,1.19,9.17,9.51,2.58,4.48,7.65,9.16,7.72,1.38,7.45,4.85,0.64,11.05,8.23,10.3,12.73,0.93,8.36,5.47,0.02,0.0,9.59,0.51,0.14,0.01,1.16,0.21,6.82,6.35,5.46,9.91,5.81],\"type\":\"choropleth\"}],                        {\"template\":{\"data\":{\"bar\":[{\"error_x\":{\"color\":\"#2a3f5f\"},\"error_y\":{\"color\":\"#2a3f5f\"},\"marker\":{\"line\":{\"color\":\"#E5ECF6\",\"width\":0.5},\"pattern\":{\"fillmode\":\"overlay\",\"size\":10,\"solidity\":0.2}},\"type\":\"bar\"}],\"barpolar\":[{\"marker\":{\"line\":{\"color\":\"#E5ECF6\",\"width\":0.5},\"pattern\":{\"fillmode\":\"overlay\",\"size\":10,\"solidity\":0.2}},\"type\":\"barpolar\"}],\"carpet\":[{\"aaxis\":{\"endlinecolor\":\"#2a3f5f\",\"gridcolor\":\"white\",\"linecolor\":\"white\",\"minorgridcolor\":\"white\",\"startlinecolor\":\"#2a3f5f\"},\"baxis\":{\"endlinecolor\":\"#2a3f5f\",\"gridcolor\":\"white\",\"linecolor\":\"white\",\"minorgridcolor\":\"white\",\"startlinecolor\":\"#2a3f5f\"},\"type\":\"carpet\"}],\"choropleth\":[{\"colorbar\":{\"outlinewidth\":0,\"ticks\":\"\"},\"type\":\"choropleth\"}],\"contour\":[{\"colorbar\":{\"outlinewidth\":0,\"ticks\":\"\"},\"colorscale\":[[0.0,\"#0d0887\"],[0.1111111111111111,\"#46039f\"],[0.2222222222222222,\"#7201a8\"],[0.3333333333333333,\"#9c179e\"],[0.4444444444444444,\"#bd3786\"],[0.5555555555555556,\"#d8576b\"],[0.6666666666666666,\"#ed7953\"],[0.7777777777777778,\"#fb9f3a\"],[0.8888888888888888,\"#fdca26\"],[1.0,\"#f0f921\"]],\"type\":\"contour\"}],\"contourcarpet\":[{\"colorbar\":{\"outlinewidth\":0,\"ticks\":\"\"},\"type\":\"contourcarpet\"}],\"heatmap\":[{\"colorbar\":{\"outlinewidth\":0,\"ticks\":\"\"},\"colorscale\":[[0.0,\"#0d0887\"],[0.1111111111111111,\"#46039f\"],[0.2222222222222222,\"#7201a8\"],[0.3333333333333333,\"#9c179e\"],[0.4444444444444444,\"#bd3786\"],[0.5555555555555556,\"#d8576b\"],[0.6666666666666666,\"#ed7953\"],[0.7777777777777778,\"#fb9f3a\"],[0.8888888888888888,\"#fdca26\"],[1.0,\"#f0f921\"]],\"type\":\"heatmap\"}],\"heatmapgl\":[{\"colorbar\":{\"outlinewidth\":0,\"ticks\":\"\"},\"colorscale\":[[0.0,\"#0d0887\"],[0.1111111111111111,\"#46039f\"],[0.2222222222222222,\"#7201a8\"],[0.3333333333333333,\"#9c179e\"],[0.4444444444444444,\"#bd3786\"],[0.5555555555555556,\"#d8576b\"],[0.6666666666666666,\"#ed7953\"],[0.7777777777777778,\"#fb9f3a\"],[0.8888888888888888,\"#fdca26\"],[1.0,\"#f0f921\"]],\"type\":\"heatmapgl\"}],\"histogram\":[{\"marker\":{\"pattern\":{\"fillmode\":\"overlay\",\"size\":10,\"solidity\":0.2}},\"type\":\"histogram\"}],\"histogram2d\":[{\"colorbar\":{\"outlinewidth\":0,\"ticks\":\"\"},\"colorscale\":[[0.0,\"#0d0887\"],[0.1111111111111111,\"#46039f\"],[0.2222222222222222,\"#7201a8\"],[0.3333333333333333,\"#9c179e\"],[0.4444444444444444,\"#bd3786\"],[0.5555555555555556,\"#d8576b\"],[0.6666666666666666,\"#ed7953\"],[0.7777777777777778,\"#fb9f3a\"],[0.8888888888888888,\"#fdca26\"],[1.0,\"#f0f921\"]],\"type\":\"histogram2d\"}],\"histogram2dcontour\":[{\"colorbar\":{\"outlinewidth\":0,\"ticks\":\"\"},\"colorscale\":[[0.0,\"#0d0887\"],[0.1111111111111111,\"#46039f\"],[0.2222222222222222,\"#7201a8\"],[0.3333333333333333,\"#9c179e\"],[0.4444444444444444,\"#bd3786\"],[0.5555555555555556,\"#d8576b\"],[0.6666666666666666,\"#ed7953\"],[0.7777777777777778,\"#fb9f3a\"],[0.8888888888888888,\"#fdca26\"],[1.0,\"#f0f921\"]],\"type\":\"histogram2dcontour\"}],\"mesh3d\":[{\"colorbar\":{\"outlinewidth\":0,\"ticks\":\"\"},\"type\":\"mesh3d\"}],\"parcoords\":[{\"line\":{\"colorbar\":{\"outlinewidth\":0,\"ticks\":\"\"}},\"type\":\"parcoords\"}],\"pie\":[{\"automargin\":true,\"type\":\"pie\"}],\"scatter\":[{\"marker\":{\"colorbar\":{\"outlinewidth\":0,\"ticks\":\"\"}},\"type\":\"scatter\"}],\"scatter3d\":[{\"line\":{\"colorbar\":{\"outlinewidth\":0,\"ticks\":\"\"}},\"marker\":{\"colorbar\":{\"outlinewidth\":0,\"ticks\":\"\"}},\"type\":\"scatter3d\"}],\"scattercarpet\":[{\"marker\":{\"colorbar\":{\"outlinewidth\":0,\"ticks\":\"\"}},\"type\":\"scattercarpet\"}],\"scattergeo\":[{\"marker\":{\"colorbar\":{\"outlinewidth\":0,\"ticks\":\"\"}},\"type\":\"scattergeo\"}],\"scattergl\":[{\"marker\":{\"colorbar\":{\"outlinewidth\":0,\"ticks\":\"\"}},\"type\":\"scattergl\"}],\"scattermapbox\":[{\"marker\":{\"colorbar\":{\"outlinewidth\":0,\"ticks\":\"\"}},\"type\":\"scattermapbox\"}],\"scatterpolar\":[{\"marker\":{\"colorbar\":{\"outlinewidth\":0,\"ticks\":\"\"}},\"type\":\"scatterpolar\"}],\"scatterpolargl\":[{\"marker\":{\"colorbar\":{\"outlinewidth\":0,\"ticks\":\"\"}},\"type\":\"scatterpolargl\"}],\"scatterternary\":[{\"marker\":{\"colorbar\":{\"outlinewidth\":0,\"ticks\":\"\"}},\"type\":\"scatterternary\"}],\"surface\":[{\"colorbar\":{\"outlinewidth\":0,\"ticks\":\"\"},\"colorscale\":[[0.0,\"#0d0887\"],[0.1111111111111111,\"#46039f\"],[0.2222222222222222,\"#7201a8\"],[0.3333333333333333,\"#9c179e\"],[0.4444444444444444,\"#bd3786\"],[0.5555555555555556,\"#d8576b\"],[0.6666666666666666,\"#ed7953\"],[0.7777777777777778,\"#fb9f3a\"],[0.8888888888888888,\"#fdca26\"],[1.0,\"#f0f921\"]],\"type\":\"surface\"}],\"table\":[{\"cells\":{\"fill\":{\"color\":\"#EBF0F8\"},\"line\":{\"color\":\"white\"}},\"header\":{\"fill\":{\"color\":\"#C8D4E3\"},\"line\":{\"color\":\"white\"}},\"type\":\"table\"}]},\"layout\":{\"annotationdefaults\":{\"arrowcolor\":\"#2a3f5f\",\"arrowhead\":0,\"arrowwidth\":1},\"autotypenumbers\":\"strict\",\"coloraxis\":{\"colorbar\":{\"outlinewidth\":0,\"ticks\":\"\"}},\"colorscale\":{\"diverging\":[[0,\"#8e0152\"],[0.1,\"#c51b7d\"],[0.2,\"#de77ae\"],[0.3,\"#f1b6da\"],[0.4,\"#fde0ef\"],[0.5,\"#f7f7f7\"],[0.6,\"#e6f5d0\"],[0.7,\"#b8e186\"],[0.8,\"#7fbc41\"],[0.9,\"#4d9221\"],[1,\"#276419\"]],\"sequential\":[[0.0,\"#0d0887\"],[0.1111111111111111,\"#46039f\"],[0.2222222222222222,\"#7201a8\"],[0.3333333333333333,\"#9c179e\"],[0.4444444444444444,\"#bd3786\"],[0.5555555555555556,\"#d8576b\"],[0.6666666666666666,\"#ed7953\"],[0.7777777777777778,\"#fb9f3a\"],[0.8888888888888888,\"#fdca26\"],[1.0,\"#f0f921\"]],\"sequentialminus\":[[0.0,\"#0d0887\"],[0.1111111111111111,\"#46039f\"],[0.2222222222222222,\"#7201a8\"],[0.3333333333333333,\"#9c179e\"],[0.4444444444444444,\"#bd3786\"],[0.5555555555555556,\"#d8576b\"],[0.6666666666666666,\"#ed7953\"],[0.7777777777777778,\"#fb9f3a\"],[0.8888888888888888,\"#fdca26\"],[1.0,\"#f0f921\"]]},\"colorway\":[\"#636efa\",\"#EF553B\",\"#00cc96\",\"#ab63fa\",\"#FFA15A\",\"#19d3f3\",\"#FF6692\",\"#B6E880\",\"#FF97FF\",\"#FECB52\"],\"font\":{\"color\":\"#2a3f5f\"},\"geo\":{\"bgcolor\":\"white\",\"lakecolor\":\"white\",\"landcolor\":\"#E5ECF6\",\"showlakes\":true,\"showland\":true,\"subunitcolor\":\"white\"},\"hoverlabel\":{\"align\":\"left\"},\"hovermode\":\"closest\",\"mapbox\":{\"style\":\"light\"},\"paper_bgcolor\":\"white\",\"plot_bgcolor\":\"#E5ECF6\",\"polar\":{\"angularaxis\":{\"gridcolor\":\"white\",\"linecolor\":\"white\",\"ticks\":\"\"},\"bgcolor\":\"#E5ECF6\",\"radialaxis\":{\"gridcolor\":\"white\",\"linecolor\":\"white\",\"ticks\":\"\"}},\"scene\":{\"xaxis\":{\"backgroundcolor\":\"#E5ECF6\",\"gridcolor\":\"white\",\"gridwidth\":2,\"linecolor\":\"white\",\"showbackground\":true,\"ticks\":\"\",\"zerolinecolor\":\"white\"},\"yaxis\":{\"backgroundcolor\":\"#E5ECF6\",\"gridcolor\":\"white\",\"gridwidth\":2,\"linecolor\":\"white\",\"showbackground\":true,\"ticks\":\"\",\"zerolinecolor\":\"white\"},\"zaxis\":{\"backgroundcolor\":\"#E5ECF6\",\"gridcolor\":\"white\",\"gridwidth\":2,\"linecolor\":\"white\",\"showbackground\":true,\"ticks\":\"\",\"zerolinecolor\":\"white\"}},\"shapedefaults\":{\"line\":{\"color\":\"#2a3f5f\"}},\"ternary\":{\"aaxis\":{\"gridcolor\":\"white\",\"linecolor\":\"white\",\"ticks\":\"\"},\"baxis\":{\"gridcolor\":\"white\",\"linecolor\":\"white\",\"ticks\":\"\"},\"bgcolor\":\"#E5ECF6\",\"caxis\":{\"gridcolor\":\"white\",\"linecolor\":\"white\",\"ticks\":\"\"}},\"title\":{\"x\":0.05},\"xaxis\":{\"automargin\":true,\"gridcolor\":\"white\",\"linecolor\":\"white\",\"ticks\":\"\",\"title\":{\"standoff\":15},\"zerolinecolor\":\"white\",\"zerolinewidth\":2},\"yaxis\":{\"automargin\":true,\"gridcolor\":\"white\",\"linecolor\":\"white\",\"ticks\":\"\",\"title\":{\"standoff\":15},\"zerolinecolor\":\"white\",\"zerolinewidth\":2}}},\"geo\":{\"domain\":{\"x\":[0.0,1.0],\"y\":[0.0,1.0]},\"center\":{}},\"coloraxis\":{\"colorbar\":{\"title\":{\"text\":\"All types\"}},\"colorscale\":[[0.0,\"rgb(94,79,162)\"],[0.1,\"rgb(50,136,189)\"],[0.2,\"rgb(102,194,165)\"],[0.3,\"rgb(171,221,164)\"],[0.4,\"rgb(230,245,152)\"],[0.5,\"rgb(255,255,191)\"],[0.6,\"rgb(254,224,139)\"],[0.7,\"rgb(253,174,97)\"],[0.8,\"rgb(244,109,67)\"],[0.9,\"rgb(213,62,79)\"],[1.0,\"rgb(158,1,66)\"]]},\"legend\":{\"tracegroupgap\":0},\"margin\":{\"t\":60},\"title\":{\"text\":\"All tyes of Alcohol Consumption\",\"xanchor\":\"center\",\"yanchor\":\"top\",\"x\":0}},                        {\"responsive\": true}                    ).then(function(){\n",
              "                            \n",
              "var gd = document.getElementById('d60d2cd4-438d-4afa-b885-ca56eb0ac475');\n",
              "var x = new MutationObserver(function (mutations, observer) {{\n",
              "        var display = window.getComputedStyle(gd).display;\n",
              "        if (!display || display === 'none') {{\n",
              "            console.log([gd, 'removed!']);\n",
              "            Plotly.purge(gd);\n",
              "            observer.disconnect();\n",
              "        }}\n",
              "}});\n",
              "\n",
              "// Listen for the removal of the full notebook cells\n",
              "var notebookContainer = gd.closest('#notebook-container');\n",
              "if (notebookContainer) {{\n",
              "    x.observe(notebookContainer, {childList: true});\n",
              "}}\n",
              "\n",
              "// Listen for the clearing of the current output cell\n",
              "var outputEl = gd.closest('.output');\n",
              "if (outputEl) {{\n",
              "    x.observe(outputEl, {childList: true});\n",
              "}}\n",
              "\n",
              "                        })                };                            </script>        </div>\n",
              "</body>\n",
              "</html>"
            ]
          },
          "metadata": {}
        }
      ]
    },
    {
      "cell_type": "code",
      "metadata": {
        "colab": {
          "base_uri": "https://localhost:8080/",
          "height": 542
        },
        "id": "Xzwmhv2afTLV",
        "outputId": "3aea4ef3-6b6e-442f-f448-ab4644fdef18"
      },
      "source": [
        "fig = px.choropleth(merged,\n",
        "                    locations='country_code',\n",
        "                    color='Beer',\n",
        "                    color_continuous_scale='spectral_r',\n",
        "                    hover_name='Country',\n",
        "                    \n",
        "                    #labels={'Cost per capita ($)':'Total Cost per capita in $'\n",
        "                    )\n",
        "\n",
        "fig.update_layout(title={'text':'Beer Consumption',\n",
        "                         'xanchor':'center',\n",
        "                        'yanchor':'top',\n",
        "                        'x':0})\n",
        "fig.show()"
      ],
      "execution_count": 73,
      "outputs": [
        {
          "output_type": "display_data",
          "data": {
            "text/html": [
              "<html>\n",
              "<head><meta charset=\"utf-8\" /></head>\n",
              "<body>\n",
              "    <div>            <script src=\"https://cdnjs.cloudflare.com/ajax/libs/mathjax/2.7.5/MathJax.js?config=TeX-AMS-MML_SVG\"></script><script type=\"text/javascript\">if (window.MathJax) {MathJax.Hub.Config({SVG: {font: \"STIX-Web\"}});}</script>                <script type=\"text/javascript\">window.PlotlyConfig = {MathJaxConfig: 'local'};</script>\n",
              "        <script src=\"https://cdn.plot.ly/plotly-2.6.3.min.js\"></script>                <div id=\"f2ae6a8e-49c7-4df2-b333-727fe8ca807f\" class=\"plotly-graph-div\" style=\"height:525px; width:100%;\"></div>            <script type=\"text/javascript\">                                    window.PLOTLYENV=window.PLOTLYENV || {};                                    if (document.getElementById(\"f2ae6a8e-49c7-4df2-b333-727fe8ca807f\")) {                    Plotly.newPlot(                        \"f2ae6a8e-49c7-4df2-b333-727fe8ca807f\",                        [{\"coloraxis\":\"coloraxis\",\"geo\":\"geo\",\"hovertemplate\":\"<b>%{hovertext}</b><br><br>country_code=%{location}<br>Beer=%{z}<extra></extra>\",\"hovertext\":[\"Fiji\",\"United Republic of Tanzania\",\"Canada\",\"United States of America\",\"Kazakhstan\",\"Uzbekistan\",\"Papua New Guinea\",\"Indonesia\",\"Argentina\",\"Chile\",\"Democratic Republic of the Congo\",\"Somalia\",\"Kenya\",\"Sudan\",\"Chad\",\"Haiti\",\"Dominican Republic\",\"Norway\",\"South Africa\",\"Lesotho\",\"Mexico\",\"Uruguay\",\"Brazil\",\"Peru\",\"Colombia\",\"Panama\",\"Costa Rica\",\"Nicaragua\",\"Honduras\",\"El Salvador\",\"Guatemala\",\"Belize\",\"Guyana\",\"Suriname\",\"France\",\"Ecuador\",\"Jamaica\",\"Cuba\",\"Zimbabwe\",\"Botswana\",\"Namibia\",\"Senegal\",\"Mali\",\"Mauritania\",\"Benin\",\"Niger\",\"Nigeria\",\"Cameroon\",\"Togo\",\"Ghana\",\"Guinea\",\"Guinea-Bissau\",\"Liberia\",\"Sierra Leone\",\"Burkina Faso\",\"Central African Republic\",\"Gabon\",\"Equatorial Guinea\",\"Zambia\",\"Malawi\",\"Mozambique\",\"Angola\",\"Burundi\",\"Israel\",\"Lebanon\",\"Madagascar\",\"Gambia\",\"Tunisia\",\"Algeria\",\"Jordan\",\"United Arab Emirates\",\"Qatar\",\"Kuwait\",\"Iraq\",\"Oman\",\"Vanuatu\",\"Cambodia\",\"Thailand\",\"Myanmar\",\"Mongolia\",\"India\",\"Bangladesh\",\"Bhutan\",\"Nepal\",\"Pakistan\",\"Afghanistan\",\"Tajikistan\",\"Kyrgyzstan\",\"Turkmenistan\",\"Armenia\",\"Sweden\",\"Belarus\",\"Ukraine\",\"Poland\",\"Austria\",\"Hungary\",\"Romania\",\"Lithuania\",\"Latvia\",\"Estonia\",\"Germany\",\"Bulgaria\",\"Greece\",\"Turkey\",\"Albania\",\"Croatia\",\"Switzerland\",\"Luxembourg\",\"Belgium\",\"Netherlands\",\"Portugal\",\"Spain\",\"Ireland\",\"Solomon Islands\",\"New Zealand\",\"Australia\",\"Sri Lanka\",\"China\",\"Italy\",\"Denmark\",\"Iceland\",\"Azerbaijan\",\"Georgia\",\"Philippines\",\"Malaysia\",\"Slovenia\",\"Finland\",\"Slovakia\",\"Czechia\",\"Eritrea\",\"Japan\",\"Paraguay\",\"Yemen\",\"Saudi Arabia\",\"Cyprus\",\"Morocco\",\"Egypt\",\"Libya\",\"Ethiopia\",\"Djibouti\",\"Uganda\",\"Rwanda\",\"Bosnia and Herzegovina\",\"Montenegro\",\"Trinidad and Tobago\"],\"locations\":[\"FJI\",\"TZA\",\"CAN\",\"USA\",\"KAZ\",\"UZB\",\"PNG\",\"IDN\",\"ARG\",\"CHL\",\"COD\",\"SOM\",\"KEN\",\"SDN\",\"TCD\",\"HTI\",\"DOM\",\"NOR\",\"ZAF\",\"LSO\",\"MEX\",\"URY\",\"BRA\",\"PER\",\"COL\",\"PAN\",\"CRI\",\"NIC\",\"HND\",\"SLV\",\"GTM\",\"BLZ\",\"GUY\",\"SUR\",\"FRA\",\"ECU\",\"JAM\",\"CUB\",\"ZWE\",\"BWA\",\"NAM\",\"SEN\",\"MLI\",\"MRT\",\"BEN\",\"NER\",\"NGA\",\"CMR\",\"TGO\",\"GHA\",\"GIN\",\"GNB\",\"LBR\",\"SLE\",\"BFA\",\"CAF\",\"GAB\",\"GNQ\",\"ZMB\",\"MWI\",\"MOZ\",\"AGO\",\"BDI\",\"ISR\",\"LBN\",\"MDG\",\"GMB\",\"TUN\",\"DZA\",\"JOR\",\"ARE\",\"QAT\",\"KWT\",\"IRQ\",\"OMN\",\"VUT\",\"KHM\",\"THA\",\"MMR\",\"MNG\",\"IND\",\"BGD\",\"BTN\",\"NPL\",\"PAK\",\"AFG\",\"TJK\",\"KGZ\",\"TKM\",\"ARM\",\"SWE\",\"BLR\",\"UKR\",\"POL\",\"AUT\",\"HUN\",\"ROU\",\"LTU\",\"LVA\",\"EST\",\"DEU\",\"BGR\",\"GRC\",\"TUR\",\"ALB\",\"HRV\",\"CHE\",\"LUX\",\"BEL\",\"NLD\",\"PRT\",\"ESP\",\"IRL\",\"SLB\",\"NZL\",\"AUS\",\"LKA\",\"CHN\",\"ITA\",\"DNK\",\"ISL\",\"AZE\",\"GEO\",\"PHL\",\"MYS\",\"SVN\",\"FIN\",\"SVK\",\"CZE\",\"ERI\",\"JPN\",\"PRY\",\"YEM\",\"SAU\",\"CYP\",\"MAR\",\"EGY\",\"LBY\",\"ETH\",\"DJI\",\"UGA\",\"RWA\",\"BIH\",\"MNE\",\"TTO\"],\"name\":\"\",\"z\":[1.64,0.74,3.5,3.97,2.52,0.18,0.6,0.06,3.62,2.76,0.5,0.0,0.81,0.0,0.37,0.55,3.15,2.63,3.99,1.98,3.72,1.86,3.84,3.01,3.09,5.29,2.17,1.57,1.6,1.5,0.9,3.88,2.75,3.4,2.52,2.32,1.19,1.77,1.2,2.93,1.37,0.21,0.09,0.0,0.81,0.04,0.73,2.36,0.78,0.53,0.29,0.41,0.38,0.17,1.0,0.55,5.31,3.83,1.26,0.08,1.03,3.78,1.84,1.78,0.38,0.5,0.21,0.99,0.31,0.06,0.21,0.29,0.0,0.11,0.17,0.34,4.12,1.85,0.5,2.18,0.23,0.0,0.01,0.22,0.0,0.0,0.38,0.43,0.65,0.52,2.6,2.26,2.44,5.72,6.3,3.96,5.33,4.61,4.9,4.0,5.57,4.44,2.13,0.67,1.75,4.75,3.17,4.04,4.35,3.95,2.62,4.67,4.92,1.1,3.41,3.71,0.22,1.66,1.99,3.42,4.39,0.36,1.71,1.47,0.48,4.54,3.76,4.14,6.77,0.42,1.35,3.27,0.02,0.0,2.85,0.18,0.09,0.0,0.92,0.05,0.85,0.23,4.19,3.83,2.92],\"type\":\"choropleth\"}],                        {\"template\":{\"data\":{\"bar\":[{\"error_x\":{\"color\":\"#2a3f5f\"},\"error_y\":{\"color\":\"#2a3f5f\"},\"marker\":{\"line\":{\"color\":\"#E5ECF6\",\"width\":0.5},\"pattern\":{\"fillmode\":\"overlay\",\"size\":10,\"solidity\":0.2}},\"type\":\"bar\"}],\"barpolar\":[{\"marker\":{\"line\":{\"color\":\"#E5ECF6\",\"width\":0.5},\"pattern\":{\"fillmode\":\"overlay\",\"size\":10,\"solidity\":0.2}},\"type\":\"barpolar\"}],\"carpet\":[{\"aaxis\":{\"endlinecolor\":\"#2a3f5f\",\"gridcolor\":\"white\",\"linecolor\":\"white\",\"minorgridcolor\":\"white\",\"startlinecolor\":\"#2a3f5f\"},\"baxis\":{\"endlinecolor\":\"#2a3f5f\",\"gridcolor\":\"white\",\"linecolor\":\"white\",\"minorgridcolor\":\"white\",\"startlinecolor\":\"#2a3f5f\"},\"type\":\"carpet\"}],\"choropleth\":[{\"colorbar\":{\"outlinewidth\":0,\"ticks\":\"\"},\"type\":\"choropleth\"}],\"contour\":[{\"colorbar\":{\"outlinewidth\":0,\"ticks\":\"\"},\"colorscale\":[[0.0,\"#0d0887\"],[0.1111111111111111,\"#46039f\"],[0.2222222222222222,\"#7201a8\"],[0.3333333333333333,\"#9c179e\"],[0.4444444444444444,\"#bd3786\"],[0.5555555555555556,\"#d8576b\"],[0.6666666666666666,\"#ed7953\"],[0.7777777777777778,\"#fb9f3a\"],[0.8888888888888888,\"#fdca26\"],[1.0,\"#f0f921\"]],\"type\":\"contour\"}],\"contourcarpet\":[{\"colorbar\":{\"outlinewidth\":0,\"ticks\":\"\"},\"type\":\"contourcarpet\"}],\"heatmap\":[{\"colorbar\":{\"outlinewidth\":0,\"ticks\":\"\"},\"colorscale\":[[0.0,\"#0d0887\"],[0.1111111111111111,\"#46039f\"],[0.2222222222222222,\"#7201a8\"],[0.3333333333333333,\"#9c179e\"],[0.4444444444444444,\"#bd3786\"],[0.5555555555555556,\"#d8576b\"],[0.6666666666666666,\"#ed7953\"],[0.7777777777777778,\"#fb9f3a\"],[0.8888888888888888,\"#fdca26\"],[1.0,\"#f0f921\"]],\"type\":\"heatmap\"}],\"heatmapgl\":[{\"colorbar\":{\"outlinewidth\":0,\"ticks\":\"\"},\"colorscale\":[[0.0,\"#0d0887\"],[0.1111111111111111,\"#46039f\"],[0.2222222222222222,\"#7201a8\"],[0.3333333333333333,\"#9c179e\"],[0.4444444444444444,\"#bd3786\"],[0.5555555555555556,\"#d8576b\"],[0.6666666666666666,\"#ed7953\"],[0.7777777777777778,\"#fb9f3a\"],[0.8888888888888888,\"#fdca26\"],[1.0,\"#f0f921\"]],\"type\":\"heatmapgl\"}],\"histogram\":[{\"marker\":{\"pattern\":{\"fillmode\":\"overlay\",\"size\":10,\"solidity\":0.2}},\"type\":\"histogram\"}],\"histogram2d\":[{\"colorbar\":{\"outlinewidth\":0,\"ticks\":\"\"},\"colorscale\":[[0.0,\"#0d0887\"],[0.1111111111111111,\"#46039f\"],[0.2222222222222222,\"#7201a8\"],[0.3333333333333333,\"#9c179e\"],[0.4444444444444444,\"#bd3786\"],[0.5555555555555556,\"#d8576b\"],[0.6666666666666666,\"#ed7953\"],[0.7777777777777778,\"#fb9f3a\"],[0.8888888888888888,\"#fdca26\"],[1.0,\"#f0f921\"]],\"type\":\"histogram2d\"}],\"histogram2dcontour\":[{\"colorbar\":{\"outlinewidth\":0,\"ticks\":\"\"},\"colorscale\":[[0.0,\"#0d0887\"],[0.1111111111111111,\"#46039f\"],[0.2222222222222222,\"#7201a8\"],[0.3333333333333333,\"#9c179e\"],[0.4444444444444444,\"#bd3786\"],[0.5555555555555556,\"#d8576b\"],[0.6666666666666666,\"#ed7953\"],[0.7777777777777778,\"#fb9f3a\"],[0.8888888888888888,\"#fdca26\"],[1.0,\"#f0f921\"]],\"type\":\"histogram2dcontour\"}],\"mesh3d\":[{\"colorbar\":{\"outlinewidth\":0,\"ticks\":\"\"},\"type\":\"mesh3d\"}],\"parcoords\":[{\"line\":{\"colorbar\":{\"outlinewidth\":0,\"ticks\":\"\"}},\"type\":\"parcoords\"}],\"pie\":[{\"automargin\":true,\"type\":\"pie\"}],\"scatter\":[{\"marker\":{\"colorbar\":{\"outlinewidth\":0,\"ticks\":\"\"}},\"type\":\"scatter\"}],\"scatter3d\":[{\"line\":{\"colorbar\":{\"outlinewidth\":0,\"ticks\":\"\"}},\"marker\":{\"colorbar\":{\"outlinewidth\":0,\"ticks\":\"\"}},\"type\":\"scatter3d\"}],\"scattercarpet\":[{\"marker\":{\"colorbar\":{\"outlinewidth\":0,\"ticks\":\"\"}},\"type\":\"scattercarpet\"}],\"scattergeo\":[{\"marker\":{\"colorbar\":{\"outlinewidth\":0,\"ticks\":\"\"}},\"type\":\"scattergeo\"}],\"scattergl\":[{\"marker\":{\"colorbar\":{\"outlinewidth\":0,\"ticks\":\"\"}},\"type\":\"scattergl\"}],\"scattermapbox\":[{\"marker\":{\"colorbar\":{\"outlinewidth\":0,\"ticks\":\"\"}},\"type\":\"scattermapbox\"}],\"scatterpolar\":[{\"marker\":{\"colorbar\":{\"outlinewidth\":0,\"ticks\":\"\"}},\"type\":\"scatterpolar\"}],\"scatterpolargl\":[{\"marker\":{\"colorbar\":{\"outlinewidth\":0,\"ticks\":\"\"}},\"type\":\"scatterpolargl\"}],\"scatterternary\":[{\"marker\":{\"colorbar\":{\"outlinewidth\":0,\"ticks\":\"\"}},\"type\":\"scatterternary\"}],\"surface\":[{\"colorbar\":{\"outlinewidth\":0,\"ticks\":\"\"},\"colorscale\":[[0.0,\"#0d0887\"],[0.1111111111111111,\"#46039f\"],[0.2222222222222222,\"#7201a8\"],[0.3333333333333333,\"#9c179e\"],[0.4444444444444444,\"#bd3786\"],[0.5555555555555556,\"#d8576b\"],[0.6666666666666666,\"#ed7953\"],[0.7777777777777778,\"#fb9f3a\"],[0.8888888888888888,\"#fdca26\"],[1.0,\"#f0f921\"]],\"type\":\"surface\"}],\"table\":[{\"cells\":{\"fill\":{\"color\":\"#EBF0F8\"},\"line\":{\"color\":\"white\"}},\"header\":{\"fill\":{\"color\":\"#C8D4E3\"},\"line\":{\"color\":\"white\"}},\"type\":\"table\"}]},\"layout\":{\"annotationdefaults\":{\"arrowcolor\":\"#2a3f5f\",\"arrowhead\":0,\"arrowwidth\":1},\"autotypenumbers\":\"strict\",\"coloraxis\":{\"colorbar\":{\"outlinewidth\":0,\"ticks\":\"\"}},\"colorscale\":{\"diverging\":[[0,\"#8e0152\"],[0.1,\"#c51b7d\"],[0.2,\"#de77ae\"],[0.3,\"#f1b6da\"],[0.4,\"#fde0ef\"],[0.5,\"#f7f7f7\"],[0.6,\"#e6f5d0\"],[0.7,\"#b8e186\"],[0.8,\"#7fbc41\"],[0.9,\"#4d9221\"],[1,\"#276419\"]],\"sequential\":[[0.0,\"#0d0887\"],[0.1111111111111111,\"#46039f\"],[0.2222222222222222,\"#7201a8\"],[0.3333333333333333,\"#9c179e\"],[0.4444444444444444,\"#bd3786\"],[0.5555555555555556,\"#d8576b\"],[0.6666666666666666,\"#ed7953\"],[0.7777777777777778,\"#fb9f3a\"],[0.8888888888888888,\"#fdca26\"],[1.0,\"#f0f921\"]],\"sequentialminus\":[[0.0,\"#0d0887\"],[0.1111111111111111,\"#46039f\"],[0.2222222222222222,\"#7201a8\"],[0.3333333333333333,\"#9c179e\"],[0.4444444444444444,\"#bd3786\"],[0.5555555555555556,\"#d8576b\"],[0.6666666666666666,\"#ed7953\"],[0.7777777777777778,\"#fb9f3a\"],[0.8888888888888888,\"#fdca26\"],[1.0,\"#f0f921\"]]},\"colorway\":[\"#636efa\",\"#EF553B\",\"#00cc96\",\"#ab63fa\",\"#FFA15A\",\"#19d3f3\",\"#FF6692\",\"#B6E880\",\"#FF97FF\",\"#FECB52\"],\"font\":{\"color\":\"#2a3f5f\"},\"geo\":{\"bgcolor\":\"white\",\"lakecolor\":\"white\",\"landcolor\":\"#E5ECF6\",\"showlakes\":true,\"showland\":true,\"subunitcolor\":\"white\"},\"hoverlabel\":{\"align\":\"left\"},\"hovermode\":\"closest\",\"mapbox\":{\"style\":\"light\"},\"paper_bgcolor\":\"white\",\"plot_bgcolor\":\"#E5ECF6\",\"polar\":{\"angularaxis\":{\"gridcolor\":\"white\",\"linecolor\":\"white\",\"ticks\":\"\"},\"bgcolor\":\"#E5ECF6\",\"radialaxis\":{\"gridcolor\":\"white\",\"linecolor\":\"white\",\"ticks\":\"\"}},\"scene\":{\"xaxis\":{\"backgroundcolor\":\"#E5ECF6\",\"gridcolor\":\"white\",\"gridwidth\":2,\"linecolor\":\"white\",\"showbackground\":true,\"ticks\":\"\",\"zerolinecolor\":\"white\"},\"yaxis\":{\"backgroundcolor\":\"#E5ECF6\",\"gridcolor\":\"white\",\"gridwidth\":2,\"linecolor\":\"white\",\"showbackground\":true,\"ticks\":\"\",\"zerolinecolor\":\"white\"},\"zaxis\":{\"backgroundcolor\":\"#E5ECF6\",\"gridcolor\":\"white\",\"gridwidth\":2,\"linecolor\":\"white\",\"showbackground\":true,\"ticks\":\"\",\"zerolinecolor\":\"white\"}},\"shapedefaults\":{\"line\":{\"color\":\"#2a3f5f\"}},\"ternary\":{\"aaxis\":{\"gridcolor\":\"white\",\"linecolor\":\"white\",\"ticks\":\"\"},\"baxis\":{\"gridcolor\":\"white\",\"linecolor\":\"white\",\"ticks\":\"\"},\"bgcolor\":\"#E5ECF6\",\"caxis\":{\"gridcolor\":\"white\",\"linecolor\":\"white\",\"ticks\":\"\"}},\"title\":{\"x\":0.05},\"xaxis\":{\"automargin\":true,\"gridcolor\":\"white\",\"linecolor\":\"white\",\"ticks\":\"\",\"title\":{\"standoff\":15},\"zerolinecolor\":\"white\",\"zerolinewidth\":2},\"yaxis\":{\"automargin\":true,\"gridcolor\":\"white\",\"linecolor\":\"white\",\"ticks\":\"\",\"title\":{\"standoff\":15},\"zerolinecolor\":\"white\",\"zerolinewidth\":2}}},\"geo\":{\"domain\":{\"x\":[0.0,1.0],\"y\":[0.0,1.0]},\"center\":{}},\"coloraxis\":{\"colorbar\":{\"title\":{\"text\":\"Beer\"}},\"colorscale\":[[0.0,\"rgb(94,79,162)\"],[0.1,\"rgb(50,136,189)\"],[0.2,\"rgb(102,194,165)\"],[0.3,\"rgb(171,221,164)\"],[0.4,\"rgb(230,245,152)\"],[0.5,\"rgb(255,255,191)\"],[0.6,\"rgb(254,224,139)\"],[0.7,\"rgb(253,174,97)\"],[0.8,\"rgb(244,109,67)\"],[0.9,\"rgb(213,62,79)\"],[1.0,\"rgb(158,1,66)\"]]},\"legend\":{\"tracegroupgap\":0},\"margin\":{\"t\":60},\"title\":{\"text\":\"Beer Consumption\",\"xanchor\":\"center\",\"yanchor\":\"top\",\"x\":0}},                        {\"responsive\": true}                    ).then(function(){\n",
              "                            \n",
              "var gd = document.getElementById('f2ae6a8e-49c7-4df2-b333-727fe8ca807f');\n",
              "var x = new MutationObserver(function (mutations, observer) {{\n",
              "        var display = window.getComputedStyle(gd).display;\n",
              "        if (!display || display === 'none') {{\n",
              "            console.log([gd, 'removed!']);\n",
              "            Plotly.purge(gd);\n",
              "            observer.disconnect();\n",
              "        }}\n",
              "}});\n",
              "\n",
              "// Listen for the removal of the full notebook cells\n",
              "var notebookContainer = gd.closest('#notebook-container');\n",
              "if (notebookContainer) {{\n",
              "    x.observe(notebookContainer, {childList: true});\n",
              "}}\n",
              "\n",
              "// Listen for the clearing of the current output cell\n",
              "var outputEl = gd.closest('.output');\n",
              "if (outputEl) {{\n",
              "    x.observe(outputEl, {childList: true});\n",
              "}}\n",
              "\n",
              "                        })                };                            </script>        </div>\n",
              "</body>\n",
              "</html>"
            ]
          },
          "metadata": {}
        }
      ]
    },
    {
      "cell_type": "code",
      "metadata": {
        "colab": {
          "base_uri": "https://localhost:8080/",
          "height": 542
        },
        "id": "qswdeJpofYB-",
        "outputId": "14d9fcb1-61ff-4ff8-9d47-54536e4f0195"
      },
      "source": [
        "fig = px.choropleth(merged,\n",
        "                    locations='country_code',\n",
        "                    color='Wine',\n",
        "                    color_continuous_scale='spectral_r',\n",
        "                    hover_name='Country',\n",
        "                    \n",
        "                    #labels={'Cost per capita ($)':'Total Cost per capita in $'\n",
        "                    )\n",
        "\n",
        "fig.update_layout(title={'text':'Wine Consumption',\n",
        "                         'xanchor':'center',\n",
        "                        'yanchor':'top',\n",
        "                        'x':0})\n",
        "fig.show()"
      ],
      "execution_count": 74,
      "outputs": [
        {
          "output_type": "display_data",
          "data": {
            "text/html": [
              "<html>\n",
              "<head><meta charset=\"utf-8\" /></head>\n",
              "<body>\n",
              "    <div>            <script src=\"https://cdnjs.cloudflare.com/ajax/libs/mathjax/2.7.5/MathJax.js?config=TeX-AMS-MML_SVG\"></script><script type=\"text/javascript\">if (window.MathJax) {MathJax.Hub.Config({SVG: {font: \"STIX-Web\"}});}</script>                <script type=\"text/javascript\">window.PlotlyConfig = {MathJaxConfig: 'local'};</script>\n",
              "        <script src=\"https://cdn.plot.ly/plotly-2.6.3.min.js\"></script>                <div id=\"cbab0eff-3e83-4d36-bf0a-364e26671599\" class=\"plotly-graph-div\" style=\"height:525px; width:100%;\"></div>            <script type=\"text/javascript\">                                    window.PLOTLYENV=window.PLOTLYENV || {};                                    if (document.getElementById(\"cbab0eff-3e83-4d36-bf0a-364e26671599\")) {                    Plotly.newPlot(                        \"cbab0eff-3e83-4d36-bf0a-364e26671599\",                        [{\"coloraxis\":\"coloraxis\",\"geo\":\"geo\",\"hovertemplate\":\"<b>%{hovertext}</b><br><br>country_code=%{location}<br>Wine=%{z}<extra></extra>\",\"hovertext\":[\"Fiji\",\"United Republic of Tanzania\",\"Canada\",\"United States of America\",\"Kazakhstan\",\"Uzbekistan\",\"Papua New Guinea\",\"Indonesia\",\"Argentina\",\"Chile\",\"Democratic Republic of the Congo\",\"Somalia\",\"Kenya\",\"Sudan\",\"Chad\",\"Haiti\",\"Dominican Republic\",\"Norway\",\"South Africa\",\"Lesotho\",\"Mexico\",\"Uruguay\",\"Brazil\",\"Peru\",\"Colombia\",\"Panama\",\"Costa Rica\",\"Nicaragua\",\"Honduras\",\"El Salvador\",\"Guatemala\",\"Belize\",\"Guyana\",\"Suriname\",\"France\",\"Ecuador\",\"Jamaica\",\"Cuba\",\"Zimbabwe\",\"Botswana\",\"Namibia\",\"Senegal\",\"Mali\",\"Mauritania\",\"Benin\",\"Niger\",\"Nigeria\",\"Cameroon\",\"Togo\",\"Ghana\",\"Guinea\",\"Guinea-Bissau\",\"Liberia\",\"Sierra Leone\",\"Burkina Faso\",\"Central African Republic\",\"Gabon\",\"Equatorial Guinea\",\"Zambia\",\"Malawi\",\"Mozambique\",\"Angola\",\"Burundi\",\"Israel\",\"Lebanon\",\"Madagascar\",\"Gambia\",\"Tunisia\",\"Algeria\",\"Jordan\",\"United Arab Emirates\",\"Qatar\",\"Kuwait\",\"Iraq\",\"Oman\",\"Vanuatu\",\"Cambodia\",\"Thailand\",\"Myanmar\",\"Mongolia\",\"India\",\"Bangladesh\",\"Bhutan\",\"Nepal\",\"Pakistan\",\"Afghanistan\",\"Tajikistan\",\"Kyrgyzstan\",\"Turkmenistan\",\"Armenia\",\"Sweden\",\"Belarus\",\"Ukraine\",\"Poland\",\"Austria\",\"Hungary\",\"Romania\",\"Lithuania\",\"Latvia\",\"Estonia\",\"Germany\",\"Bulgaria\",\"Greece\",\"Turkey\",\"Albania\",\"Croatia\",\"Switzerland\",\"Luxembourg\",\"Belgium\",\"Netherlands\",\"Portugal\",\"Spain\",\"Ireland\",\"Solomon Islands\",\"New Zealand\",\"Australia\",\"Sri Lanka\",\"China\",\"Italy\",\"Denmark\",\"Iceland\",\"Azerbaijan\",\"Georgia\",\"Philippines\",\"Malaysia\",\"Slovenia\",\"Finland\",\"Slovakia\",\"Czechia\",\"Eritrea\",\"Japan\",\"Paraguay\",\"Yemen\",\"Saudi Arabia\",\"Cyprus\",\"Morocco\",\"Egypt\",\"Libya\",\"Ethiopia\",\"Djibouti\",\"Uganda\",\"Rwanda\",\"Bosnia and Herzegovina\",\"Montenegro\",\"Trinidad and Tobago\"],\"locations\":[\"FJI\",\"TZA\",\"CAN\",\"USA\",\"KAZ\",\"UZB\",\"PNG\",\"IDN\",\"ARG\",\"CHL\",\"COD\",\"SOM\",\"KEN\",\"SDN\",\"TCD\",\"HTI\",\"DOM\",\"NOR\",\"ZAF\",\"LSO\",\"MEX\",\"URY\",\"BRA\",\"PER\",\"COL\",\"PAN\",\"CRI\",\"NIC\",\"HND\",\"SLV\",\"GTM\",\"BLZ\",\"GUY\",\"SUR\",\"FRA\",\"ECU\",\"JAM\",\"CUB\",\"ZWE\",\"BWA\",\"NAM\",\"SEN\",\"MLI\",\"MRT\",\"BEN\",\"NER\",\"NGA\",\"CMR\",\"TGO\",\"GHA\",\"GIN\",\"GNB\",\"LBR\",\"SLE\",\"BFA\",\"CAF\",\"GAB\",\"GNQ\",\"ZMB\",\"MWI\",\"MOZ\",\"AGO\",\"BDI\",\"ISR\",\"LBN\",\"MDG\",\"GMB\",\"TUN\",\"DZA\",\"JOR\",\"ARE\",\"QAT\",\"KWT\",\"IRQ\",\"OMN\",\"VUT\",\"KHM\",\"THA\",\"MMR\",\"MNG\",\"IND\",\"BGD\",\"BTN\",\"NPL\",\"PAK\",\"AFG\",\"TJK\",\"KGZ\",\"TKM\",\"ARM\",\"SWE\",\"BLR\",\"UKR\",\"POL\",\"AUT\",\"HUN\",\"ROU\",\"LTU\",\"LVA\",\"EST\",\"DEU\",\"BGR\",\"GRC\",\"TUR\",\"ALB\",\"HRV\",\"CHE\",\"LUX\",\"BEL\",\"NLD\",\"PRT\",\"ESP\",\"IRL\",\"SLB\",\"NZL\",\"AUS\",\"LKA\",\"CHN\",\"ITA\",\"DNK\",\"ISL\",\"AZE\",\"GEO\",\"PHL\",\"MYS\",\"SVN\",\"FIN\",\"SVK\",\"CZE\",\"ERI\",\"JPN\",\"PRY\",\"YEM\",\"SAU\",\"CYP\",\"MAR\",\"EGY\",\"LBY\",\"ETH\",\"DJI\",\"UGA\",\"RWA\",\"BIH\",\"MNE\",\"TTO\"],\"name\":\"\",\"z\":[0.29,0.09,2.0,1.67,0.16,0.09,0.06,0.01,2.88,2.61,0.01,0.0,0.04,0.0,0.01,0.03,0.17,2.23,1.21,0.44,0.19,2.86,0.24,0.46,0.06,0.02,0.15,0.02,0.04,0.06,0.05,0.68,0.04,0.14,6.44,0.09,0.25,0.23,0.05,0.46,0.16,0.02,0.0,0.0,0.02,0.01,0.09,0.16,0.09,0.05,0.01,0.98,0.44,0.01,0.08,0.04,0.62,1.24,0.04,0.0,0.22,0.72,0.0,0.08,0.21,0.07,0.0,0.32,0.2,0.0,0.14,0.07,0.0,0.0,0.02,0.39,0.03,0.23,0.02,1.46,0.0,0.0,0.05,0.0,0.0,0.0,0.01,0.23,1.25,0.46,3.4,0.98,0.32,0.88,3.7,3.33,3.38,0.88,1.7,1.92,3.02,1.72,2.66,0.16,1.15,3.52,4.35,4.73,3.41,2.92,6.04,3.52,2.88,0.06,2.88,3.67,0.01,0.18,4.83,4.08,2.11,0.06,3.19,0.03,0.04,5.26,1.59,2.01,2.73,0.0,0.29,0.59,0.0,0.0,2.72,0.24,0.01,0.01,0.0,0.02,0.01,0.03,0.47,2.68,0.16],\"type\":\"choropleth\"}],                        {\"template\":{\"data\":{\"bar\":[{\"error_x\":{\"color\":\"#2a3f5f\"},\"error_y\":{\"color\":\"#2a3f5f\"},\"marker\":{\"line\":{\"color\":\"#E5ECF6\",\"width\":0.5},\"pattern\":{\"fillmode\":\"overlay\",\"size\":10,\"solidity\":0.2}},\"type\":\"bar\"}],\"barpolar\":[{\"marker\":{\"line\":{\"color\":\"#E5ECF6\",\"width\":0.5},\"pattern\":{\"fillmode\":\"overlay\",\"size\":10,\"solidity\":0.2}},\"type\":\"barpolar\"}],\"carpet\":[{\"aaxis\":{\"endlinecolor\":\"#2a3f5f\",\"gridcolor\":\"white\",\"linecolor\":\"white\",\"minorgridcolor\":\"white\",\"startlinecolor\":\"#2a3f5f\"},\"baxis\":{\"endlinecolor\":\"#2a3f5f\",\"gridcolor\":\"white\",\"linecolor\":\"white\",\"minorgridcolor\":\"white\",\"startlinecolor\":\"#2a3f5f\"},\"type\":\"carpet\"}],\"choropleth\":[{\"colorbar\":{\"outlinewidth\":0,\"ticks\":\"\"},\"type\":\"choropleth\"}],\"contour\":[{\"colorbar\":{\"outlinewidth\":0,\"ticks\":\"\"},\"colorscale\":[[0.0,\"#0d0887\"],[0.1111111111111111,\"#46039f\"],[0.2222222222222222,\"#7201a8\"],[0.3333333333333333,\"#9c179e\"],[0.4444444444444444,\"#bd3786\"],[0.5555555555555556,\"#d8576b\"],[0.6666666666666666,\"#ed7953\"],[0.7777777777777778,\"#fb9f3a\"],[0.8888888888888888,\"#fdca26\"],[1.0,\"#f0f921\"]],\"type\":\"contour\"}],\"contourcarpet\":[{\"colorbar\":{\"outlinewidth\":0,\"ticks\":\"\"},\"type\":\"contourcarpet\"}],\"heatmap\":[{\"colorbar\":{\"outlinewidth\":0,\"ticks\":\"\"},\"colorscale\":[[0.0,\"#0d0887\"],[0.1111111111111111,\"#46039f\"],[0.2222222222222222,\"#7201a8\"],[0.3333333333333333,\"#9c179e\"],[0.4444444444444444,\"#bd3786\"],[0.5555555555555556,\"#d8576b\"],[0.6666666666666666,\"#ed7953\"],[0.7777777777777778,\"#fb9f3a\"],[0.8888888888888888,\"#fdca26\"],[1.0,\"#f0f921\"]],\"type\":\"heatmap\"}],\"heatmapgl\":[{\"colorbar\":{\"outlinewidth\":0,\"ticks\":\"\"},\"colorscale\":[[0.0,\"#0d0887\"],[0.1111111111111111,\"#46039f\"],[0.2222222222222222,\"#7201a8\"],[0.3333333333333333,\"#9c179e\"],[0.4444444444444444,\"#bd3786\"],[0.5555555555555556,\"#d8576b\"],[0.6666666666666666,\"#ed7953\"],[0.7777777777777778,\"#fb9f3a\"],[0.8888888888888888,\"#fdca26\"],[1.0,\"#f0f921\"]],\"type\":\"heatmapgl\"}],\"histogram\":[{\"marker\":{\"pattern\":{\"fillmode\":\"overlay\",\"size\":10,\"solidity\":0.2}},\"type\":\"histogram\"}],\"histogram2d\":[{\"colorbar\":{\"outlinewidth\":0,\"ticks\":\"\"},\"colorscale\":[[0.0,\"#0d0887\"],[0.1111111111111111,\"#46039f\"],[0.2222222222222222,\"#7201a8\"],[0.3333333333333333,\"#9c179e\"],[0.4444444444444444,\"#bd3786\"],[0.5555555555555556,\"#d8576b\"],[0.6666666666666666,\"#ed7953\"],[0.7777777777777778,\"#fb9f3a\"],[0.8888888888888888,\"#fdca26\"],[1.0,\"#f0f921\"]],\"type\":\"histogram2d\"}],\"histogram2dcontour\":[{\"colorbar\":{\"outlinewidth\":0,\"ticks\":\"\"},\"colorscale\":[[0.0,\"#0d0887\"],[0.1111111111111111,\"#46039f\"],[0.2222222222222222,\"#7201a8\"],[0.3333333333333333,\"#9c179e\"],[0.4444444444444444,\"#bd3786\"],[0.5555555555555556,\"#d8576b\"],[0.6666666666666666,\"#ed7953\"],[0.7777777777777778,\"#fb9f3a\"],[0.8888888888888888,\"#fdca26\"],[1.0,\"#f0f921\"]],\"type\":\"histogram2dcontour\"}],\"mesh3d\":[{\"colorbar\":{\"outlinewidth\":0,\"ticks\":\"\"},\"type\":\"mesh3d\"}],\"parcoords\":[{\"line\":{\"colorbar\":{\"outlinewidth\":0,\"ticks\":\"\"}},\"type\":\"parcoords\"}],\"pie\":[{\"automargin\":true,\"type\":\"pie\"}],\"scatter\":[{\"marker\":{\"colorbar\":{\"outlinewidth\":0,\"ticks\":\"\"}},\"type\":\"scatter\"}],\"scatter3d\":[{\"line\":{\"colorbar\":{\"outlinewidth\":0,\"ticks\":\"\"}},\"marker\":{\"colorbar\":{\"outlinewidth\":0,\"ticks\":\"\"}},\"type\":\"scatter3d\"}],\"scattercarpet\":[{\"marker\":{\"colorbar\":{\"outlinewidth\":0,\"ticks\":\"\"}},\"type\":\"scattercarpet\"}],\"scattergeo\":[{\"marker\":{\"colorbar\":{\"outlinewidth\":0,\"ticks\":\"\"}},\"type\":\"scattergeo\"}],\"scattergl\":[{\"marker\":{\"colorbar\":{\"outlinewidth\":0,\"ticks\":\"\"}},\"type\":\"scattergl\"}],\"scattermapbox\":[{\"marker\":{\"colorbar\":{\"outlinewidth\":0,\"ticks\":\"\"}},\"type\":\"scattermapbox\"}],\"scatterpolar\":[{\"marker\":{\"colorbar\":{\"outlinewidth\":0,\"ticks\":\"\"}},\"type\":\"scatterpolar\"}],\"scatterpolargl\":[{\"marker\":{\"colorbar\":{\"outlinewidth\":0,\"ticks\":\"\"}},\"type\":\"scatterpolargl\"}],\"scatterternary\":[{\"marker\":{\"colorbar\":{\"outlinewidth\":0,\"ticks\":\"\"}},\"type\":\"scatterternary\"}],\"surface\":[{\"colorbar\":{\"outlinewidth\":0,\"ticks\":\"\"},\"colorscale\":[[0.0,\"#0d0887\"],[0.1111111111111111,\"#46039f\"],[0.2222222222222222,\"#7201a8\"],[0.3333333333333333,\"#9c179e\"],[0.4444444444444444,\"#bd3786\"],[0.5555555555555556,\"#d8576b\"],[0.6666666666666666,\"#ed7953\"],[0.7777777777777778,\"#fb9f3a\"],[0.8888888888888888,\"#fdca26\"],[1.0,\"#f0f921\"]],\"type\":\"surface\"}],\"table\":[{\"cells\":{\"fill\":{\"color\":\"#EBF0F8\"},\"line\":{\"color\":\"white\"}},\"header\":{\"fill\":{\"color\":\"#C8D4E3\"},\"line\":{\"color\":\"white\"}},\"type\":\"table\"}]},\"layout\":{\"annotationdefaults\":{\"arrowcolor\":\"#2a3f5f\",\"arrowhead\":0,\"arrowwidth\":1},\"autotypenumbers\":\"strict\",\"coloraxis\":{\"colorbar\":{\"outlinewidth\":0,\"ticks\":\"\"}},\"colorscale\":{\"diverging\":[[0,\"#8e0152\"],[0.1,\"#c51b7d\"],[0.2,\"#de77ae\"],[0.3,\"#f1b6da\"],[0.4,\"#fde0ef\"],[0.5,\"#f7f7f7\"],[0.6,\"#e6f5d0\"],[0.7,\"#b8e186\"],[0.8,\"#7fbc41\"],[0.9,\"#4d9221\"],[1,\"#276419\"]],\"sequential\":[[0.0,\"#0d0887\"],[0.1111111111111111,\"#46039f\"],[0.2222222222222222,\"#7201a8\"],[0.3333333333333333,\"#9c179e\"],[0.4444444444444444,\"#bd3786\"],[0.5555555555555556,\"#d8576b\"],[0.6666666666666666,\"#ed7953\"],[0.7777777777777778,\"#fb9f3a\"],[0.8888888888888888,\"#fdca26\"],[1.0,\"#f0f921\"]],\"sequentialminus\":[[0.0,\"#0d0887\"],[0.1111111111111111,\"#46039f\"],[0.2222222222222222,\"#7201a8\"],[0.3333333333333333,\"#9c179e\"],[0.4444444444444444,\"#bd3786\"],[0.5555555555555556,\"#d8576b\"],[0.6666666666666666,\"#ed7953\"],[0.7777777777777778,\"#fb9f3a\"],[0.8888888888888888,\"#fdca26\"],[1.0,\"#f0f921\"]]},\"colorway\":[\"#636efa\",\"#EF553B\",\"#00cc96\",\"#ab63fa\",\"#FFA15A\",\"#19d3f3\",\"#FF6692\",\"#B6E880\",\"#FF97FF\",\"#FECB52\"],\"font\":{\"color\":\"#2a3f5f\"},\"geo\":{\"bgcolor\":\"white\",\"lakecolor\":\"white\",\"landcolor\":\"#E5ECF6\",\"showlakes\":true,\"showland\":true,\"subunitcolor\":\"white\"},\"hoverlabel\":{\"align\":\"left\"},\"hovermode\":\"closest\",\"mapbox\":{\"style\":\"light\"},\"paper_bgcolor\":\"white\",\"plot_bgcolor\":\"#E5ECF6\",\"polar\":{\"angularaxis\":{\"gridcolor\":\"white\",\"linecolor\":\"white\",\"ticks\":\"\"},\"bgcolor\":\"#E5ECF6\",\"radialaxis\":{\"gridcolor\":\"white\",\"linecolor\":\"white\",\"ticks\":\"\"}},\"scene\":{\"xaxis\":{\"backgroundcolor\":\"#E5ECF6\",\"gridcolor\":\"white\",\"gridwidth\":2,\"linecolor\":\"white\",\"showbackground\":true,\"ticks\":\"\",\"zerolinecolor\":\"white\"},\"yaxis\":{\"backgroundcolor\":\"#E5ECF6\",\"gridcolor\":\"white\",\"gridwidth\":2,\"linecolor\":\"white\",\"showbackground\":true,\"ticks\":\"\",\"zerolinecolor\":\"white\"},\"zaxis\":{\"backgroundcolor\":\"#E5ECF6\",\"gridcolor\":\"white\",\"gridwidth\":2,\"linecolor\":\"white\",\"showbackground\":true,\"ticks\":\"\",\"zerolinecolor\":\"white\"}},\"shapedefaults\":{\"line\":{\"color\":\"#2a3f5f\"}},\"ternary\":{\"aaxis\":{\"gridcolor\":\"white\",\"linecolor\":\"white\",\"ticks\":\"\"},\"baxis\":{\"gridcolor\":\"white\",\"linecolor\":\"white\",\"ticks\":\"\"},\"bgcolor\":\"#E5ECF6\",\"caxis\":{\"gridcolor\":\"white\",\"linecolor\":\"white\",\"ticks\":\"\"}},\"title\":{\"x\":0.05},\"xaxis\":{\"automargin\":true,\"gridcolor\":\"white\",\"linecolor\":\"white\",\"ticks\":\"\",\"title\":{\"standoff\":15},\"zerolinecolor\":\"white\",\"zerolinewidth\":2},\"yaxis\":{\"automargin\":true,\"gridcolor\":\"white\",\"linecolor\":\"white\",\"ticks\":\"\",\"title\":{\"standoff\":15},\"zerolinecolor\":\"white\",\"zerolinewidth\":2}}},\"geo\":{\"domain\":{\"x\":[0.0,1.0],\"y\":[0.0,1.0]},\"center\":{}},\"coloraxis\":{\"colorbar\":{\"title\":{\"text\":\"Wine\"}},\"colorscale\":[[0.0,\"rgb(94,79,162)\"],[0.1,\"rgb(50,136,189)\"],[0.2,\"rgb(102,194,165)\"],[0.3,\"rgb(171,221,164)\"],[0.4,\"rgb(230,245,152)\"],[0.5,\"rgb(255,255,191)\"],[0.6,\"rgb(254,224,139)\"],[0.7,\"rgb(253,174,97)\"],[0.8,\"rgb(244,109,67)\"],[0.9,\"rgb(213,62,79)\"],[1.0,\"rgb(158,1,66)\"]]},\"legend\":{\"tracegroupgap\":0},\"margin\":{\"t\":60},\"title\":{\"text\":\"Wine Consumption\",\"xanchor\":\"center\",\"yanchor\":\"top\",\"x\":0}},                        {\"responsive\": true}                    ).then(function(){\n",
              "                            \n",
              "var gd = document.getElementById('cbab0eff-3e83-4d36-bf0a-364e26671599');\n",
              "var x = new MutationObserver(function (mutations, observer) {{\n",
              "        var display = window.getComputedStyle(gd).display;\n",
              "        if (!display || display === 'none') {{\n",
              "            console.log([gd, 'removed!']);\n",
              "            Plotly.purge(gd);\n",
              "            observer.disconnect();\n",
              "        }}\n",
              "}});\n",
              "\n",
              "// Listen for the removal of the full notebook cells\n",
              "var notebookContainer = gd.closest('#notebook-container');\n",
              "if (notebookContainer) {{\n",
              "    x.observe(notebookContainer, {childList: true});\n",
              "}}\n",
              "\n",
              "// Listen for the clearing of the current output cell\n",
              "var outputEl = gd.closest('.output');\n",
              "if (outputEl) {{\n",
              "    x.observe(outputEl, {childList: true});\n",
              "}}\n",
              "\n",
              "                        })                };                            </script>        </div>\n",
              "</body>\n",
              "</html>"
            ]
          },
          "metadata": {}
        }
      ]
    },
    {
      "cell_type": "code",
      "metadata": {
        "colab": {
          "base_uri": "https://localhost:8080/",
          "height": 542
        },
        "id": "K-e4oLI_fck7",
        "outputId": "b1856792-4f84-421f-b528-314e8331b330"
      },
      "source": [
        "fig = px.choropleth(merged,\n",
        "                    locations='country_code',\n",
        "                    color='Spirits',\n",
        "                    color_continuous_scale='spectral_r',\n",
        "                    hover_name='Country',\n",
        "                    \n",
        "                    #labels={'Cost per capita ($)':'Total Cost per capita in $'\n",
        "                    )\n",
        "\n",
        "fig.update_layout(title={'text':'Spirits Consumption',\n",
        "                         'xanchor':'center',\n",
        "                        'yanchor':'top',\n",
        "                        'x':0})\n",
        "fig.show()"
      ],
      "execution_count": 75,
      "outputs": [
        {
          "output_type": "display_data",
          "data": {
            "text/html": [
              "<html>\n",
              "<head><meta charset=\"utf-8\" /></head>\n",
              "<body>\n",
              "    <div>            <script src=\"https://cdnjs.cloudflare.com/ajax/libs/mathjax/2.7.5/MathJax.js?config=TeX-AMS-MML_SVG\"></script><script type=\"text/javascript\">if (window.MathJax) {MathJax.Hub.Config({SVG: {font: \"STIX-Web\"}});}</script>                <script type=\"text/javascript\">window.PlotlyConfig = {MathJaxConfig: 'local'};</script>\n",
              "        <script src=\"https://cdn.plot.ly/plotly-2.6.3.min.js\"></script>                <div id=\"42567c1a-90a5-4e10-bddb-de39b548d8b1\" class=\"plotly-graph-div\" style=\"height:525px; width:100%;\"></div>            <script type=\"text/javascript\">                                    window.PLOTLYENV=window.PLOTLYENV || {};                                    if (document.getElementById(\"42567c1a-90a5-4e10-bddb-de39b548d8b1\")) {                    Plotly.newPlot(                        \"42567c1a-90a5-4e10-bddb-de39b548d8b1\",                        [{\"coloraxis\":\"coloraxis\",\"geo\":\"geo\",\"hovertemplate\":\"<b>%{hovertext}</b><br><br>country_code=%{location}<br>Spirits=%{z}<extra></extra>\",\"hovertext\":[\"Fiji\",\"United Republic of Tanzania\",\"Canada\",\"United States of America\",\"Kazakhstan\",\"Uzbekistan\",\"Papua New Guinea\",\"Indonesia\",\"Argentina\",\"Chile\",\"Democratic Republic of the Congo\",\"Somalia\",\"Kenya\",\"Sudan\",\"Chad\",\"Haiti\",\"Dominican Republic\",\"Norway\",\"South Africa\",\"Lesotho\",\"Mexico\",\"Uruguay\",\"Brazil\",\"Peru\",\"Colombia\",\"Panama\",\"Costa Rica\",\"Nicaragua\",\"Honduras\",\"El Salvador\",\"Guatemala\",\"Belize\",\"Guyana\",\"Suriname\",\"France\",\"Ecuador\",\"Jamaica\",\"Cuba\",\"Zimbabwe\",\"Botswana\",\"Namibia\",\"Senegal\",\"Mali\",\"Mauritania\",\"Benin\",\"Niger\",\"Nigeria\",\"Cameroon\",\"Togo\",\"Ghana\",\"Guinea\",\"Guinea-Bissau\",\"Liberia\",\"Sierra Leone\",\"Burkina Faso\",\"Central African Republic\",\"Gabon\",\"Equatorial Guinea\",\"Zambia\",\"Malawi\",\"Mozambique\",\"Angola\",\"Burundi\",\"Israel\",\"Lebanon\",\"Madagascar\",\"Gambia\",\"Tunisia\",\"Algeria\",\"Jordan\",\"United Arab Emirates\",\"Qatar\",\"Kuwait\",\"Iraq\",\"Oman\",\"Vanuatu\",\"Cambodia\",\"Thailand\",\"Myanmar\",\"Mongolia\",\"India\",\"Bangladesh\",\"Bhutan\",\"Nepal\",\"Pakistan\",\"Afghanistan\",\"Tajikistan\",\"Kyrgyzstan\",\"Turkmenistan\",\"Armenia\",\"Sweden\",\"Belarus\",\"Ukraine\",\"Poland\",\"Austria\",\"Hungary\",\"Romania\",\"Lithuania\",\"Latvia\",\"Estonia\",\"Germany\",\"Bulgaria\",\"Greece\",\"Turkey\",\"Albania\",\"Croatia\",\"Switzerland\",\"Luxembourg\",\"Belgium\",\"Netherlands\",\"Portugal\",\"Spain\",\"Ireland\",\"Solomon Islands\",\"New Zealand\",\"Australia\",\"Sri Lanka\",\"China\",\"Italy\",\"Denmark\",\"Iceland\",\"Azerbaijan\",\"Georgia\",\"Philippines\",\"Malaysia\",\"Slovenia\",\"Finland\",\"Slovakia\",\"Czechia\",\"Eritrea\",\"Japan\",\"Paraguay\",\"Yemen\",\"Saudi Arabia\",\"Cyprus\",\"Morocco\",\"Egypt\",\"Libya\",\"Ethiopia\",\"Djibouti\",\"Uganda\",\"Rwanda\",\"Bosnia and Herzegovina\",\"Montenegro\",\"Trinidad and Tobago\"],\"locations\":[\"FJI\",\"TZA\",\"CAN\",\"USA\",\"KAZ\",\"UZB\",\"PNG\",\"IDN\",\"ARG\",\"CHL\",\"COD\",\"SOM\",\"KEN\",\"SDN\",\"TCD\",\"HTI\",\"DOM\",\"NOR\",\"ZAF\",\"LSO\",\"MEX\",\"URY\",\"BRA\",\"PER\",\"COL\",\"PAN\",\"CRI\",\"NIC\",\"HND\",\"SLV\",\"GTM\",\"BLZ\",\"GUY\",\"SUR\",\"FRA\",\"ECU\",\"JAM\",\"CUB\",\"ZWE\",\"BWA\",\"NAM\",\"SEN\",\"MLI\",\"MRT\",\"BEN\",\"NER\",\"NGA\",\"CMR\",\"TGO\",\"GHA\",\"GIN\",\"GNB\",\"LBR\",\"SLE\",\"BFA\",\"CAF\",\"GAB\",\"GNQ\",\"ZMB\",\"MWI\",\"MOZ\",\"AGO\",\"BDI\",\"ISR\",\"LBN\",\"MDG\",\"GMB\",\"TUN\",\"DZA\",\"JOR\",\"ARE\",\"QAT\",\"KWT\",\"IRQ\",\"OMN\",\"VUT\",\"KHM\",\"THA\",\"MMR\",\"MNG\",\"IND\",\"BGD\",\"BTN\",\"NPL\",\"PAK\",\"AFG\",\"TJK\",\"KGZ\",\"TKM\",\"ARM\",\"SWE\",\"BLR\",\"UKR\",\"POL\",\"AUT\",\"HUN\",\"ROU\",\"LTU\",\"LVA\",\"EST\",\"DEU\",\"BGR\",\"GRC\",\"TUR\",\"ALB\",\"HRV\",\"CHE\",\"LUX\",\"BEL\",\"NLD\",\"PRT\",\"ESP\",\"IRL\",\"SLB\",\"NZL\",\"AUS\",\"LKA\",\"CHN\",\"ITA\",\"DNK\",\"ISL\",\"AZE\",\"GEO\",\"PHL\",\"MYS\",\"SVN\",\"FIN\",\"SVK\",\"CZE\",\"ERI\",\"JPN\",\"PRY\",\"YEM\",\"SAU\",\"CYP\",\"MAR\",\"EGY\",\"LBY\",\"ETH\",\"DJI\",\"UGA\",\"RWA\",\"BIH\",\"MNE\",\"TTO\"],\"name\":\"\",\"z\":[0.79,0.38,2.1,3.29,1.05,2.19,0.6,0.02,0.72,2.43,0.05,0.0,0.81,0.29,0.01,2.26,2.18,1.0,1.31,0.31,0.19,0.71,2.0,2.26,0.92,1.2,0.36,2.1,1.09,1.37,0.68,1.19,2.3,2.87,2.3,0.61,1.66,2.69,0.39,0.96,0.53,0.02,0.02,0.0,0.2,0.06,0.4,0.01,0.2,0.39,0.03,0.54,2.28,0.15,0.31,0.02,0.5,0.99,0.36,0.25,0.21,1.27,0.0,1.16,0.53,0.32,0.02,0.17,0.08,0.19,1.65,0.59,0.0,0.04,0.29,0.87,0.41,4.78,1.55,1.82,2.85,0.0,0.0,0.13,0.04,0.01,0.45,3.35,0.98,2.78,1.0,4.67,2.88,4.36,1.9,3.5,2.25,4.96,5.3,4.6,1.97,4.96,1.45,0.35,1.43,1.37,1.76,2.14,1.09,1.36,1.34,2.34,2.29,0.02,1.62,1.32,2.32,2.63,0.83,1.66,1.22,0.94,2.52,3.34,0.11,1.26,1.96,4.14,3.24,0.0,1.63,1.59,0.0,0.0,4.02,0.09,0.04,0.0,0.2,0.14,0.5,0.09,0.62,3.22,2.65],\"type\":\"choropleth\"}],                        {\"template\":{\"data\":{\"bar\":[{\"error_x\":{\"color\":\"#2a3f5f\"},\"error_y\":{\"color\":\"#2a3f5f\"},\"marker\":{\"line\":{\"color\":\"#E5ECF6\",\"width\":0.5},\"pattern\":{\"fillmode\":\"overlay\",\"size\":10,\"solidity\":0.2}},\"type\":\"bar\"}],\"barpolar\":[{\"marker\":{\"line\":{\"color\":\"#E5ECF6\",\"width\":0.5},\"pattern\":{\"fillmode\":\"overlay\",\"size\":10,\"solidity\":0.2}},\"type\":\"barpolar\"}],\"carpet\":[{\"aaxis\":{\"endlinecolor\":\"#2a3f5f\",\"gridcolor\":\"white\",\"linecolor\":\"white\",\"minorgridcolor\":\"white\",\"startlinecolor\":\"#2a3f5f\"},\"baxis\":{\"endlinecolor\":\"#2a3f5f\",\"gridcolor\":\"white\",\"linecolor\":\"white\",\"minorgridcolor\":\"white\",\"startlinecolor\":\"#2a3f5f\"},\"type\":\"carpet\"}],\"choropleth\":[{\"colorbar\":{\"outlinewidth\":0,\"ticks\":\"\"},\"type\":\"choropleth\"}],\"contour\":[{\"colorbar\":{\"outlinewidth\":0,\"ticks\":\"\"},\"colorscale\":[[0.0,\"#0d0887\"],[0.1111111111111111,\"#46039f\"],[0.2222222222222222,\"#7201a8\"],[0.3333333333333333,\"#9c179e\"],[0.4444444444444444,\"#bd3786\"],[0.5555555555555556,\"#d8576b\"],[0.6666666666666666,\"#ed7953\"],[0.7777777777777778,\"#fb9f3a\"],[0.8888888888888888,\"#fdca26\"],[1.0,\"#f0f921\"]],\"type\":\"contour\"}],\"contourcarpet\":[{\"colorbar\":{\"outlinewidth\":0,\"ticks\":\"\"},\"type\":\"contourcarpet\"}],\"heatmap\":[{\"colorbar\":{\"outlinewidth\":0,\"ticks\":\"\"},\"colorscale\":[[0.0,\"#0d0887\"],[0.1111111111111111,\"#46039f\"],[0.2222222222222222,\"#7201a8\"],[0.3333333333333333,\"#9c179e\"],[0.4444444444444444,\"#bd3786\"],[0.5555555555555556,\"#d8576b\"],[0.6666666666666666,\"#ed7953\"],[0.7777777777777778,\"#fb9f3a\"],[0.8888888888888888,\"#fdca26\"],[1.0,\"#f0f921\"]],\"type\":\"heatmap\"}],\"heatmapgl\":[{\"colorbar\":{\"outlinewidth\":0,\"ticks\":\"\"},\"colorscale\":[[0.0,\"#0d0887\"],[0.1111111111111111,\"#46039f\"],[0.2222222222222222,\"#7201a8\"],[0.3333333333333333,\"#9c179e\"],[0.4444444444444444,\"#bd3786\"],[0.5555555555555556,\"#d8576b\"],[0.6666666666666666,\"#ed7953\"],[0.7777777777777778,\"#fb9f3a\"],[0.8888888888888888,\"#fdca26\"],[1.0,\"#f0f921\"]],\"type\":\"heatmapgl\"}],\"histogram\":[{\"marker\":{\"pattern\":{\"fillmode\":\"overlay\",\"size\":10,\"solidity\":0.2}},\"type\":\"histogram\"}],\"histogram2d\":[{\"colorbar\":{\"outlinewidth\":0,\"ticks\":\"\"},\"colorscale\":[[0.0,\"#0d0887\"],[0.1111111111111111,\"#46039f\"],[0.2222222222222222,\"#7201a8\"],[0.3333333333333333,\"#9c179e\"],[0.4444444444444444,\"#bd3786\"],[0.5555555555555556,\"#d8576b\"],[0.6666666666666666,\"#ed7953\"],[0.7777777777777778,\"#fb9f3a\"],[0.8888888888888888,\"#fdca26\"],[1.0,\"#f0f921\"]],\"type\":\"histogram2d\"}],\"histogram2dcontour\":[{\"colorbar\":{\"outlinewidth\":0,\"ticks\":\"\"},\"colorscale\":[[0.0,\"#0d0887\"],[0.1111111111111111,\"#46039f\"],[0.2222222222222222,\"#7201a8\"],[0.3333333333333333,\"#9c179e\"],[0.4444444444444444,\"#bd3786\"],[0.5555555555555556,\"#d8576b\"],[0.6666666666666666,\"#ed7953\"],[0.7777777777777778,\"#fb9f3a\"],[0.8888888888888888,\"#fdca26\"],[1.0,\"#f0f921\"]],\"type\":\"histogram2dcontour\"}],\"mesh3d\":[{\"colorbar\":{\"outlinewidth\":0,\"ticks\":\"\"},\"type\":\"mesh3d\"}],\"parcoords\":[{\"line\":{\"colorbar\":{\"outlinewidth\":0,\"ticks\":\"\"}},\"type\":\"parcoords\"}],\"pie\":[{\"automargin\":true,\"type\":\"pie\"}],\"scatter\":[{\"marker\":{\"colorbar\":{\"outlinewidth\":0,\"ticks\":\"\"}},\"type\":\"scatter\"}],\"scatter3d\":[{\"line\":{\"colorbar\":{\"outlinewidth\":0,\"ticks\":\"\"}},\"marker\":{\"colorbar\":{\"outlinewidth\":0,\"ticks\":\"\"}},\"type\":\"scatter3d\"}],\"scattercarpet\":[{\"marker\":{\"colorbar\":{\"outlinewidth\":0,\"ticks\":\"\"}},\"type\":\"scattercarpet\"}],\"scattergeo\":[{\"marker\":{\"colorbar\":{\"outlinewidth\":0,\"ticks\":\"\"}},\"type\":\"scattergeo\"}],\"scattergl\":[{\"marker\":{\"colorbar\":{\"outlinewidth\":0,\"ticks\":\"\"}},\"type\":\"scattergl\"}],\"scattermapbox\":[{\"marker\":{\"colorbar\":{\"outlinewidth\":0,\"ticks\":\"\"}},\"type\":\"scattermapbox\"}],\"scatterpolar\":[{\"marker\":{\"colorbar\":{\"outlinewidth\":0,\"ticks\":\"\"}},\"type\":\"scatterpolar\"}],\"scatterpolargl\":[{\"marker\":{\"colorbar\":{\"outlinewidth\":0,\"ticks\":\"\"}},\"type\":\"scatterpolargl\"}],\"scatterternary\":[{\"marker\":{\"colorbar\":{\"outlinewidth\":0,\"ticks\":\"\"}},\"type\":\"scatterternary\"}],\"surface\":[{\"colorbar\":{\"outlinewidth\":0,\"ticks\":\"\"},\"colorscale\":[[0.0,\"#0d0887\"],[0.1111111111111111,\"#46039f\"],[0.2222222222222222,\"#7201a8\"],[0.3333333333333333,\"#9c179e\"],[0.4444444444444444,\"#bd3786\"],[0.5555555555555556,\"#d8576b\"],[0.6666666666666666,\"#ed7953\"],[0.7777777777777778,\"#fb9f3a\"],[0.8888888888888888,\"#fdca26\"],[1.0,\"#f0f921\"]],\"type\":\"surface\"}],\"table\":[{\"cells\":{\"fill\":{\"color\":\"#EBF0F8\"},\"line\":{\"color\":\"white\"}},\"header\":{\"fill\":{\"color\":\"#C8D4E3\"},\"line\":{\"color\":\"white\"}},\"type\":\"table\"}]},\"layout\":{\"annotationdefaults\":{\"arrowcolor\":\"#2a3f5f\",\"arrowhead\":0,\"arrowwidth\":1},\"autotypenumbers\":\"strict\",\"coloraxis\":{\"colorbar\":{\"outlinewidth\":0,\"ticks\":\"\"}},\"colorscale\":{\"diverging\":[[0,\"#8e0152\"],[0.1,\"#c51b7d\"],[0.2,\"#de77ae\"],[0.3,\"#f1b6da\"],[0.4,\"#fde0ef\"],[0.5,\"#f7f7f7\"],[0.6,\"#e6f5d0\"],[0.7,\"#b8e186\"],[0.8,\"#7fbc41\"],[0.9,\"#4d9221\"],[1,\"#276419\"]],\"sequential\":[[0.0,\"#0d0887\"],[0.1111111111111111,\"#46039f\"],[0.2222222222222222,\"#7201a8\"],[0.3333333333333333,\"#9c179e\"],[0.4444444444444444,\"#bd3786\"],[0.5555555555555556,\"#d8576b\"],[0.6666666666666666,\"#ed7953\"],[0.7777777777777778,\"#fb9f3a\"],[0.8888888888888888,\"#fdca26\"],[1.0,\"#f0f921\"]],\"sequentialminus\":[[0.0,\"#0d0887\"],[0.1111111111111111,\"#46039f\"],[0.2222222222222222,\"#7201a8\"],[0.3333333333333333,\"#9c179e\"],[0.4444444444444444,\"#bd3786\"],[0.5555555555555556,\"#d8576b\"],[0.6666666666666666,\"#ed7953\"],[0.7777777777777778,\"#fb9f3a\"],[0.8888888888888888,\"#fdca26\"],[1.0,\"#f0f921\"]]},\"colorway\":[\"#636efa\",\"#EF553B\",\"#00cc96\",\"#ab63fa\",\"#FFA15A\",\"#19d3f3\",\"#FF6692\",\"#B6E880\",\"#FF97FF\",\"#FECB52\"],\"font\":{\"color\":\"#2a3f5f\"},\"geo\":{\"bgcolor\":\"white\",\"lakecolor\":\"white\",\"landcolor\":\"#E5ECF6\",\"showlakes\":true,\"showland\":true,\"subunitcolor\":\"white\"},\"hoverlabel\":{\"align\":\"left\"},\"hovermode\":\"closest\",\"mapbox\":{\"style\":\"light\"},\"paper_bgcolor\":\"white\",\"plot_bgcolor\":\"#E5ECF6\",\"polar\":{\"angularaxis\":{\"gridcolor\":\"white\",\"linecolor\":\"white\",\"ticks\":\"\"},\"bgcolor\":\"#E5ECF6\",\"radialaxis\":{\"gridcolor\":\"white\",\"linecolor\":\"white\",\"ticks\":\"\"}},\"scene\":{\"xaxis\":{\"backgroundcolor\":\"#E5ECF6\",\"gridcolor\":\"white\",\"gridwidth\":2,\"linecolor\":\"white\",\"showbackground\":true,\"ticks\":\"\",\"zerolinecolor\":\"white\"},\"yaxis\":{\"backgroundcolor\":\"#E5ECF6\",\"gridcolor\":\"white\",\"gridwidth\":2,\"linecolor\":\"white\",\"showbackground\":true,\"ticks\":\"\",\"zerolinecolor\":\"white\"},\"zaxis\":{\"backgroundcolor\":\"#E5ECF6\",\"gridcolor\":\"white\",\"gridwidth\":2,\"linecolor\":\"white\",\"showbackground\":true,\"ticks\":\"\",\"zerolinecolor\":\"white\"}},\"shapedefaults\":{\"line\":{\"color\":\"#2a3f5f\"}},\"ternary\":{\"aaxis\":{\"gridcolor\":\"white\",\"linecolor\":\"white\",\"ticks\":\"\"},\"baxis\":{\"gridcolor\":\"white\",\"linecolor\":\"white\",\"ticks\":\"\"},\"bgcolor\":\"#E5ECF6\",\"caxis\":{\"gridcolor\":\"white\",\"linecolor\":\"white\",\"ticks\":\"\"}},\"title\":{\"x\":0.05},\"xaxis\":{\"automargin\":true,\"gridcolor\":\"white\",\"linecolor\":\"white\",\"ticks\":\"\",\"title\":{\"standoff\":15},\"zerolinecolor\":\"white\",\"zerolinewidth\":2},\"yaxis\":{\"automargin\":true,\"gridcolor\":\"white\",\"linecolor\":\"white\",\"ticks\":\"\",\"title\":{\"standoff\":15},\"zerolinecolor\":\"white\",\"zerolinewidth\":2}}},\"geo\":{\"domain\":{\"x\":[0.0,1.0],\"y\":[0.0,1.0]},\"center\":{}},\"coloraxis\":{\"colorbar\":{\"title\":{\"text\":\"Spirits\"}},\"colorscale\":[[0.0,\"rgb(94,79,162)\"],[0.1,\"rgb(50,136,189)\"],[0.2,\"rgb(102,194,165)\"],[0.3,\"rgb(171,221,164)\"],[0.4,\"rgb(230,245,152)\"],[0.5,\"rgb(255,255,191)\"],[0.6,\"rgb(254,224,139)\"],[0.7,\"rgb(253,174,97)\"],[0.8,\"rgb(244,109,67)\"],[0.9,\"rgb(213,62,79)\"],[1.0,\"rgb(158,1,66)\"]]},\"legend\":{\"tracegroupgap\":0},\"margin\":{\"t\":60},\"title\":{\"text\":\"Spirits Consumption\",\"xanchor\":\"center\",\"yanchor\":\"top\",\"x\":0}},                        {\"responsive\": true}                    ).then(function(){\n",
              "                            \n",
              "var gd = document.getElementById('42567c1a-90a5-4e10-bddb-de39b548d8b1');\n",
              "var x = new MutationObserver(function (mutations, observer) {{\n",
              "        var display = window.getComputedStyle(gd).display;\n",
              "        if (!display || display === 'none') {{\n",
              "            console.log([gd, 'removed!']);\n",
              "            Plotly.purge(gd);\n",
              "            observer.disconnect();\n",
              "        }}\n",
              "}});\n",
              "\n",
              "// Listen for the removal of the full notebook cells\n",
              "var notebookContainer = gd.closest('#notebook-container');\n",
              "if (notebookContainer) {{\n",
              "    x.observe(notebookContainer, {childList: true});\n",
              "}}\n",
              "\n",
              "// Listen for the clearing of the current output cell\n",
              "var outputEl = gd.closest('.output');\n",
              "if (outputEl) {{\n",
              "    x.observe(outputEl, {childList: true});\n",
              "}}\n",
              "\n",
              "                        })                };                            </script>        </div>\n",
              "</body>\n",
              "</html>"
            ]
          },
          "metadata": {}
        }
      ]
    },
    {
      "cell_type": "markdown",
      "metadata": {
        "id": "2MdBvEMcWZxV"
      },
      "source": [
        "# US ACCIDENTS- ALCOHOL RELATED ANALYSIS"
      ]
    },
    {
      "cell_type": "markdown",
      "metadata": {
        "id": "tcNp_GdAWd_f"
      },
      "source": [
        "Dataset Link :\n",
        " https://www.nhtsa.gov/file-downloads?p=nhtsa/downloads/FARS/2019/National/\n",
        " "
      ]
    },
    {
      "cell_type": "code",
      "metadata": {
        "colab": {
          "base_uri": "https://localhost:8080/"
        },
        "id": "nZa07sSbMUX9",
        "outputId": "d26136da-5be4-4b54-a735-33c84f8673bc"
      },
      "source": [
        "accid_df = pd.read_csv('/content/accident_us.CSV', encoding= 'unicode_escape')"
      ],
      "execution_count": 16,
      "outputs": [
        {
          "output_type": "stream",
          "name": "stderr",
          "text": [
            "/usr/local/lib/python3.7/dist-packages/IPython/core/interactiveshell.py:2718: DtypeWarning: Columns (40,42,69) have mixed types.Specify dtype option on import or set low_memory=False.\n",
            "  interactivity=interactivity, compiler=compiler, result=result)\n"
          ]
        }
      ]
    },
    {
      "cell_type": "code",
      "metadata": {
        "colab": {
          "base_uri": "https://localhost:8080/",
          "height": 568
        },
        "id": "fcVYtqKWXiNA",
        "outputId": "e88e8abb-21f6-46c6-cdaa-2091d3f348a5"
      },
      "source": [
        "accid_df.head()"
      ],
      "execution_count": 17,
      "outputs": [
        {
          "output_type": "execute_result",
          "data": {
            "text/html": [
              "<div>\n",
              "<style scoped>\n",
              "    .dataframe tbody tr th:only-of-type {\n",
              "        vertical-align: middle;\n",
              "    }\n",
              "\n",
              "    .dataframe tbody tr th {\n",
              "        vertical-align: top;\n",
              "    }\n",
              "\n",
              "    .dataframe thead th {\n",
              "        text-align: right;\n",
              "    }\n",
              "</style>\n",
              "<table border=\"1\" class=\"dataframe\">\n",
              "  <thead>\n",
              "    <tr style=\"text-align: right;\">\n",
              "      <th></th>\n",
              "      <th>STATE</th>\n",
              "      <th>STATENAME</th>\n",
              "      <th>ST_CASE</th>\n",
              "      <th>VE_TOTAL</th>\n",
              "      <th>VE_FORMS</th>\n",
              "      <th>PVH_INVL</th>\n",
              "      <th>PEDS</th>\n",
              "      <th>PERSONS</th>\n",
              "      <th>PERMVIT</th>\n",
              "      <th>PERNOTMVIT</th>\n",
              "      <th>COUNTY</th>\n",
              "      <th>COUNTYNAME</th>\n",
              "      <th>CITY</th>\n",
              "      <th>CITYNAME</th>\n",
              "      <th>DAY</th>\n",
              "      <th>DAYNAME</th>\n",
              "      <th>MONTH</th>\n",
              "      <th>MONTHNAME</th>\n",
              "      <th>YEAR</th>\n",
              "      <th>DAY_WEEK</th>\n",
              "      <th>DAY_WEEKNAME</th>\n",
              "      <th>HOUR</th>\n",
              "      <th>HOURNAME</th>\n",
              "      <th>MINUTE</th>\n",
              "      <th>MINUTENAME</th>\n",
              "      <th>NHS</th>\n",
              "      <th>NHSNAME</th>\n",
              "      <th>ROUTE</th>\n",
              "      <th>ROUTENAME</th>\n",
              "      <th>TWAY_ID</th>\n",
              "      <th>TWAY_ID2</th>\n",
              "      <th>RUR_URB</th>\n",
              "      <th>RUR_URBNAME</th>\n",
              "      <th>FUNC_SYS</th>\n",
              "      <th>FUNC_SYSNAME</th>\n",
              "      <th>RD_OWNER</th>\n",
              "      <th>RD_OWNERNAME</th>\n",
              "      <th>MILEPT</th>\n",
              "      <th>MILEPTNAME</th>\n",
              "      <th>LATITUDE</th>\n",
              "      <th>...</th>\n",
              "      <th>RELJCT2</th>\n",
              "      <th>RELJCT2NAME</th>\n",
              "      <th>TYP_INT</th>\n",
              "      <th>TYP_INTNAME</th>\n",
              "      <th>WRK_ZONE</th>\n",
              "      <th>WRK_ZONENAME</th>\n",
              "      <th>REL_ROAD</th>\n",
              "      <th>REL_ROADNAME</th>\n",
              "      <th>LGT_COND</th>\n",
              "      <th>LGT_CONDNAME</th>\n",
              "      <th>WEATHER1</th>\n",
              "      <th>WEATHER1NAME</th>\n",
              "      <th>WEATHER2</th>\n",
              "      <th>WEATHER2NAME</th>\n",
              "      <th>WEATHER</th>\n",
              "      <th>WEATHERNAME</th>\n",
              "      <th>SCH_BUS</th>\n",
              "      <th>SCH_BUSNAME</th>\n",
              "      <th>RAIL</th>\n",
              "      <th>RAILNAME</th>\n",
              "      <th>NOT_HOUR</th>\n",
              "      <th>NOT_HOURNAME</th>\n",
              "      <th>NOT_MIN</th>\n",
              "      <th>NOT_MINNAME</th>\n",
              "      <th>ARR_HOUR</th>\n",
              "      <th>ARR_HOURNAME</th>\n",
              "      <th>ARR_MIN</th>\n",
              "      <th>ARR_MINNAME</th>\n",
              "      <th>HOSP_HR</th>\n",
              "      <th>HOSP_HRNAME</th>\n",
              "      <th>HOSP_MN</th>\n",
              "      <th>HOSP_MNNAME</th>\n",
              "      <th>CF1</th>\n",
              "      <th>CF1NAME</th>\n",
              "      <th>CF2</th>\n",
              "      <th>CF2NAME</th>\n",
              "      <th>CF3</th>\n",
              "      <th>CF3NAME</th>\n",
              "      <th>FATALS</th>\n",
              "      <th>DRUNK_DR</th>\n",
              "    </tr>\n",
              "  </thead>\n",
              "  <tbody>\n",
              "    <tr>\n",
              "      <th>0</th>\n",
              "      <td>1</td>\n",
              "      <td>Alabama</td>\n",
              "      <td>10001</td>\n",
              "      <td>2</td>\n",
              "      <td>2</td>\n",
              "      <td>0</td>\n",
              "      <td>0</td>\n",
              "      <td>3</td>\n",
              "      <td>3</td>\n",
              "      <td>0</td>\n",
              "      <td>81</td>\n",
              "      <td>LEE (81)</td>\n",
              "      <td>2340</td>\n",
              "      <td>OPELIKA</td>\n",
              "      <td>7</td>\n",
              "      <td>7</td>\n",
              "      <td>2</td>\n",
              "      <td>February</td>\n",
              "      <td>2019</td>\n",
              "      <td>5</td>\n",
              "      <td>Thursday</td>\n",
              "      <td>12</td>\n",
              "      <td>12:00pm-12:59pm</td>\n",
              "      <td>54</td>\n",
              "      <td>54</td>\n",
              "      <td>1</td>\n",
              "      <td>This section IS ON the NHS</td>\n",
              "      <td>1</td>\n",
              "      <td>Interstate</td>\n",
              "      <td>I-85</td>\n",
              "      <td>NaN</td>\n",
              "      <td>2</td>\n",
              "      <td>Urban</td>\n",
              "      <td>1</td>\n",
              "      <td>Interstate</td>\n",
              "      <td>1</td>\n",
              "      <td>State Highway Agency</td>\n",
              "      <td>641</td>\n",
              "      <td>641</td>\n",
              "      <td>32.666222</td>\n",
              "      <td>...</td>\n",
              "      <td>1</td>\n",
              "      <td>Non-Junction</td>\n",
              "      <td>1</td>\n",
              "      <td>Not an Intersection</td>\n",
              "      <td>0</td>\n",
              "      <td>None</td>\n",
              "      <td>1</td>\n",
              "      <td>On Roadway</td>\n",
              "      <td>1</td>\n",
              "      <td>Daylight</td>\n",
              "      <td>1</td>\n",
              "      <td>Clear</td>\n",
              "      <td>0</td>\n",
              "      <td>No Additional Atmospheric Conditions</td>\n",
              "      <td>1</td>\n",
              "      <td>Clear</td>\n",
              "      <td>0</td>\n",
              "      <td>No</td>\n",
              "      <td>0</td>\n",
              "      <td>Not Applicable</td>\n",
              "      <td>12</td>\n",
              "      <td>12:00pm-12:59pm</td>\n",
              "      <td>59</td>\n",
              "      <td>59</td>\n",
              "      <td>13</td>\n",
              "      <td>1:00pm-1:59pm</td>\n",
              "      <td>9</td>\n",
              "      <td>9</td>\n",
              "      <td>13</td>\n",
              "      <td>1:00pm-1:59pm</td>\n",
              "      <td>27</td>\n",
              "      <td>27</td>\n",
              "      <td>0</td>\n",
              "      <td>None</td>\n",
              "      <td>0</td>\n",
              "      <td>None</td>\n",
              "      <td>0</td>\n",
              "      <td>None</td>\n",
              "      <td>1</td>\n",
              "      <td>1</td>\n",
              "    </tr>\n",
              "    <tr>\n",
              "      <th>1</th>\n",
              "      <td>1</td>\n",
              "      <td>Alabama</td>\n",
              "      <td>10002</td>\n",
              "      <td>2</td>\n",
              "      <td>2</td>\n",
              "      <td>0</td>\n",
              "      <td>0</td>\n",
              "      <td>2</td>\n",
              "      <td>2</td>\n",
              "      <td>0</td>\n",
              "      <td>55</td>\n",
              "      <td>ETOWAH (55)</td>\n",
              "      <td>1280</td>\n",
              "      <td>GADSDEN</td>\n",
              "      <td>23</td>\n",
              "      <td>23</td>\n",
              "      <td>1</td>\n",
              "      <td>January</td>\n",
              "      <td>2019</td>\n",
              "      <td>4</td>\n",
              "      <td>Wednesday</td>\n",
              "      <td>18</td>\n",
              "      <td>6:00pm-6:59pm</td>\n",
              "      <td>3</td>\n",
              "      <td>3</td>\n",
              "      <td>1</td>\n",
              "      <td>This section IS ON the NHS</td>\n",
              "      <td>1</td>\n",
              "      <td>Interstate</td>\n",
              "      <td>I-759</td>\n",
              "      <td>NaN</td>\n",
              "      <td>2</td>\n",
              "      <td>Urban</td>\n",
              "      <td>1</td>\n",
              "      <td>Interstate</td>\n",
              "      <td>1</td>\n",
              "      <td>State Highway Agency</td>\n",
              "      <td>15</td>\n",
              "      <td>15</td>\n",
              "      <td>33.997828</td>\n",
              "      <td>...</td>\n",
              "      <td>1</td>\n",
              "      <td>Non-Junction</td>\n",
              "      <td>1</td>\n",
              "      <td>Not an Intersection</td>\n",
              "      <td>0</td>\n",
              "      <td>None</td>\n",
              "      <td>1</td>\n",
              "      <td>On Roadway</td>\n",
              "      <td>2</td>\n",
              "      <td>Dark - Not Lighted</td>\n",
              "      <td>2</td>\n",
              "      <td>Rain</td>\n",
              "      <td>0</td>\n",
              "      <td>No Additional Atmospheric Conditions</td>\n",
              "      <td>2</td>\n",
              "      <td>Rain</td>\n",
              "      <td>0</td>\n",
              "      <td>No</td>\n",
              "      <td>0</td>\n",
              "      <td>Not Applicable</td>\n",
              "      <td>18</td>\n",
              "      <td>6:00pm-6:59pm</td>\n",
              "      <td>3</td>\n",
              "      <td>3</td>\n",
              "      <td>18</td>\n",
              "      <td>6:00pm-6:59pm</td>\n",
              "      <td>7</td>\n",
              "      <td>7</td>\n",
              "      <td>99</td>\n",
              "      <td>Unknown</td>\n",
              "      <td>99</td>\n",
              "      <td>Unknown EMS Hospital Arrival Time</td>\n",
              "      <td>0</td>\n",
              "      <td>None</td>\n",
              "      <td>0</td>\n",
              "      <td>None</td>\n",
              "      <td>0</td>\n",
              "      <td>None</td>\n",
              "      <td>1</td>\n",
              "      <td>0</td>\n",
              "    </tr>\n",
              "    <tr>\n",
              "      <th>2</th>\n",
              "      <td>1</td>\n",
              "      <td>Alabama</td>\n",
              "      <td>10003</td>\n",
              "      <td>3</td>\n",
              "      <td>3</td>\n",
              "      <td>0</td>\n",
              "      <td>0</td>\n",
              "      <td>4</td>\n",
              "      <td>4</td>\n",
              "      <td>0</td>\n",
              "      <td>29</td>\n",
              "      <td>CLEBURNE (29)</td>\n",
              "      <td>0</td>\n",
              "      <td>NOT APPLICABLE</td>\n",
              "      <td>22</td>\n",
              "      <td>22</td>\n",
              "      <td>1</td>\n",
              "      <td>January</td>\n",
              "      <td>2019</td>\n",
              "      <td>3</td>\n",
              "      <td>Tuesday</td>\n",
              "      <td>19</td>\n",
              "      <td>7:00pm-7:59pm</td>\n",
              "      <td>0</td>\n",
              "      <td>0</td>\n",
              "      <td>1</td>\n",
              "      <td>This section IS ON the NHS</td>\n",
              "      <td>1</td>\n",
              "      <td>Interstate</td>\n",
              "      <td>I-20</td>\n",
              "      <td>NaN</td>\n",
              "      <td>1</td>\n",
              "      <td>Rural</td>\n",
              "      <td>1</td>\n",
              "      <td>Interstate</td>\n",
              "      <td>1</td>\n",
              "      <td>State Highway Agency</td>\n",
              "      <td>2118</td>\n",
              "      <td>2118</td>\n",
              "      <td>33.660842</td>\n",
              "      <td>...</td>\n",
              "      <td>1</td>\n",
              "      <td>Non-Junction</td>\n",
              "      <td>1</td>\n",
              "      <td>Not an Intersection</td>\n",
              "      <td>0</td>\n",
              "      <td>None</td>\n",
              "      <td>1</td>\n",
              "      <td>On Roadway</td>\n",
              "      <td>2</td>\n",
              "      <td>Dark - Not Lighted</td>\n",
              "      <td>10</td>\n",
              "      <td>Cloudy</td>\n",
              "      <td>0</td>\n",
              "      <td>No Additional Atmospheric Conditions</td>\n",
              "      <td>10</td>\n",
              "      <td>Cloudy</td>\n",
              "      <td>0</td>\n",
              "      <td>No</td>\n",
              "      <td>0</td>\n",
              "      <td>Not Applicable</td>\n",
              "      <td>19</td>\n",
              "      <td>7:00pm-7:59pm</td>\n",
              "      <td>2</td>\n",
              "      <td>2</td>\n",
              "      <td>19</td>\n",
              "      <td>7:00pm-7:59pm</td>\n",
              "      <td>12</td>\n",
              "      <td>12</td>\n",
              "      <td>20</td>\n",
              "      <td>8:00pm-8:59pm</td>\n",
              "      <td>5</td>\n",
              "      <td>5</td>\n",
              "      <td>14</td>\n",
              "      <td>Motor Vehicle struck by falling cargo,or somet...</td>\n",
              "      <td>0</td>\n",
              "      <td>None</td>\n",
              "      <td>0</td>\n",
              "      <td>None</td>\n",
              "      <td>1</td>\n",
              "      <td>0</td>\n",
              "    </tr>\n",
              "    <tr>\n",
              "      <th>3</th>\n",
              "      <td>1</td>\n",
              "      <td>Alabama</td>\n",
              "      <td>10004</td>\n",
              "      <td>1</td>\n",
              "      <td>1</td>\n",
              "      <td>0</td>\n",
              "      <td>1</td>\n",
              "      <td>1</td>\n",
              "      <td>1</td>\n",
              "      <td>1</td>\n",
              "      <td>55</td>\n",
              "      <td>ETOWAH (55)</td>\n",
              "      <td>2562</td>\n",
              "      <td>RAINBOW CITY</td>\n",
              "      <td>22</td>\n",
              "      <td>22</td>\n",
              "      <td>1</td>\n",
              "      <td>January</td>\n",
              "      <td>2019</td>\n",
              "      <td>3</td>\n",
              "      <td>Tuesday</td>\n",
              "      <td>3</td>\n",
              "      <td>3:00am-3:59am</td>\n",
              "      <td>15</td>\n",
              "      <td>15</td>\n",
              "      <td>1</td>\n",
              "      <td>This section IS ON the NHS</td>\n",
              "      <td>1</td>\n",
              "      <td>Interstate</td>\n",
              "      <td>I-59</td>\n",
              "      <td>NaN</td>\n",
              "      <td>1</td>\n",
              "      <td>Rural</td>\n",
              "      <td>1</td>\n",
              "      <td>Interstate</td>\n",
              "      <td>1</td>\n",
              "      <td>State Highway Agency</td>\n",
              "      <td>1775</td>\n",
              "      <td>1775</td>\n",
              "      <td>33.956472</td>\n",
              "      <td>...</td>\n",
              "      <td>1</td>\n",
              "      <td>Non-Junction</td>\n",
              "      <td>1</td>\n",
              "      <td>Not an Intersection</td>\n",
              "      <td>0</td>\n",
              "      <td>None</td>\n",
              "      <td>1</td>\n",
              "      <td>On Roadway</td>\n",
              "      <td>2</td>\n",
              "      <td>Dark - Not Lighted</td>\n",
              "      <td>1</td>\n",
              "      <td>Clear</td>\n",
              "      <td>0</td>\n",
              "      <td>No Additional Atmospheric Conditions</td>\n",
              "      <td>1</td>\n",
              "      <td>Clear</td>\n",
              "      <td>0</td>\n",
              "      <td>No</td>\n",
              "      <td>0</td>\n",
              "      <td>Not Applicable</td>\n",
              "      <td>3</td>\n",
              "      <td>3:00am-3:59am</td>\n",
              "      <td>4</td>\n",
              "      <td>4</td>\n",
              "      <td>3</td>\n",
              "      <td>3:00am-3:59am</td>\n",
              "      <td>11</td>\n",
              "      <td>11</td>\n",
              "      <td>88</td>\n",
              "      <td>Not Applicable (Not Transported)</td>\n",
              "      <td>88</td>\n",
              "      <td>Not Applicable (Not Transported)</td>\n",
              "      <td>0</td>\n",
              "      <td>None</td>\n",
              "      <td>0</td>\n",
              "      <td>None</td>\n",
              "      <td>0</td>\n",
              "      <td>None</td>\n",
              "      <td>1</td>\n",
              "      <td>0</td>\n",
              "    </tr>\n",
              "    <tr>\n",
              "      <th>4</th>\n",
              "      <td>1</td>\n",
              "      <td>Alabama</td>\n",
              "      <td>10005</td>\n",
              "      <td>1</td>\n",
              "      <td>1</td>\n",
              "      <td>0</td>\n",
              "      <td>0</td>\n",
              "      <td>1</td>\n",
              "      <td>1</td>\n",
              "      <td>0</td>\n",
              "      <td>3</td>\n",
              "      <td>BALDWIN (3)</td>\n",
              "      <td>0</td>\n",
              "      <td>NOT APPLICABLE</td>\n",
              "      <td>18</td>\n",
              "      <td>18</td>\n",
              "      <td>1</td>\n",
              "      <td>January</td>\n",
              "      <td>2019</td>\n",
              "      <td>6</td>\n",
              "      <td>Friday</td>\n",
              "      <td>5</td>\n",
              "      <td>5:00am-5:59am</td>\n",
              "      <td>50</td>\n",
              "      <td>50</td>\n",
              "      <td>1</td>\n",
              "      <td>This section IS ON the NHS</td>\n",
              "      <td>1</td>\n",
              "      <td>Interstate</td>\n",
              "      <td>I-10</td>\n",
              "      <td>NaN</td>\n",
              "      <td>2</td>\n",
              "      <td>Urban</td>\n",
              "      <td>1</td>\n",
              "      <td>Interstate</td>\n",
              "      <td>1</td>\n",
              "      <td>State Highway Agency</td>\n",
              "      <td>413</td>\n",
              "      <td>413</td>\n",
              "      <td>30.656269</td>\n",
              "      <td>...</td>\n",
              "      <td>1</td>\n",
              "      <td>Non-Junction</td>\n",
              "      <td>1</td>\n",
              "      <td>Not an Intersection</td>\n",
              "      <td>0</td>\n",
              "      <td>None</td>\n",
              "      <td>4</td>\n",
              "      <td>On Roadside</td>\n",
              "      <td>2</td>\n",
              "      <td>Dark - Not Lighted</td>\n",
              "      <td>5</td>\n",
              "      <td>Fog, Smog, Smoke</td>\n",
              "      <td>0</td>\n",
              "      <td>No Additional Atmospheric Conditions</td>\n",
              "      <td>5</td>\n",
              "      <td>Fog, Smog, Smoke</td>\n",
              "      <td>0</td>\n",
              "      <td>No</td>\n",
              "      <td>0</td>\n",
              "      <td>Not Applicable</td>\n",
              "      <td>99</td>\n",
              "      <td>Unknown</td>\n",
              "      <td>99</td>\n",
              "      <td>Unknown</td>\n",
              "      <td>6</td>\n",
              "      <td>6:00am-6:59am</td>\n",
              "      <td>0</td>\n",
              "      <td>0</td>\n",
              "      <td>88</td>\n",
              "      <td>Not Applicable (Not Transported)</td>\n",
              "      <td>88</td>\n",
              "      <td>Not Applicable (Not Transported)</td>\n",
              "      <td>0</td>\n",
              "      <td>None</td>\n",
              "      <td>0</td>\n",
              "      <td>None</td>\n",
              "      <td>0</td>\n",
              "      <td>None</td>\n",
              "      <td>1</td>\n",
              "      <td>1</td>\n",
              "    </tr>\n",
              "  </tbody>\n",
              "</table>\n",
              "<p>5 rows × 91 columns</p>\n",
              "</div>"
            ],
            "text/plain": [
              "   STATE STATENAME  ST_CASE  VE_TOTAL  ...  CF3  CF3NAME  FATALS  DRUNK_DR\n",
              "0      1   Alabama    10001         2  ...    0     None       1         1\n",
              "1      1   Alabama    10002         2  ...    0     None       1         0\n",
              "2      1   Alabama    10003         3  ...    0     None       1         0\n",
              "3      1   Alabama    10004         1  ...    0     None       1         0\n",
              "4      1   Alabama    10005         1  ...    0     None       1         1\n",
              "\n",
              "[5 rows x 91 columns]"
            ]
          },
          "metadata": {},
          "execution_count": 17
        }
      ]
    },
    {
      "cell_type": "code",
      "metadata": {
        "colab": {
          "base_uri": "https://localhost:8080/"
        },
        "id": "VqNa9T7XX_fY",
        "outputId": "b2f2a7cd-3b93-4665-cb12-874363d70c9a"
      },
      "source": [
        "accid_df.info()"
      ],
      "execution_count": 18,
      "outputs": [
        {
          "output_type": "stream",
          "name": "stdout",
          "text": [
            "<class 'pandas.core.frame.DataFrame'>\n",
            "RangeIndex: 33244 entries, 0 to 33243\n",
            "Data columns (total 91 columns):\n",
            " #   Column        Non-Null Count  Dtype  \n",
            "---  ------        --------------  -----  \n",
            " 0   STATE         33244 non-null  int64  \n",
            " 1   STATENAME     33244 non-null  object \n",
            " 2   ST_CASE       33244 non-null  int64  \n",
            " 3   VE_TOTAL      33244 non-null  int64  \n",
            " 4   VE_FORMS      33244 non-null  int64  \n",
            " 5   PVH_INVL      33244 non-null  int64  \n",
            " 6   PEDS          33244 non-null  int64  \n",
            " 7   PERSONS       33244 non-null  int64  \n",
            " 8   PERMVIT       33244 non-null  int64  \n",
            " 9   PERNOTMVIT    33244 non-null  int64  \n",
            " 10  COUNTY        33244 non-null  int64  \n",
            " 11  COUNTYNAME    33244 non-null  object \n",
            " 12  CITY          33244 non-null  int64  \n",
            " 13  CITYNAME      33244 non-null  object \n",
            " 14  DAY           33244 non-null  int64  \n",
            " 15  DAYNAME       33244 non-null  int64  \n",
            " 16  MONTH         33244 non-null  int64  \n",
            " 17  MONTHNAME     33244 non-null  object \n",
            " 18  YEAR          33244 non-null  int64  \n",
            " 19  DAY_WEEK      33244 non-null  int64  \n",
            " 20  DAY_WEEKNAME  33244 non-null  object \n",
            " 21  HOUR          33244 non-null  int64  \n",
            " 22  HOURNAME      33244 non-null  object \n",
            " 23  MINUTE        33244 non-null  int64  \n",
            " 24  MINUTENAME    33244 non-null  object \n",
            " 25  NHS           33244 non-null  int64  \n",
            " 26  NHSNAME       33244 non-null  object \n",
            " 27  ROUTE         33244 non-null  int64  \n",
            " 28  ROUTENAME     33244 non-null  object \n",
            " 29  TWAY_ID       33244 non-null  object \n",
            " 30  TWAY_ID2      8503 non-null   object \n",
            " 31  RUR_URB       33244 non-null  int64  \n",
            " 32  RUR_URBNAME   33244 non-null  object \n",
            " 33  FUNC_SYS      33244 non-null  int64  \n",
            " 34  FUNC_SYSNAME  33244 non-null  object \n",
            " 35  RD_OWNER      33244 non-null  int64  \n",
            " 36  RD_OWNERNAME  33244 non-null  object \n",
            " 37  MILEPT        33244 non-null  int64  \n",
            " 38  MILEPTNAME    33244 non-null  object \n",
            " 39  LATITUDE      33244 non-null  float64\n",
            " 40  LATITUDENAME  33244 non-null  object \n",
            " 41  LONGITUD      33244 non-null  float64\n",
            " 42  LONGITUDNAME  33244 non-null  object \n",
            " 43  SP_JUR        33244 non-null  int64  \n",
            " 44  SP_JURNAME    33244 non-null  object \n",
            " 45  HARM_EV       33244 non-null  int64  \n",
            " 46  HARM_EVNAME   33244 non-null  object \n",
            " 47  MAN_COLL      33244 non-null  int64  \n",
            " 48  MAN_COLLNAME  33244 non-null  object \n",
            " 49  RELJCT1       33244 non-null  int64  \n",
            " 50  RELJCT1NAME   33244 non-null  object \n",
            " 51  RELJCT2       33244 non-null  int64  \n",
            " 52  RELJCT2NAME   33244 non-null  object \n",
            " 53  TYP_INT       33244 non-null  int64  \n",
            " 54  TYP_INTNAME   33244 non-null  object \n",
            " 55  WRK_ZONE      33244 non-null  int64  \n",
            " 56  WRK_ZONENAME  33244 non-null  object \n",
            " 57  REL_ROAD      33244 non-null  int64  \n",
            " 58  REL_ROADNAME  33244 non-null  object \n",
            " 59  LGT_COND      33244 non-null  int64  \n",
            " 60  LGT_CONDNAME  33244 non-null  object \n",
            " 61  WEATHER1      33244 non-null  int64  \n",
            " 62  WEATHER1NAME  33244 non-null  object \n",
            " 63  WEATHER2      33244 non-null  int64  \n",
            " 64  WEATHER2NAME  33244 non-null  object \n",
            " 65  WEATHER       33244 non-null  int64  \n",
            " 66  WEATHERNAME   33244 non-null  object \n",
            " 67  SCH_BUS       33244 non-null  int64  \n",
            " 68  SCH_BUSNAME   33244 non-null  object \n",
            " 69  RAIL          33244 non-null  object \n",
            " 70  RAILNAME      33244 non-null  object \n",
            " 71  NOT_HOUR      33244 non-null  int64  \n",
            " 72  NOT_HOURNAME  33244 non-null  object \n",
            " 73  NOT_MIN       33244 non-null  int64  \n",
            " 74  NOT_MINNAME   33244 non-null  object \n",
            " 75  ARR_HOUR      33244 non-null  int64  \n",
            " 76  ARR_HOURNAME  33244 non-null  object \n",
            " 77  ARR_MIN       33244 non-null  int64  \n",
            " 78  ARR_MINNAME   33244 non-null  object \n",
            " 79  HOSP_HR       33244 non-null  int64  \n",
            " 80  HOSP_HRNAME   33244 non-null  object \n",
            " 81  HOSP_MN       33244 non-null  int64  \n",
            " 82  HOSP_MNNAME   33244 non-null  object \n",
            " 83  CF1           33244 non-null  int64  \n",
            " 84  CF1NAME       33244 non-null  object \n",
            " 85  CF2           33244 non-null  int64  \n",
            " 86  CF2NAME       33244 non-null  object \n",
            " 87  CF3           33244 non-null  int64  \n",
            " 88  CF3NAME       33244 non-null  object \n",
            " 89  FATALS        33244 non-null  int64  \n",
            " 90  DRUNK_DR      33244 non-null  int64  \n",
            "dtypes: float64(2), int64(48), object(41)\n",
            "memory usage: 23.1+ MB\n"
          ]
        }
      ]
    },
    {
      "cell_type": "markdown",
      "metadata": {
        "id": "rIQJ4Rm-YP5W"
      },
      "source": [
        "Here, we identify the important columns as:\n",
        "\n",
        "\n",
        "\n",
        "\n",
        "*   STATENAME\n",
        "\n",
        "*   STATE\n",
        "\n",
        "*   MONTH\n",
        "\n",
        "*   MONTHNAME\n",
        "*   HOUR\n",
        "\n",
        "*   ROUTENAME\n",
        "*   LATITUDE\n",
        "\n",
        "*   LONGITUD\n",
        "*   WEATHER1NAME\n",
        "\n",
        "*   DRUNK_DR\n",
        "\n",
        "\n",
        "\n",
        "\n",
        "\n",
        "\n",
        "\n",
        "\n",
        "\n",
        "\n",
        "\n"
      ]
    },
    {
      "cell_type": "code",
      "metadata": {
        "id": "qSXczsIGYFBG"
      },
      "source": [
        "accid_df.drop(accid_df.columns.difference(['STATENAME','STATE','MONTH','MONTHNAME', 'HOUR', 'ROUTENAME', 'LATITUDE', 'LONGITUD', 'WEATHER1NAME', 'DRUNK_DR']), 1, inplace=True)"
      ],
      "execution_count": 19,
      "outputs": []
    },
    {
      "cell_type": "code",
      "metadata": {
        "colab": {
          "base_uri": "https://localhost:8080/",
          "height": 959
        },
        "id": "PNP6I5qyZ2Z4",
        "outputId": "0541c155-5fbc-4e89-b534-513eef353e88"
      },
      "source": [
        "accid_df.head(29)"
      ],
      "execution_count": 20,
      "outputs": [
        {
          "output_type": "execute_result",
          "data": {
            "text/html": [
              "<div>\n",
              "<style scoped>\n",
              "    .dataframe tbody tr th:only-of-type {\n",
              "        vertical-align: middle;\n",
              "    }\n",
              "\n",
              "    .dataframe tbody tr th {\n",
              "        vertical-align: top;\n",
              "    }\n",
              "\n",
              "    .dataframe thead th {\n",
              "        text-align: right;\n",
              "    }\n",
              "</style>\n",
              "<table border=\"1\" class=\"dataframe\">\n",
              "  <thead>\n",
              "    <tr style=\"text-align: right;\">\n",
              "      <th></th>\n",
              "      <th>STATE</th>\n",
              "      <th>STATENAME</th>\n",
              "      <th>MONTH</th>\n",
              "      <th>MONTHNAME</th>\n",
              "      <th>HOUR</th>\n",
              "      <th>ROUTENAME</th>\n",
              "      <th>LATITUDE</th>\n",
              "      <th>LONGITUD</th>\n",
              "      <th>WEATHER1NAME</th>\n",
              "      <th>DRUNK_DR</th>\n",
              "    </tr>\n",
              "  </thead>\n",
              "  <tbody>\n",
              "    <tr>\n",
              "      <th>0</th>\n",
              "      <td>1</td>\n",
              "      <td>Alabama</td>\n",
              "      <td>2</td>\n",
              "      <td>February</td>\n",
              "      <td>12</td>\n",
              "      <td>Interstate</td>\n",
              "      <td>32.666222</td>\n",
              "      <td>-85.336658</td>\n",
              "      <td>Clear</td>\n",
              "      <td>1</td>\n",
              "    </tr>\n",
              "    <tr>\n",
              "      <th>1</th>\n",
              "      <td>1</td>\n",
              "      <td>Alabama</td>\n",
              "      <td>1</td>\n",
              "      <td>January</td>\n",
              "      <td>18</td>\n",
              "      <td>Interstate</td>\n",
              "      <td>33.997828</td>\n",
              "      <td>-86.053997</td>\n",
              "      <td>Rain</td>\n",
              "      <td>0</td>\n",
              "    </tr>\n",
              "    <tr>\n",
              "      <th>2</th>\n",
              "      <td>1</td>\n",
              "      <td>Alabama</td>\n",
              "      <td>1</td>\n",
              "      <td>January</td>\n",
              "      <td>19</td>\n",
              "      <td>Interstate</td>\n",
              "      <td>33.660842</td>\n",
              "      <td>-85.391011</td>\n",
              "      <td>Cloudy</td>\n",
              "      <td>0</td>\n",
              "    </tr>\n",
              "    <tr>\n",
              "      <th>3</th>\n",
              "      <td>1</td>\n",
              "      <td>Alabama</td>\n",
              "      <td>1</td>\n",
              "      <td>January</td>\n",
              "      <td>3</td>\n",
              "      <td>Interstate</td>\n",
              "      <td>33.956472</td>\n",
              "      <td>-86.140522</td>\n",
              "      <td>Clear</td>\n",
              "      <td>0</td>\n",
              "    </tr>\n",
              "    <tr>\n",
              "      <th>4</th>\n",
              "      <td>1</td>\n",
              "      <td>Alabama</td>\n",
              "      <td>1</td>\n",
              "      <td>January</td>\n",
              "      <td>5</td>\n",
              "      <td>Interstate</td>\n",
              "      <td>30.656269</td>\n",
              "      <td>-87.809461</td>\n",
              "      <td>Fog, Smog, Smoke</td>\n",
              "      <td>1</td>\n",
              "    </tr>\n",
              "    <tr>\n",
              "      <th>5</th>\n",
              "      <td>1</td>\n",
              "      <td>Alabama</td>\n",
              "      <td>1</td>\n",
              "      <td>January</td>\n",
              "      <td>12</td>\n",
              "      <td>Interstate</td>\n",
              "      <td>32.183306</td>\n",
              "      <td>-86.424683</td>\n",
              "      <td>Clear</td>\n",
              "      <td>0</td>\n",
              "    </tr>\n",
              "    <tr>\n",
              "      <th>6</th>\n",
              "      <td>1</td>\n",
              "      <td>Alabama</td>\n",
              "      <td>1</td>\n",
              "      <td>January</td>\n",
              "      <td>9</td>\n",
              "      <td>Interstate</td>\n",
              "      <td>34.012775</td>\n",
              "      <td>-86.074814</td>\n",
              "      <td>Cloudy</td>\n",
              "      <td>0</td>\n",
              "    </tr>\n",
              "    <tr>\n",
              "      <th>7</th>\n",
              "      <td>1</td>\n",
              "      <td>Alabama</td>\n",
              "      <td>2</td>\n",
              "      <td>February</td>\n",
              "      <td>21</td>\n",
              "      <td>County Road</td>\n",
              "      <td>31.068686</td>\n",
              "      <td>-85.333658</td>\n",
              "      <td>Clear</td>\n",
              "      <td>1</td>\n",
              "    </tr>\n",
              "    <tr>\n",
              "      <th>8</th>\n",
              "      <td>1</td>\n",
              "      <td>Alabama</td>\n",
              "      <td>2</td>\n",
              "      <td>February</td>\n",
              "      <td>7</td>\n",
              "      <td>Local Street - Municipality</td>\n",
              "      <td>30.279125</td>\n",
              "      <td>-87.677108</td>\n",
              "      <td>Clear</td>\n",
              "      <td>0</td>\n",
              "    </tr>\n",
              "    <tr>\n",
              "      <th>9</th>\n",
              "      <td>1</td>\n",
              "      <td>Alabama</td>\n",
              "      <td>2</td>\n",
              "      <td>February</td>\n",
              "      <td>5</td>\n",
              "      <td>Local Street - Municipality</td>\n",
              "      <td>32.344300</td>\n",
              "      <td>-86.317081</td>\n",
              "      <td>Clear</td>\n",
              "      <td>0</td>\n",
              "    </tr>\n",
              "    <tr>\n",
              "      <th>10</th>\n",
              "      <td>1</td>\n",
              "      <td>Alabama</td>\n",
              "      <td>1</td>\n",
              "      <td>January</td>\n",
              "      <td>1</td>\n",
              "      <td>State Highway</td>\n",
              "      <td>33.104300</td>\n",
              "      <td>-85.773344</td>\n",
              "      <td>Rain</td>\n",
              "      <td>1</td>\n",
              "    </tr>\n",
              "    <tr>\n",
              "      <th>11</th>\n",
              "      <td>1</td>\n",
              "      <td>Alabama</td>\n",
              "      <td>1</td>\n",
              "      <td>January</td>\n",
              "      <td>18</td>\n",
              "      <td>County Road</td>\n",
              "      <td>34.026453</td>\n",
              "      <td>-85.955872</td>\n",
              "      <td>Rain</td>\n",
              "      <td>0</td>\n",
              "    </tr>\n",
              "    <tr>\n",
              "      <th>12</th>\n",
              "      <td>1</td>\n",
              "      <td>Alabama</td>\n",
              "      <td>1</td>\n",
              "      <td>January</td>\n",
              "      <td>21</td>\n",
              "      <td>U.S. Highway</td>\n",
              "      <td>31.159875</td>\n",
              "      <td>-85.402417</td>\n",
              "      <td>Cloudy</td>\n",
              "      <td>0</td>\n",
              "    </tr>\n",
              "    <tr>\n",
              "      <th>13</th>\n",
              "      <td>1</td>\n",
              "      <td>Alabama</td>\n",
              "      <td>1</td>\n",
              "      <td>January</td>\n",
              "      <td>0</td>\n",
              "      <td>U.S. Highway</td>\n",
              "      <td>31.242592</td>\n",
              "      <td>-85.634628</td>\n",
              "      <td>Clear</td>\n",
              "      <td>0</td>\n",
              "    </tr>\n",
              "    <tr>\n",
              "      <th>14</th>\n",
              "      <td>1</td>\n",
              "      <td>Alabama</td>\n",
              "      <td>1</td>\n",
              "      <td>January</td>\n",
              "      <td>4</td>\n",
              "      <td>State Highway</td>\n",
              "      <td>31.848989</td>\n",
              "      <td>-86.630436</td>\n",
              "      <td>Clear</td>\n",
              "      <td>0</td>\n",
              "    </tr>\n",
              "    <tr>\n",
              "      <th>15</th>\n",
              "      <td>1</td>\n",
              "      <td>Alabama</td>\n",
              "      <td>1</td>\n",
              "      <td>January</td>\n",
              "      <td>14</td>\n",
              "      <td>Local Street - Municipality</td>\n",
              "      <td>30.632508</td>\n",
              "      <td>-88.145689</td>\n",
              "      <td>Clear</td>\n",
              "      <td>0</td>\n",
              "    </tr>\n",
              "    <tr>\n",
              "      <th>16</th>\n",
              "      <td>1</td>\n",
              "      <td>Alabama</td>\n",
              "      <td>1</td>\n",
              "      <td>January</td>\n",
              "      <td>14</td>\n",
              "      <td>U.S. Highway</td>\n",
              "      <td>33.655314</td>\n",
              "      <td>-86.811058</td>\n",
              "      <td>Clear</td>\n",
              "      <td>0</td>\n",
              "    </tr>\n",
              "    <tr>\n",
              "      <th>17</th>\n",
              "      <td>1</td>\n",
              "      <td>Alabama</td>\n",
              "      <td>1</td>\n",
              "      <td>January</td>\n",
              "      <td>22</td>\n",
              "      <td>County Road</td>\n",
              "      <td>30.297422</td>\n",
              "      <td>-87.671286</td>\n",
              "      <td>Clear</td>\n",
              "      <td>0</td>\n",
              "    </tr>\n",
              "    <tr>\n",
              "      <th>18</th>\n",
              "      <td>1</td>\n",
              "      <td>Alabama</td>\n",
              "      <td>1</td>\n",
              "      <td>January</td>\n",
              "      <td>13</td>\n",
              "      <td>County Road</td>\n",
              "      <td>33.978906</td>\n",
              "      <td>-86.268456</td>\n",
              "      <td>Clear</td>\n",
              "      <td>0</td>\n",
              "    </tr>\n",
              "    <tr>\n",
              "      <th>19</th>\n",
              "      <td>1</td>\n",
              "      <td>Alabama</td>\n",
              "      <td>1</td>\n",
              "      <td>January</td>\n",
              "      <td>1</td>\n",
              "      <td>U.S. Highway</td>\n",
              "      <td>30.492569</td>\n",
              "      <td>-88.289244</td>\n",
              "      <td>Clear</td>\n",
              "      <td>0</td>\n",
              "    </tr>\n",
              "    <tr>\n",
              "      <th>20</th>\n",
              "      <td>1</td>\n",
              "      <td>Alabama</td>\n",
              "      <td>1</td>\n",
              "      <td>January</td>\n",
              "      <td>18</td>\n",
              "      <td>County Road</td>\n",
              "      <td>33.696900</td>\n",
              "      <td>-85.879011</td>\n",
              "      <td>Clear</td>\n",
              "      <td>0</td>\n",
              "    </tr>\n",
              "    <tr>\n",
              "      <th>21</th>\n",
              "      <td>1</td>\n",
              "      <td>Alabama</td>\n",
              "      <td>1</td>\n",
              "      <td>January</td>\n",
              "      <td>6</td>\n",
              "      <td>State Highway</td>\n",
              "      <td>33.290986</td>\n",
              "      <td>-88.264822</td>\n",
              "      <td>Clear</td>\n",
              "      <td>0</td>\n",
              "    </tr>\n",
              "    <tr>\n",
              "      <th>22</th>\n",
              "      <td>1</td>\n",
              "      <td>Alabama</td>\n",
              "      <td>1</td>\n",
              "      <td>January</td>\n",
              "      <td>16</td>\n",
              "      <td>U.S. Highway</td>\n",
              "      <td>31.916353</td>\n",
              "      <td>-86.014483</td>\n",
              "      <td>Clear</td>\n",
              "      <td>0</td>\n",
              "    </tr>\n",
              "    <tr>\n",
              "      <th>23</th>\n",
              "      <td>1</td>\n",
              "      <td>Alabama</td>\n",
              "      <td>1</td>\n",
              "      <td>January</td>\n",
              "      <td>13</td>\n",
              "      <td>County Road</td>\n",
              "      <td>34.695411</td>\n",
              "      <td>-85.565831</td>\n",
              "      <td>Clear</td>\n",
              "      <td>0</td>\n",
              "    </tr>\n",
              "    <tr>\n",
              "      <th>24</th>\n",
              "      <td>1</td>\n",
              "      <td>Alabama</td>\n",
              "      <td>1</td>\n",
              "      <td>January</td>\n",
              "      <td>7</td>\n",
              "      <td>Local Street - Municipality</td>\n",
              "      <td>34.749350</td>\n",
              "      <td>-86.594556</td>\n",
              "      <td>Clear</td>\n",
              "      <td>0</td>\n",
              "    </tr>\n",
              "    <tr>\n",
              "      <th>25</th>\n",
              "      <td>1</td>\n",
              "      <td>Alabama</td>\n",
              "      <td>1</td>\n",
              "      <td>January</td>\n",
              "      <td>6</td>\n",
              "      <td>County Road</td>\n",
              "      <td>31.406711</td>\n",
              "      <td>-86.602833</td>\n",
              "      <td>Clear</td>\n",
              "      <td>0</td>\n",
              "    </tr>\n",
              "    <tr>\n",
              "      <th>26</th>\n",
              "      <td>1</td>\n",
              "      <td>Alabama</td>\n",
              "      <td>1</td>\n",
              "      <td>January</td>\n",
              "      <td>13</td>\n",
              "      <td>State Highway</td>\n",
              "      <td>33.875978</td>\n",
              "      <td>-86.654247</td>\n",
              "      <td>Cloudy</td>\n",
              "      <td>0</td>\n",
              "    </tr>\n",
              "    <tr>\n",
              "      <th>27</th>\n",
              "      <td>1</td>\n",
              "      <td>Alabama</td>\n",
              "      <td>1</td>\n",
              "      <td>January</td>\n",
              "      <td>16</td>\n",
              "      <td>U.S. Highway</td>\n",
              "      <td>33.170528</td>\n",
              "      <td>-87.486125</td>\n",
              "      <td>Rain</td>\n",
              "      <td>1</td>\n",
              "    </tr>\n",
              "    <tr>\n",
              "      <th>28</th>\n",
              "      <td>1</td>\n",
              "      <td>Alabama</td>\n",
              "      <td>1</td>\n",
              "      <td>January</td>\n",
              "      <td>8</td>\n",
              "      <td>County Road</td>\n",
              "      <td>33.902128</td>\n",
              "      <td>-85.841386</td>\n",
              "      <td>Cloudy</td>\n",
              "      <td>0</td>\n",
              "    </tr>\n",
              "  </tbody>\n",
              "</table>\n",
              "</div>"
            ],
            "text/plain": [
              "    STATE STATENAME  MONTH  ...   LONGITUD      WEATHER1NAME DRUNK_DR\n",
              "0       1   Alabama      2  ... -85.336658             Clear        1\n",
              "1       1   Alabama      1  ... -86.053997              Rain        0\n",
              "2       1   Alabama      1  ... -85.391011            Cloudy        0\n",
              "3       1   Alabama      1  ... -86.140522             Clear        0\n",
              "4       1   Alabama      1  ... -87.809461  Fog, Smog, Smoke        1\n",
              "5       1   Alabama      1  ... -86.424683             Clear        0\n",
              "6       1   Alabama      1  ... -86.074814            Cloudy        0\n",
              "7       1   Alabama      2  ... -85.333658             Clear        1\n",
              "8       1   Alabama      2  ... -87.677108             Clear        0\n",
              "9       1   Alabama      2  ... -86.317081             Clear        0\n",
              "10      1   Alabama      1  ... -85.773344              Rain        1\n",
              "11      1   Alabama      1  ... -85.955872              Rain        0\n",
              "12      1   Alabama      1  ... -85.402417            Cloudy        0\n",
              "13      1   Alabama      1  ... -85.634628             Clear        0\n",
              "14      1   Alabama      1  ... -86.630436             Clear        0\n",
              "15      1   Alabama      1  ... -88.145689             Clear        0\n",
              "16      1   Alabama      1  ... -86.811058             Clear        0\n",
              "17      1   Alabama      1  ... -87.671286             Clear        0\n",
              "18      1   Alabama      1  ... -86.268456             Clear        0\n",
              "19      1   Alabama      1  ... -88.289244             Clear        0\n",
              "20      1   Alabama      1  ... -85.879011             Clear        0\n",
              "21      1   Alabama      1  ... -88.264822             Clear        0\n",
              "22      1   Alabama      1  ... -86.014483             Clear        0\n",
              "23      1   Alabama      1  ... -85.565831             Clear        0\n",
              "24      1   Alabama      1  ... -86.594556             Clear        0\n",
              "25      1   Alabama      1  ... -86.602833             Clear        0\n",
              "26      1   Alabama      1  ... -86.654247            Cloudy        0\n",
              "27      1   Alabama      1  ... -87.486125              Rain        1\n",
              "28      1   Alabama      1  ... -85.841386            Cloudy        0\n",
              "\n",
              "[29 rows x 10 columns]"
            ]
          },
          "metadata": {},
          "execution_count": 20
        }
      ]
    },
    {
      "cell_type": "code",
      "metadata": {
        "colab": {
          "base_uri": "https://localhost:8080/",
          "height": 297
        },
        "id": "6ep8PSPtZ4-w",
        "outputId": "86a572d2-9e2c-491d-e2bc-019f87e62292"
      },
      "source": [
        "sns.boxplot(data=accid_df,x='DRUNK_DR',color='yellow')"
      ],
      "execution_count": 21,
      "outputs": [
        {
          "output_type": "execute_result",
          "data": {
            "text/plain": [
              "<matplotlib.axes._subplots.AxesSubplot at 0x7f8310fc3510>"
            ]
          },
          "metadata": {},
          "execution_count": 21
        },
        {
          "output_type": "display_data",
          "data": {
            "image/png": "[encoded data removed]",
            "text/plain": [
              "<Figure size 432x288 with 1 Axes>"
            ]
          },
          "metadata": {
            "needs_background": "light"
          }
        }
      ]
    },
    {
      "cell_type": "markdown",
      "metadata": {
        "id": "NNxgViXWgLzc"
      },
      "source": [
        "Here, we see that there are certain outliers in the DRUNK_DR attribute, which should ideally be 1 and 0 only.\n",
        "We drop them and clean the data."
      ]
    },
    {
      "cell_type": "markdown",
      "metadata": {
        "id": "3HA-Sejqg67V"
      },
      "source": [
        "count of values other than 1 and 0 in drunk_dr attribute"
      ]
    },
    {
      "cell_type": "code",
      "metadata": {
        "colab": {
          "base_uri": "https://localhost:8080/"
        },
        "id": "bohTORTAg_mA",
        "outputId": "35c069b4-4f4e-4c23-d47f-ebd599a20ece"
      },
      "source": [
        "accid_df['DRUNK_DR'].value_counts()"
      ],
      "execution_count": 22,
      "outputs": [
        {
          "output_type": "execute_result",
          "data": {
            "text/plain": [
              "0    24833\n",
              "1     8161\n",
              "2      249\n",
              "4        1\n",
              "Name: DRUNK_DR, dtype: int64"
            ]
          },
          "metadata": {},
          "execution_count": 22
        }
      ]
    },
    {
      "cell_type": "markdown",
      "metadata": {
        "id": "UV7LYoTEhVjf"
      },
      "source": [
        "Since there are very less number of unknown data, we can consider it as outliers and drop from the data"
      ]
    },
    {
      "cell_type": "code",
      "metadata": {
        "id": "-uOr0sQtf6eS"
      },
      "source": [
        "accid_df.drop(accid_df.loc[accid_df['DRUNK_DR']==4].index, inplace=True)\n",
        "accid_df.drop(accid_df.loc[accid_df['DRUNK_DR']==2].index, inplace=True)"
      ],
      "execution_count": 23,
      "outputs": []
    },
    {
      "cell_type": "code",
      "metadata": {
        "colab": {
          "base_uri": "https://localhost:8080/",
          "height": 297
        },
        "id": "Q-8IXsgEgoUM",
        "outputId": "957fa82f-21cd-44fe-fbfe-c2bfa67596d3"
      },
      "source": [
        "sns.histplot(data=accid_df,x='DRUNK_DR',color='red')"
      ],
      "execution_count": 24,
      "outputs": [
        {
          "output_type": "execute_result",
          "data": {
            "text/plain": [
              "<matplotlib.axes._subplots.AxesSubplot at 0x7f8310f5f7d0>"
            ]
          },
          "metadata": {},
          "execution_count": 24
        },
        {
          "output_type": "display_data",
          "data": {
            "image/png": "[encoded data removed]",
            "text/plain": [
              "<Figure size 432x288 with 1 Axes>"
            ]
          },
          "metadata": {
            "needs_background": "light"
          }
        }
      ]
    },
    {
      "cell_type": "markdown",
      "metadata": {
        "id": "HwzTHHWugyc7"
      },
      "source": [
        "Now, we only have the dataset which contains only the correct attribute values."
      ]
    },
    {
      "cell_type": "markdown",
      "metadata": {
        "id": "qNpGdx7lh4L_"
      },
      "source": [
        "Lets visualize this data."
      ]
    },
    {
      "cell_type": "code",
      "metadata": {
        "id": "4TWbBRPLgseB"
      },
      "source": [
        "y1 = accid_df[accid_df['DRUNK_DR']==0].groupby('STATENAME').size()\n",
        "y2 = accid_df[accid_df['DRUNK_DR']==1].groupby('STATENAME').size()\n",
        "x = accid_df['STATENAME'].unique()\n",
        "sn = accid_df['STATE'].unique()\n"
      ],
      "execution_count": 25,
      "outputs": []
    },
    {
      "cell_type": "code",
      "metadata": {
        "colab": {
          "base_uri": "https://localhost:8080/",
          "height": 206
        },
        "id": "Vci7Kf41MTiV",
        "outputId": "687b802e-d75f-4a32-9796-be51fc084dd4"
      },
      "source": [
        "df_piv = pd.DataFrame({'STATENAME':x,'STATE':sn,'not_drunk':y1,'drunk':y2})\n",
        "df_piv.reset_index(drop=True, inplace=True)\n",
        "df_piv.head()"
      ],
      "execution_count": 26,
      "outputs": [
        {
          "output_type": "execute_result",
          "data": {
            "text/html": [
              "<div>\n",
              "<style scoped>\n",
              "    .dataframe tbody tr th:only-of-type {\n",
              "        vertical-align: middle;\n",
              "    }\n",
              "\n",
              "    .dataframe tbody tr th {\n",
              "        vertical-align: top;\n",
              "    }\n",
              "\n",
              "    .dataframe thead th {\n",
              "        text-align: right;\n",
              "    }\n",
              "</style>\n",
              "<table border=\"1\" class=\"dataframe\">\n",
              "  <thead>\n",
              "    <tr style=\"text-align: right;\">\n",
              "      <th></th>\n",
              "      <th>STATENAME</th>\n",
              "      <th>STATE</th>\n",
              "      <th>not_drunk</th>\n",
              "      <th>drunk</th>\n",
              "    </tr>\n",
              "  </thead>\n",
              "  <tbody>\n",
              "    <tr>\n",
              "      <th>0</th>\n",
              "      <td>Alabama</td>\n",
              "      <td>1</td>\n",
              "      <td>631</td>\n",
              "      <td>220</td>\n",
              "    </tr>\n",
              "    <tr>\n",
              "      <th>1</th>\n",
              "      <td>Alaska</td>\n",
              "      <td>2</td>\n",
              "      <td>40</td>\n",
              "      <td>20</td>\n",
              "    </tr>\n",
              "    <tr>\n",
              "      <th>2</th>\n",
              "      <td>Arizona</td>\n",
              "      <td>4</td>\n",
              "      <td>714</td>\n",
              "      <td>190</td>\n",
              "    </tr>\n",
              "    <tr>\n",
              "      <th>3</th>\n",
              "      <td>Arkansas</td>\n",
              "      <td>5</td>\n",
              "      <td>345</td>\n",
              "      <td>120</td>\n",
              "    </tr>\n",
              "    <tr>\n",
              "      <th>4</th>\n",
              "      <td>California</td>\n",
              "      <td>6</td>\n",
              "      <td>2493</td>\n",
              "      <td>802</td>\n",
              "    </tr>\n",
              "  </tbody>\n",
              "</table>\n",
              "</div>"
            ],
            "text/plain": [
              "    STATENAME  STATE  not_drunk  drunk\n",
              "0     Alabama      1        631    220\n",
              "1      Alaska      2         40     20\n",
              "2     Arizona      4        714    190\n",
              "3    Arkansas      5        345    120\n",
              "4  California      6       2493    802"
            ]
          },
          "metadata": {},
          "execution_count": 26
        }
      ]
    },
    {
      "cell_type": "markdown",
      "metadata": {
        "id": "fmM-7a3-nnIU"
      },
      "source": [
        "Here, we notice that since the states in the united differe in the population, we cannot compare the statistics based on value counts of number of alcohol influenced accidents.\n",
        "\n",
        "Thus, we calculate the percentage of accidents which are under the influence of alcohol of the total number of accidents in each state, and use this attribute to analyse the data."
      ]
    },
    {
      "cell_type": "code",
      "metadata": {
        "colab": {
          "base_uri": "https://localhost:8080/",
          "height": 206
        },
        "id": "2OmkrU6YnB_Q",
        "outputId": "a417979f-2114-4fcb-cc6a-314fb5d28d45"
      },
      "source": [
        "df_piv['perc_drunk'] = df_piv['drunk']/(df_piv['drunk']+df_piv['not_drunk'])\n",
        "df_piv.head()"
      ],
      "execution_count": 27,
      "outputs": [
        {
          "output_type": "execute_result",
          "data": {
            "text/html": [
              "<div>\n",
              "<style scoped>\n",
              "    .dataframe tbody tr th:only-of-type {\n",
              "        vertical-align: middle;\n",
              "    }\n",
              "\n",
              "    .dataframe tbody tr th {\n",
              "        vertical-align: top;\n",
              "    }\n",
              "\n",
              "    .dataframe thead th {\n",
              "        text-align: right;\n",
              "    }\n",
              "</style>\n",
              "<table border=\"1\" class=\"dataframe\">\n",
              "  <thead>\n",
              "    <tr style=\"text-align: right;\">\n",
              "      <th></th>\n",
              "      <th>STATENAME</th>\n",
              "      <th>STATE</th>\n",
              "      <th>not_drunk</th>\n",
              "      <th>drunk</th>\n",
              "      <th>perc_drunk</th>\n",
              "    </tr>\n",
              "  </thead>\n",
              "  <tbody>\n",
              "    <tr>\n",
              "      <th>0</th>\n",
              "      <td>Alabama</td>\n",
              "      <td>1</td>\n",
              "      <td>631</td>\n",
              "      <td>220</td>\n",
              "      <td>0.258519</td>\n",
              "    </tr>\n",
              "    <tr>\n",
              "      <th>1</th>\n",
              "      <td>Alaska</td>\n",
              "      <td>2</td>\n",
              "      <td>40</td>\n",
              "      <td>20</td>\n",
              "      <td>0.333333</td>\n",
              "    </tr>\n",
              "    <tr>\n",
              "      <th>2</th>\n",
              "      <td>Arizona</td>\n",
              "      <td>4</td>\n",
              "      <td>714</td>\n",
              "      <td>190</td>\n",
              "      <td>0.210177</td>\n",
              "    </tr>\n",
              "    <tr>\n",
              "      <th>3</th>\n",
              "      <td>Arkansas</td>\n",
              "      <td>5</td>\n",
              "      <td>345</td>\n",
              "      <td>120</td>\n",
              "      <td>0.258065</td>\n",
              "    </tr>\n",
              "    <tr>\n",
              "      <th>4</th>\n",
              "      <td>California</td>\n",
              "      <td>6</td>\n",
              "      <td>2493</td>\n",
              "      <td>802</td>\n",
              "      <td>0.243399</td>\n",
              "    </tr>\n",
              "  </tbody>\n",
              "</table>\n",
              "</div>"
            ],
            "text/plain": [
              "    STATENAME  STATE  not_drunk  drunk  perc_drunk\n",
              "0     Alabama      1        631    220    0.258519\n",
              "1      Alaska      2         40     20    0.333333\n",
              "2     Arizona      4        714    190    0.210177\n",
              "3    Arkansas      5        345    120    0.258065\n",
              "4  California      6       2493    802    0.243399"
            ]
          },
          "metadata": {},
          "execution_count": 27
        }
      ]
    },
    {
      "cell_type": "code",
      "metadata": {
        "id": "PuWHWNTRj7ua"
      },
      "source": [
        "piv_accid_df = pd.read_csv('/content/accident_us_pivot.CSV', encoding= 'unicode_escape')"
      ],
      "execution_count": 28,
      "outputs": []
    },
    {
      "cell_type": "code",
      "metadata": {
        "id": "bC7-YzVR3j25"
      },
      "source": [
        "piv_accid_df.sort_values(by = 'perc_drunk', ascending=False,inplace=True)"
      ],
      "execution_count": 29,
      "outputs": []
    },
    {
      "cell_type": "code",
      "metadata": {
        "id": "Q9p4i4L65N_L"
      },
      "source": [
        "piv_accid_df['perc_drunk'] = piv_accid_df['perc_drunk'] *100"
      ],
      "execution_count": 30,
      "outputs": []
    },
    {
      "cell_type": "code",
      "metadata": {
        "colab": {
          "base_uri": "https://localhost:8080/",
          "height": 206
        },
        "id": "Zx1gFCM9X69Z",
        "outputId": "e13e10fb-f3da-49ea-81a2-d08f16ff1343"
      },
      "source": [
        "piv_accid_df = df_piv\n",
        "piv_accid_df.sort_values(by = 'perc_drunk', ascending=False,inplace=True)\n",
        "piv_accid_df.head(5)"
      ],
      "execution_count": 31,
      "outputs": [
        {
          "output_type": "execute_result",
          "data": {
            "text/html": [
              "<div>\n",
              "<style scoped>\n",
              "    .dataframe tbody tr th:only-of-type {\n",
              "        vertical-align: middle;\n",
              "    }\n",
              "\n",
              "    .dataframe tbody tr th {\n",
              "        vertical-align: top;\n",
              "    }\n",
              "\n",
              "    .dataframe thead th {\n",
              "        text-align: right;\n",
              "    }\n",
              "</style>\n",
              "<table border=\"1\" class=\"dataframe\">\n",
              "  <thead>\n",
              "    <tr style=\"text-align: right;\">\n",
              "      <th></th>\n",
              "      <th>STATENAME</th>\n",
              "      <th>STATE</th>\n",
              "      <th>not_drunk</th>\n",
              "      <th>drunk</th>\n",
              "      <th>perc_drunk</th>\n",
              "    </tr>\n",
              "  </thead>\n",
              "  <tbody>\n",
              "    <tr>\n",
              "      <th>39</th>\n",
              "      <td>Rhode Island</td>\n",
              "      <td>44</td>\n",
              "      <td>23</td>\n",
              "      <td>28</td>\n",
              "      <td>0.549020</td>\n",
              "    </tr>\n",
              "    <tr>\n",
              "      <th>26</th>\n",
              "      <td>Montana</td>\n",
              "      <td>30</td>\n",
              "      <td>96</td>\n",
              "      <td>69</td>\n",
              "      <td>0.418182</td>\n",
              "    </tr>\n",
              "    <tr>\n",
              "      <th>34</th>\n",
              "      <td>North Dakota</td>\n",
              "      <td>38</td>\n",
              "      <td>54</td>\n",
              "      <td>37</td>\n",
              "      <td>0.406593</td>\n",
              "    </tr>\n",
              "    <tr>\n",
              "      <th>47</th>\n",
              "      <td>Washington</td>\n",
              "      <td>53</td>\n",
              "      <td>314</td>\n",
              "      <td>174</td>\n",
              "      <td>0.356557</td>\n",
              "    </tr>\n",
              "    <tr>\n",
              "      <th>12</th>\n",
              "      <td>Idaho</td>\n",
              "      <td>16</td>\n",
              "      <td>129</td>\n",
              "      <td>71</td>\n",
              "      <td>0.355000</td>\n",
              "    </tr>\n",
              "  </tbody>\n",
              "</table>\n",
              "</div>"
            ],
            "text/plain": [
              "       STATENAME  STATE  not_drunk  drunk  perc_drunk\n",
              "39  Rhode Island     44         23     28    0.549020\n",
              "26       Montana     30         96     69    0.418182\n",
              "34  North Dakota     38         54     37    0.406593\n",
              "47    Washington     53        314    174    0.356557\n",
              "12         Idaho     16        129     71    0.355000"
            ]
          },
          "metadata": {},
          "execution_count": 31
        }
      ]
    },
    {
      "cell_type": "code",
      "metadata": {
        "colab": {
          "base_uri": "https://localhost:8080/",
          "height": 699
        },
        "id": "0vPJUGnJ3o5m",
        "outputId": "fa091d2d-9f84-4622-e127-128412fa40ea"
      },
      "source": [
        "sns.set(rc = {'figure.figsize':(15,10)})\n",
        "sns.barplot(piv_accid_df['STATENAME'][:10],piv_accid_df['perc_drunk'][:10])\n",
        "plt.xlabel(\"STATE\")\n",
        "plt.ylabel(\"Perc. of Alcohol Related Accidents\")\n",
        "plt.title(\"Top 10 States with highest percentage of Alcohol related Accidents\")"
      ],
      "execution_count": 32,
      "outputs": [
        {
          "output_type": "stream",
          "name": "stderr",
          "text": [
            "/usr/local/lib/python3.7/dist-packages/seaborn/_decorators.py:43: FutureWarning: Pass the following variables as keyword args: x, y. From version 0.12, the only valid positional argument will be `data`, and passing other arguments without an explicit keyword will result in an error or misinterpretation.\n",
            "  FutureWarning\n"
          ]
        },
        {
          "output_type": "execute_result",
          "data": {
            "text/plain": [
              "Text(0.5, 1.0, 'Top 10 States with highest percentage of Alcohol related Accidents')"
            ]
          },
          "metadata": {},
          "execution_count": 32
        },
        {
          "output_type": "display_data",
          "data": {
            "image/png": "[encoded data removed]",
            "text/plain": [
              "<Figure size 1080x720 with 1 Axes>"
            ]
          },
          "metadata": {}
        }
      ]
    },
    {
      "cell_type": "code",
      "metadata": {
        "colab": {
          "base_uri": "https://localhost:8080/"
        },
        "id": "zeKeudh99ciX",
        "outputId": "58d7589f-1e00-4557-b65e-53b937438be9"
      },
      "source": [
        "!pip install --upgrade plotly"
      ],
      "execution_count": 33,
      "outputs": [
        {
          "output_type": "stream",
          "name": "stdout",
          "text": [
            "Requirement already satisfied: plotly in /usr/local/lib/python3.7/dist-packages (4.4.1)\n",
            "Collecting plotly\n",
            "  Downloading plotly-5.4.0-py2.py3-none-any.whl (25.3 MB)\n",
            "\u001b[K     |████████████████████████████████| 25.3 MB 61.8 MB/s \n",
            "\u001b[?25hCollecting tenacity>=6.2.0\n",
            "  Downloading tenacity-8.0.1-py3-none-any.whl (24 kB)\n",
            "Requirement already satisfied: six in /usr/local/lib/python3.7/dist-packages (from plotly) (1.15.0)\n",
            "Installing collected packages: tenacity, plotly\n",
            "  Attempting uninstall: plotly\n",
            "    Found existing installation: plotly 4.4.1\n",
            "    Uninstalling plotly-4.4.1:\n",
            "      Successfully uninstalled plotly-4.4.1\n",
            "Successfully installed plotly-5.4.0 tenacity-8.0.1\n"
          ]
        }
      ]
    },
    {
      "cell_type": "code",
      "metadata": {
        "id": "xTXckwCrU1at",
        "colab": {
          "base_uri": "https://localhost:8080/",
          "height": 683
        },
        "outputId": "007f37de-6e81-4d94-a90a-69bd3c189b79"
      },
      "source": [
        "sns.boxplot(accid_df['HOUR'])"
      ],
      "execution_count": 34,
      "outputs": [
        {
          "output_type": "stream",
          "name": "stderr",
          "text": [
            "/usr/local/lib/python3.7/dist-packages/seaborn/_decorators.py:43: FutureWarning: Pass the following variable as a keyword arg: x. From version 0.12, the only valid positional argument will be `data`, and passing other arguments without an explicit keyword will result in an error or misinterpretation.\n",
            "  FutureWarning\n"
          ]
        },
        {
          "output_type": "execute_result",
          "data": {
            "text/plain": [
              "<matplotlib.axes._subplots.AxesSubplot at 0x7f8310be6910>"
            ]
          },
          "metadata": {},
          "execution_count": 34
        },
        {
          "output_type": "display_data",
          "data": {
            "image/png": "[encoded data removed]",
            "text/plain": [
              "<Figure size 1080x720 with 1 Axes>"
            ]
          },
          "metadata": {}
        }
      ]
    },
    {
      "cell_type": "markdown",
      "metadata": {
        "id": "b3v-QIkQaa_7"
      },
      "source": [
        "Here, we notice that the Hourly data attribute has an outlier with the value outside the possiblt time range. \n",
        "\n",
        "We delete this row and clean our data."
      ]
    },
    {
      "cell_type": "code",
      "metadata": {
        "id": "p1M4BOhTaTkA"
      },
      "source": [
        "accid_df.drop(accid_df.loc[accid_df['HOUR']>23].index, inplace=True)"
      ],
      "execution_count": 35,
      "outputs": []
    },
    {
      "cell_type": "code",
      "metadata": {
        "colab": {
          "base_uri": "https://localhost:8080/",
          "height": 683
        },
        "id": "N9P_T7Vdau7N",
        "outputId": "c072d11c-65a9-4e52-835a-495dab8372f7"
      },
      "source": [
        "sns.boxplot(accid_df['HOUR'])"
      ],
      "execution_count": 36,
      "outputs": [
        {
          "output_type": "stream",
          "name": "stderr",
          "text": [
            "/usr/local/lib/python3.7/dist-packages/seaborn/_decorators.py:43: FutureWarning: Pass the following variable as a keyword arg: x. From version 0.12, the only valid positional argument will be `data`, and passing other arguments without an explicit keyword will result in an error or misinterpretation.\n",
            "  FutureWarning\n"
          ]
        },
        {
          "output_type": "execute_result",
          "data": {
            "text/plain": [
              "<matplotlib.axes._subplots.AxesSubplot at 0x7f8310b94a10>"
            ]
          },
          "metadata": {},
          "execution_count": 36
        },
        {
          "output_type": "display_data",
          "data": {
            "image/png": "[encoded data removed]",
            "text/plain": [
              "<Figure size 1080x720 with 1 Axes>"
            ]
          },
          "metadata": {}
        }
      ]
    },
    {
      "cell_type": "markdown",
      "metadata": {
        "id": "VKjlx8g1ayDS"
      },
      "source": [
        "Now, our data is more efficient and without outliers."
      ]
    },
    {
      "cell_type": "code",
      "metadata": {
        "colab": {
          "base_uri": "https://localhost:8080/"
        },
        "id": "aijIzm6Gawpl",
        "outputId": "9962a9b8-2bd9-4c9f-a31a-84b21e0c558f"
      },
      "source": [
        "h1 = accid_df[accid_df['DRUNK_DR']==1].groupby('HOUR').size()\n",
        "h0 = accid_df[accid_df['DRUNK_DR']==0].groupby('HOUR').size()\n",
        "h1"
      ],
      "execution_count": 37,
      "outputs": [
        {
          "output_type": "execute_result",
          "data": {
            "text/plain": [
              "HOUR\n",
              "0     559\n",
              "1     603\n",
              "2     591\n",
              "3     382\n",
              "4     257\n",
              "5     206\n",
              "6     173\n",
              "7     168\n",
              "8      90\n",
              "9      69\n",
              "10     79\n",
              "11    104\n",
              "12    137\n",
              "13    186\n",
              "14    217\n",
              "15    268\n",
              "16    303\n",
              "17    352\n",
              "18    471\n",
              "19    533\n",
              "20    526\n",
              "21    577\n",
              "22    586\n",
              "23    624\n",
              "dtype: int64"
            ]
          },
          "metadata": {},
          "execution_count": 37
        }
      ]
    },
    {
      "cell_type": "markdown",
      "metadata": {
        "id": "MOMjT6WcbBdl"
      },
      "source": [
        "Lets plot this value in an efficient visualization"
      ]
    },
    {
      "cell_type": "code",
      "metadata": {
        "colab": {
          "base_uri": "https://localhost:8080/"
        },
        "id": "EB5Krnrpbkbf",
        "outputId": "97d0eebc-501f-482c-df5c-074bbbdc8f87"
      },
      "source": [
        "np.linspace(0,23, num  = 24).astype('int')"
      ],
      "execution_count": 38,
      "outputs": [
        {
          "output_type": "execute_result",
          "data": {
            "text/plain": [
              "array([ 0,  1,  2,  3,  4,  5,  6,  7,  8,  9, 10, 11, 12, 13, 14, 15, 16,\n",
              "       17, 18, 19, 20, 21, 22, 23])"
            ]
          },
          "metadata": {},
          "execution_count": 38
        }
      ]
    },
    {
      "cell_type": "code",
      "metadata": {
        "colab": {
          "base_uri": "https://localhost:8080/",
          "height": 611
        },
        "id": "5yDrZxLIcUPn",
        "outputId": "fac14dfb-aeeb-42f7-c9ba-b484b024ae23"
      },
      "source": [
        "sns.barplot(x = np.linspace(0,23, num  = 24).astype('int'), y = h1)"
      ],
      "execution_count": 39,
      "outputs": [
        {
          "output_type": "execute_result",
          "data": {
            "text/plain": [
              "<matplotlib.axes._subplots.AxesSubplot at 0x7f8310b03a10>"
            ]
          },
          "metadata": {},
          "execution_count": 39
        },
        {
          "output_type": "display_data",
          "data": {
            "image/png": "[encoded data removed]",
            "text/plain": [
              "<Figure size 1080x720 with 1 Axes>"
            ]
          },
          "metadata": {}
        }
      ]
    },
    {
      "cell_type": "markdown",
      "metadata": {
        "id": "cgkS7-as5mHE"
      },
      "source": [
        "Plotting Alcohol Influenced and Non-Alcohol Influenced Accidents in a radial chart"
      ]
    },
    {
      "cell_type": "code",
      "metadata": {
        "colab": {
          "base_uri": "https://localhost:8080/",
          "height": 542
        },
        "id": "d-IROH6wa9Ic",
        "outputId": "cd4d8ece-875e-424b-9eb4-a3dbf784e5f8"
      },
      "source": [
        "import plotly.graph_objects as go\n",
        "\n",
        "fig = go.Figure()\n",
        "fig.add_trace(go.Scatterpolar(\n",
        "  r=h1,\n",
        "  theta=np.linspace(0,23, num  = 24).astype('int').astype('str'),\n",
        "  fill='toself',\n",
        "))\n",
        "fig.add_trace(go.Scatterpolar(\n",
        "  r=h0,\n",
        "  theta=np.linspace(0,23, num  = 24).astype('int').astype('str'),\n",
        "  fill='toself',\n",
        "))\n",
        "fig.update_traces(mode=\"markers\", marker=dict(line_color='white', opacity=0.7))\n",
        "\n",
        "fig.update_layout(\n",
        "  polar=dict(\n",
        "    radialaxis=dict(\n",
        "      visible=True),\n",
        "    \n",
        "      radialaxis_tickfont_size = 8,\n",
        "      angularaxis = dict(\n",
        "        tickfont_size=8,\n",
        "        rotation=90, # start position of angular axis\n",
        "        direction=\"clockwise\"\n",
        "      )\n",
        "  ),\n",
        "  showlegend=False\n",
        ")\n",
        "\n",
        "fig.show()"
      ],
      "execution_count": 40,
      "outputs": [
        {
          "output_type": "display_data",
          "data": {
            "text/html": [
              "<html>\n",
              "<head><meta charset=\"utf-8\" /></head>\n",
              "<body>\n",
              "    <div>            <script src=\"https://cdnjs.cloudflare.com/ajax/libs/mathjax/2.7.5/MathJax.js?config=TeX-AMS-MML_SVG\"></script><script type=\"text/javascript\">if (window.MathJax) {MathJax.Hub.Config({SVG: {font: \"STIX-Web\"}});}</script>                <script type=\"text/javascript\">window.PlotlyConfig = {MathJaxConfig: 'local'};</script>\n",
              "        <script src=\"https://cdn.plot.ly/plotly-2.6.3.min.js\"></script>                <div id=\"3012b3ce-16b6-42b6-b935-38b829bff4eb\" class=\"plotly-graph-div\" style=\"height:525px; width:100%;\"></div>            <script type=\"text/javascript\">                                    window.PLOTLYENV=window.PLOTLYENV || {};                                    if (document.getElementById(\"3012b3ce-16b6-42b6-b935-38b829bff4eb\")) {                    Plotly.newPlot(                        \"3012b3ce-16b6-42b6-b935-38b829bff4eb\",                        [{\"fill\":\"toself\",\"r\":[559,603,591,382,257,206,173,168,90,69,79,104,137,186,217,268,303,352,471,533,526,577,586,624],\"theta\":[\"0\",\"1\",\"2\",\"3\",\"4\",\"5\",\"6\",\"7\",\"8\",\"9\",\"10\",\"11\",\"12\",\"13\",\"14\",\"15\",\"16\",\"17\",\"18\",\"19\",\"20\",\"21\",\"22\",\"23\"],\"type\":\"scatterpolar\",\"marker\":{\"line\":{\"color\":\"white\"},\"opacity\":0.7},\"mode\":\"markers\"},{\"fill\":\"toself\",\"r\":[642,571,512,474,521,880,1082,1004,821,844,949,1091,1188,1231,1350,1486,1396,1388,1429,1267,1358,1346,1005,849],\"theta\":[\"0\",\"1\",\"2\",\"3\",\"4\",\"5\",\"6\",\"7\",\"8\",\"9\",\"10\",\"11\",\"12\",\"13\",\"14\",\"15\",\"16\",\"17\",\"18\",\"19\",\"20\",\"21\",\"22\",\"23\"],\"type\":\"scatterpolar\",\"marker\":{\"line\":{\"color\":\"white\"},\"opacity\":0.7},\"mode\":\"markers\"}],                        {\"template\":{\"data\":{\"bar\":[{\"error_x\":{\"color\":\"#2a3f5f\"},\"error_y\":{\"color\":\"#2a3f5f\"},\"marker\":{\"line\":{\"color\":\"#E5ECF6\",\"width\":0.5},\"pattern\":{\"fillmode\":\"overlay\",\"size\":10,\"solidity\":0.2}},\"type\":\"bar\"}],\"barpolar\":[{\"marker\":{\"line\":{\"color\":\"#E5ECF6\",\"width\":0.5},\"pattern\":{\"fillmode\":\"overlay\",\"size\":10,\"solidity\":0.2}},\"type\":\"barpolar\"}],\"carpet\":[{\"aaxis\":{\"endlinecolor\":\"#2a3f5f\",\"gridcolor\":\"white\",\"linecolor\":\"white\",\"minorgridcolor\":\"white\",\"startlinecolor\":\"#2a3f5f\"},\"baxis\":{\"endlinecolor\":\"#2a3f5f\",\"gridcolor\":\"white\",\"linecolor\":\"white\",\"minorgridcolor\":\"white\",\"startlinecolor\":\"#2a3f5f\"},\"type\":\"carpet\"}],\"choropleth\":[{\"colorbar\":{\"outlinewidth\":0,\"ticks\":\"\"},\"type\":\"choropleth\"}],\"contour\":[{\"colorbar\":{\"outlinewidth\":0,\"ticks\":\"\"},\"colorscale\":[[0.0,\"#0d0887\"],[0.1111111111111111,\"#46039f\"],[0.2222222222222222,\"#7201a8\"],[0.3333333333333333,\"#9c179e\"],[0.4444444444444444,\"#bd3786\"],[0.5555555555555556,\"#d8576b\"],[0.6666666666666666,\"#ed7953\"],[0.7777777777777778,\"#fb9f3a\"],[0.8888888888888888,\"#fdca26\"],[1.0,\"#f0f921\"]],\"type\":\"contour\"}],\"contourcarpet\":[{\"colorbar\":{\"outlinewidth\":0,\"ticks\":\"\"},\"type\":\"contourcarpet\"}],\"heatmap\":[{\"colorbar\":{\"outlinewidth\":0,\"ticks\":\"\"},\"colorscale\":[[0.0,\"#0d0887\"],[0.1111111111111111,\"#46039f\"],[0.2222222222222222,\"#7201a8\"],[0.3333333333333333,\"#9c179e\"],[0.4444444444444444,\"#bd3786\"],[0.5555555555555556,\"#d8576b\"],[0.6666666666666666,\"#ed7953\"],[0.7777777777777778,\"#fb9f3a\"],[0.8888888888888888,\"#fdca26\"],[1.0,\"#f0f921\"]],\"type\":\"heatmap\"}],\"heatmapgl\":[{\"colorbar\":{\"outlinewidth\":0,\"ticks\":\"\"},\"colorscale\":[[0.0,\"#0d0887\"],[0.1111111111111111,\"#46039f\"],[0.2222222222222222,\"#7201a8\"],[0.3333333333333333,\"#9c179e\"],[0.4444444444444444,\"#bd3786\"],[0.5555555555555556,\"#d8576b\"],[0.6666666666666666,\"#ed7953\"],[0.7777777777777778,\"#fb9f3a\"],[0.8888888888888888,\"#fdca26\"],[1.0,\"#f0f921\"]],\"type\":\"heatmapgl\"}],\"histogram\":[{\"marker\":{\"pattern\":{\"fillmode\":\"overlay\",\"size\":10,\"solidity\":0.2}},\"type\":\"histogram\"}],\"histogram2d\":[{\"colorbar\":{\"outlinewidth\":0,\"ticks\":\"\"},\"colorscale\":[[0.0,\"#0d0887\"],[0.1111111111111111,\"#46039f\"],[0.2222222222222222,\"#7201a8\"],[0.3333333333333333,\"#9c179e\"],[0.4444444444444444,\"#bd3786\"],[0.5555555555555556,\"#d8576b\"],[0.6666666666666666,\"#ed7953\"],[0.7777777777777778,\"#fb9f3a\"],[0.8888888888888888,\"#fdca26\"],[1.0,\"#f0f921\"]],\"type\":\"histogram2d\"}],\"histogram2dcontour\":[{\"colorbar\":{\"outlinewidth\":0,\"ticks\":\"\"},\"colorscale\":[[0.0,\"#0d0887\"],[0.1111111111111111,\"#46039f\"],[0.2222222222222222,\"#7201a8\"],[0.3333333333333333,\"#9c179e\"],[0.4444444444444444,\"#bd3786\"],[0.5555555555555556,\"#d8576b\"],[0.6666666666666666,\"#ed7953\"],[0.7777777777777778,\"#fb9f3a\"],[0.8888888888888888,\"#fdca26\"],[1.0,\"#f0f921\"]],\"type\":\"histogram2dcontour\"}],\"mesh3d\":[{\"colorbar\":{\"outlinewidth\":0,\"ticks\":\"\"},\"type\":\"mesh3d\"}],\"parcoords\":[{\"line\":{\"colorbar\":{\"outlinewidth\":0,\"ticks\":\"\"}},\"type\":\"parcoords\"}],\"pie\":[{\"automargin\":true,\"type\":\"pie\"}],\"scatter\":[{\"marker\":{\"colorbar\":{\"outlinewidth\":0,\"ticks\":\"\"}},\"type\":\"scatter\"}],\"scatter3d\":[{\"line\":{\"colorbar\":{\"outlinewidth\":0,\"ticks\":\"\"}},\"marker\":{\"colorbar\":{\"outlinewidth\":0,\"ticks\":\"\"}},\"type\":\"scatter3d\"}],\"scattercarpet\":[{\"marker\":{\"colorbar\":{\"outlinewidth\":0,\"ticks\":\"\"}},\"type\":\"scattercarpet\"}],\"scattergeo\":[{\"marker\":{\"colorbar\":{\"outlinewidth\":0,\"ticks\":\"\"}},\"type\":\"scattergeo\"}],\"scattergl\":[{\"marker\":{\"colorbar\":{\"outlinewidth\":0,\"ticks\":\"\"}},\"type\":\"scattergl\"}],\"scattermapbox\":[{\"marker\":{\"colorbar\":{\"outlinewidth\":0,\"ticks\":\"\"}},\"type\":\"scattermapbox\"}],\"scatterpolar\":[{\"marker\":{\"colorbar\":{\"outlinewidth\":0,\"ticks\":\"\"}},\"type\":\"scatterpolar\"}],\"scatterpolargl\":[{\"marker\":{\"colorbar\":{\"outlinewidth\":0,\"ticks\":\"\"}},\"type\":\"scatterpolargl\"}],\"scatterternary\":[{\"marker\":{\"colorbar\":{\"outlinewidth\":0,\"ticks\":\"\"}},\"type\":\"scatterternary\"}],\"surface\":[{\"colorbar\":{\"outlinewidth\":0,\"ticks\":\"\"},\"colorscale\":[[0.0,\"#0d0887\"],[0.1111111111111111,\"#46039f\"],[0.2222222222222222,\"#7201a8\"],[0.3333333333333333,\"#9c179e\"],[0.4444444444444444,\"#bd3786\"],[0.5555555555555556,\"#d8576b\"],[0.6666666666666666,\"#ed7953\"],[0.7777777777777778,\"#fb9f3a\"],[0.8888888888888888,\"#fdca26\"],[1.0,\"#f0f921\"]],\"type\":\"surface\"}],\"table\":[{\"cells\":{\"fill\":{\"color\":\"#EBF0F8\"},\"line\":{\"color\":\"white\"}},\"header\":{\"fill\":{\"color\":\"#C8D4E3\"},\"line\":{\"color\":\"white\"}},\"type\":\"table\"}]},\"layout\":{\"annotationdefaults\":{\"arrowcolor\":\"#2a3f5f\",\"arrowhead\":0,\"arrowwidth\":1},\"autotypenumbers\":\"strict\",\"coloraxis\":{\"colorbar\":{\"outlinewidth\":0,\"ticks\":\"\"}},\"colorscale\":{\"diverging\":[[0,\"#8e0152\"],[0.1,\"#c51b7d\"],[0.2,\"#de77ae\"],[0.3,\"#f1b6da\"],[0.4,\"#fde0ef\"],[0.5,\"#f7f7f7\"],[0.6,\"#e6f5d0\"],[0.7,\"#b8e186\"],[0.8,\"#7fbc41\"],[0.9,\"#4d9221\"],[1,\"#276419\"]],\"sequential\":[[0.0,\"#0d0887\"],[0.1111111111111111,\"#46039f\"],[0.2222222222222222,\"#7201a8\"],[0.3333333333333333,\"#9c179e\"],[0.4444444444444444,\"#bd3786\"],[0.5555555555555556,\"#d8576b\"],[0.6666666666666666,\"#ed7953\"],[0.7777777777777778,\"#fb9f3a\"],[0.8888888888888888,\"#fdca26\"],[1.0,\"#f0f921\"]],\"sequentialminus\":[[0.0,\"#0d0887\"],[0.1111111111111111,\"#46039f\"],[0.2222222222222222,\"#7201a8\"],[0.3333333333333333,\"#9c179e\"],[0.4444444444444444,\"#bd3786\"],[0.5555555555555556,\"#d8576b\"],[0.6666666666666666,\"#ed7953\"],[0.7777777777777778,\"#fb9f3a\"],[0.8888888888888888,\"#fdca26\"],[1.0,\"#f0f921\"]]},\"colorway\":[\"#636efa\",\"#EF553B\",\"#00cc96\",\"#ab63fa\",\"#FFA15A\",\"#19d3f3\",\"#FF6692\",\"#B6E880\",\"#FF97FF\",\"#FECB52\"],\"font\":{\"color\":\"#2a3f5f\"},\"geo\":{\"bgcolor\":\"white\",\"lakecolor\":\"white\",\"landcolor\":\"#E5ECF6\",\"showlakes\":true,\"showland\":true,\"subunitcolor\":\"white\"},\"hoverlabel\":{\"align\":\"left\"},\"hovermode\":\"closest\",\"mapbox\":{\"style\":\"light\"},\"paper_bgcolor\":\"white\",\"plot_bgcolor\":\"#E5ECF6\",\"polar\":{\"angularaxis\":{\"gridcolor\":\"white\",\"linecolor\":\"white\",\"ticks\":\"\"},\"bgcolor\":\"#E5ECF6\",\"radialaxis\":{\"gridcolor\":\"white\",\"linecolor\":\"white\",\"ticks\":\"\"}},\"scene\":{\"xaxis\":{\"backgroundcolor\":\"#E5ECF6\",\"gridcolor\":\"white\",\"gridwidth\":2,\"linecolor\":\"white\",\"showbackground\":true,\"ticks\":\"\",\"zerolinecolor\":\"white\"},\"yaxis\":{\"backgroundcolor\":\"#E5ECF6\",\"gridcolor\":\"white\",\"gridwidth\":2,\"linecolor\":\"white\",\"showbackground\":true,\"ticks\":\"\",\"zerolinecolor\":\"white\"},\"zaxis\":{\"backgroundcolor\":\"#E5ECF6\",\"gridcolor\":\"white\",\"gridwidth\":2,\"linecolor\":\"white\",\"showbackground\":true,\"ticks\":\"\",\"zerolinecolor\":\"white\"}},\"shapedefaults\":{\"line\":{\"color\":\"#2a3f5f\"}},\"ternary\":{\"aaxis\":{\"gridcolor\":\"white\",\"linecolor\":\"white\",\"ticks\":\"\"},\"baxis\":{\"gridcolor\":\"white\",\"linecolor\":\"white\",\"ticks\":\"\"},\"bgcolor\":\"#E5ECF6\",\"caxis\":{\"gridcolor\":\"white\",\"linecolor\":\"white\",\"ticks\":\"\"}},\"title\":{\"x\":0.05},\"xaxis\":{\"automargin\":true,\"gridcolor\":\"white\",\"linecolor\":\"white\",\"ticks\":\"\",\"title\":{\"standoff\":15},\"zerolinecolor\":\"white\",\"zerolinewidth\":2},\"yaxis\":{\"automargin\":true,\"gridcolor\":\"white\",\"linecolor\":\"white\",\"ticks\":\"\",\"title\":{\"standoff\":15},\"zerolinecolor\":\"white\",\"zerolinewidth\":2}}},\"polar\":{\"radialaxis\":{\"tickfont\":{\"size\":8},\"visible\":true},\"angularaxis\":{\"tickfont\":{\"size\":8},\"rotation\":90,\"direction\":\"clockwise\"}},\"showlegend\":false},                        {\"responsive\": true}                    ).then(function(){\n",
              "                            \n",
              "var gd = document.getElementById('3012b3ce-16b6-42b6-b935-38b829bff4eb');\n",
              "var x = new MutationObserver(function (mutations, observer) {{\n",
              "        var display = window.getComputedStyle(gd).display;\n",
              "        if (!display || display === 'none') {{\n",
              "            console.log([gd, 'removed!']);\n",
              "            Plotly.purge(gd);\n",
              "            observer.disconnect();\n",
              "        }}\n",
              "}});\n",
              "\n",
              "// Listen for the removal of the full notebook cells\n",
              "var notebookContainer = gd.closest('#notebook-container');\n",
              "if (notebookContainer) {{\n",
              "    x.observe(notebookContainer, {childList: true});\n",
              "}}\n",
              "\n",
              "// Listen for the clearing of the current output cell\n",
              "var outputEl = gd.closest('.output');\n",
              "if (outputEl) {{\n",
              "    x.observe(outputEl, {childList: true});\n",
              "}}\n",
              "\n",
              "                        })                };                            </script>        </div>\n",
              "</body>\n",
              "</html>"
            ]
          },
          "metadata": {}
        }
      ]
    },
    {
      "cell_type": "markdown",
      "metadata": {
        "id": "3JCd5ekC8i18"
      },
      "source": [
        "Here,we notice that one cannot clearly differentiate between the variance in alcohol related and unrelated changes by the hour due to the the scale being fr away."
      ]
    },
    {
      "cell_type": "markdown",
      "metadata": {
        "id": "keAy8t5h9FBD"
      },
      "source": [
        "To improve this, we can normalise the data with the mean becoming zero and the variance becoming one. \n",
        "\n",
        "This will make the visualization better to understand. We can notice the change when one increases and the other decreases."
      ]
    },
    {
      "cell_type": "code",
      "metadata": {
        "colab": {
          "base_uri": "https://localhost:8080/",
          "height": 542
        },
        "id": "YPxNzxLXjpYg",
        "outputId": "ca4f79a5-d1db-4978-ac8f-39cce833b340"
      },
      "source": [
        "h0 = accid_df[accid_df['DRUNK_DR']==0].groupby('HOUR').size()\n",
        "import plotly.graph_objects as go\n",
        "\n",
        "fig = go.Figure(data=go.Scatterpolar(\n",
        "  r=(h0 - h0.mean(axis=0)) / h0.std(axis=0),\n",
        "  theta=np.linspace(0,23, num  = 24).astype('int').astype('str'),\n",
        "  fill='toself',\n",
        "))\n",
        "fig.add_trace(go.Scatterpolar(\n",
        "  r=(h1 - h1.mean(axis=0)) / h1.std(axis=0),\n",
        "  theta=np.linspace(0,23, num  = 24).astype('int').astype('str'),\n",
        "  fill='toself',\n",
        "))\n",
        "fig.update_traces(mode=\"markers\", marker=dict(line_color='white', opacity=0.7))\n",
        "fig.update_layout(\n",
        "  polar=dict(\n",
        "    radialaxis=dict(\n",
        "      visible=True),\n",
        "    \n",
        "      radialaxis_tickfont_size = 8,\n",
        "      angularaxis = dict(\n",
        "        tickfont_size=8,\n",
        "        rotation=90, # start position of angular axis\n",
        "        direction=\"clockwise\"\n",
        "      )\n",
        "  ),\n",
        "  showlegend=False\n",
        ")\n",
        "\n",
        "fig.show()"
      ],
      "execution_count": 41,
      "outputs": [
        {
          "output_type": "display_data",
          "data": {
            "text/html": [
              "<html>\n",
              "<head><meta charset=\"utf-8\" /></head>\n",
              "<body>\n",
              "    <div>            <script src=\"https://cdnjs.cloudflare.com/ajax/libs/mathjax/2.7.5/MathJax.js?config=TeX-AMS-MML_SVG\"></script><script type=\"text/javascript\">if (window.MathJax) {MathJax.Hub.Config({SVG: {font: \"STIX-Web\"}});}</script>                <script type=\"text/javascript\">window.PlotlyConfig = {MathJaxConfig: 'local'};</script>\n",
              "        <script src=\"https://cdn.plot.ly/plotly-2.6.3.min.js\"></script>                <div id=\"18239f49-075e-4c82-9407-8cee21e3959c\" class=\"plotly-graph-div\" style=\"height:525px; width:100%;\"></div>            <script type=\"text/javascript\">                                    window.PLOTLYENV=window.PLOTLYENV || {};                                    if (document.getElementById(\"18239f49-075e-4c82-9407-8cee21e3959c\")) {                    Plotly.newPlot(                        \"18239f49-075e-4c82-9407-8cee21e3959c\",                        [{\"fill\":\"toself\",\"r\":[-1.1949519516302327,-1.4144644705584255,-1.596876282062135,-1.7143618555729987,-1.5690507514937726,-0.45912125437798074,0.16540732060082133,-0.07574727765832005,-0.6415330658816902,-0.5704233766514306,-0.2457921866872018,0.19323285116918382,0.49313023618375706,0.6260744377881555,0.9939897864142815,1.4144644705584255,1.1362091648748007,1.1114753599251452,1.2382361102921298,0.7373765600616055,1.018723591363937,0.9816228839394537,-0.07265555203961312,-0.5549647485578959],\"theta\":[\"0\",\"1\",\"2\",\"3\",\"4\",\"5\",\"6\",\"7\",\"8\",\"9\",\"10\",\"11\",\"12\",\"13\",\"14\",\"15\",\"16\",\"17\",\"18\",\"19\",\"20\",\"21\",\"22\",\"23\"],\"type\":\"scatterpolar\",\"marker\":{\"line\":{\"color\":\"white\"},\"opacity\":0.7},\"mode\":\"markers\"},{\"fill\":\"toself\",\"r\":[1.1300511509350681,1.352895971735709,1.2921201115173524,0.23360721271430818,-0.3994746645602397,-0.6577720704882553,-0.8249056860887359,-0.8502289611797179,-1.2452720525990357,-1.3516298079811597,-1.300983257799196,-1.1743668823442863,-1.0072332667438058,-0.759065170852183,-0.6020608652880951,-0.3437634593600795,-0.1665005337232061,0.08166756216841668,0.6843615093337863,0.998370120461962,0.9629175353345873,1.221214941262603,1.2667968364263704,1.459253727117833],\"theta\":[\"0\",\"1\",\"2\",\"3\",\"4\",\"5\",\"6\",\"7\",\"8\",\"9\",\"10\",\"11\",\"12\",\"13\",\"14\",\"15\",\"16\",\"17\",\"18\",\"19\",\"20\",\"21\",\"22\",\"23\"],\"type\":\"scatterpolar\",\"marker\":{\"line\":{\"color\":\"white\"},\"opacity\":0.7},\"mode\":\"markers\"}],                        {\"template\":{\"data\":{\"bar\":[{\"error_x\":{\"color\":\"#2a3f5f\"},\"error_y\":{\"color\":\"#2a3f5f\"},\"marker\":{\"line\":{\"color\":\"#E5ECF6\",\"width\":0.5},\"pattern\":{\"fillmode\":\"overlay\",\"size\":10,\"solidity\":0.2}},\"type\":\"bar\"}],\"barpolar\":[{\"marker\":{\"line\":{\"color\":\"#E5ECF6\",\"width\":0.5},\"pattern\":{\"fillmode\":\"overlay\",\"size\":10,\"solidity\":0.2}},\"type\":\"barpolar\"}],\"carpet\":[{\"aaxis\":{\"endlinecolor\":\"#2a3f5f\",\"gridcolor\":\"white\",\"linecolor\":\"white\",\"minorgridcolor\":\"white\",\"startlinecolor\":\"#2a3f5f\"},\"baxis\":{\"endlinecolor\":\"#2a3f5f\",\"gridcolor\":\"white\",\"linecolor\":\"white\",\"minorgridcolor\":\"white\",\"startlinecolor\":\"#2a3f5f\"},\"type\":\"carpet\"}],\"choropleth\":[{\"colorbar\":{\"outlinewidth\":0,\"ticks\":\"\"},\"type\":\"choropleth\"}],\"contour\":[{\"colorbar\":{\"outlinewidth\":0,\"ticks\":\"\"},\"colorscale\":[[0.0,\"#0d0887\"],[0.1111111111111111,\"#46039f\"],[0.2222222222222222,\"#7201a8\"],[0.3333333333333333,\"#9c179e\"],[0.4444444444444444,\"#bd3786\"],[0.5555555555555556,\"#d8576b\"],[0.6666666666666666,\"#ed7953\"],[0.7777777777777778,\"#fb9f3a\"],[0.8888888888888888,\"#fdca26\"],[1.0,\"#f0f921\"]],\"type\":\"contour\"}],\"contourcarpet\":[{\"colorbar\":{\"outlinewidth\":0,\"ticks\":\"\"},\"type\":\"contourcarpet\"}],\"heatmap\":[{\"colorbar\":{\"outlinewidth\":0,\"ticks\":\"\"},\"colorscale\":[[0.0,\"#0d0887\"],[0.1111111111111111,\"#46039f\"],[0.2222222222222222,\"#7201a8\"],[0.3333333333333333,\"#9c179e\"],[0.4444444444444444,\"#bd3786\"],[0.5555555555555556,\"#d8576b\"],[0.6666666666666666,\"#ed7953\"],[0.7777777777777778,\"#fb9f3a\"],[0.8888888888888888,\"#fdca26\"],[1.0,\"#f0f921\"]],\"type\":\"heatmap\"}],\"heatmapgl\":[{\"colorbar\":{\"outlinewidth\":0,\"ticks\":\"\"},\"colorscale\":[[0.0,\"#0d0887\"],[0.1111111111111111,\"#46039f\"],[0.2222222222222222,\"#7201a8\"],[0.3333333333333333,\"#9c179e\"],[0.4444444444444444,\"#bd3786\"],[0.5555555555555556,\"#d8576b\"],[0.6666666666666666,\"#ed7953\"],[0.7777777777777778,\"#fb9f3a\"],[0.8888888888888888,\"#fdca26\"],[1.0,\"#f0f921\"]],\"type\":\"heatmapgl\"}],\"histogram\":[{\"marker\":{\"pattern\":{\"fillmode\":\"overlay\",\"size\":10,\"solidity\":0.2}},\"type\":\"histogram\"}],\"histogram2d\":[{\"colorbar\":{\"outlinewidth\":0,\"ticks\":\"\"},\"colorscale\":[[0.0,\"#0d0887\"],[0.1111111111111111,\"#46039f\"],[0.2222222222222222,\"#7201a8\"],[0.3333333333333333,\"#9c179e\"],[0.4444444444444444,\"#bd3786\"],[0.5555555555555556,\"#d8576b\"],[0.6666666666666666,\"#ed7953\"],[0.7777777777777778,\"#fb9f3a\"],[0.8888888888888888,\"#fdca26\"],[1.0,\"#f0f921\"]],\"type\":\"histogram2d\"}],\"histogram2dcontour\":[{\"colorbar\":{\"outlinewidth\":0,\"ticks\":\"\"},\"colorscale\":[[0.0,\"#0d0887\"],[0.1111111111111111,\"#46039f\"],[0.2222222222222222,\"#7201a8\"],[0.3333333333333333,\"#9c179e\"],[0.4444444444444444,\"#bd3786\"],[0.5555555555555556,\"#d8576b\"],[0.6666666666666666,\"#ed7953\"],[0.7777777777777778,\"#fb9f3a\"],[0.8888888888888888,\"#fdca26\"],[1.0,\"#f0f921\"]],\"type\":\"histogram2dcontour\"}],\"mesh3d\":[{\"colorbar\":{\"outlinewidth\":0,\"ticks\":\"\"},\"type\":\"mesh3d\"}],\"parcoords\":[{\"line\":{\"colorbar\":{\"outlinewidth\":0,\"ticks\":\"\"}},\"type\":\"parcoords\"}],\"pie\":[{\"automargin\":true,\"type\":\"pie\"}],\"scatter\":[{\"marker\":{\"colorbar\":{\"outlinewidth\":0,\"ticks\":\"\"}},\"type\":\"scatter\"}],\"scatter3d\":[{\"line\":{\"colorbar\":{\"outlinewidth\":0,\"ticks\":\"\"}},\"marker\":{\"colorbar\":{\"outlinewidth\":0,\"ticks\":\"\"}},\"type\":\"scatter3d\"}],\"scattercarpet\":[{\"marker\":{\"colorbar\":{\"outlinewidth\":0,\"ticks\":\"\"}},\"type\":\"scattercarpet\"}],\"scattergeo\":[{\"marker\":{\"colorbar\":{\"outlinewidth\":0,\"ticks\":\"\"}},\"type\":\"scattergeo\"}],\"scattergl\":[{\"marker\":{\"colorbar\":{\"outlinewidth\":0,\"ticks\":\"\"}},\"type\":\"scattergl\"}],\"scattermapbox\":[{\"marker\":{\"colorbar\":{\"outlinewidth\":0,\"ticks\":\"\"}},\"type\":\"scattermapbox\"}],\"scatterpolar\":[{\"marker\":{\"colorbar\":{\"outlinewidth\":0,\"ticks\":\"\"}},\"type\":\"scatterpolar\"}],\"scatterpolargl\":[{\"marker\":{\"colorbar\":{\"outlinewidth\":0,\"ticks\":\"\"}},\"type\":\"scatterpolargl\"}],\"scatterternary\":[{\"marker\":{\"colorbar\":{\"outlinewidth\":0,\"ticks\":\"\"}},\"type\":\"scatterternary\"}],\"surface\":[{\"colorbar\":{\"outlinewidth\":0,\"ticks\":\"\"},\"colorscale\":[[0.0,\"#0d0887\"],[0.1111111111111111,\"#46039f\"],[0.2222222222222222,\"#7201a8\"],[0.3333333333333333,\"#9c179e\"],[0.4444444444444444,\"#bd3786\"],[0.5555555555555556,\"#d8576b\"],[0.6666666666666666,\"#ed7953\"],[0.7777777777777778,\"#fb9f3a\"],[0.8888888888888888,\"#fdca26\"],[1.0,\"#f0f921\"]],\"type\":\"surface\"}],\"table\":[{\"cells\":{\"fill\":{\"color\":\"#EBF0F8\"},\"line\":{\"color\":\"white\"}},\"header\":{\"fill\":{\"color\":\"#C8D4E3\"},\"line\":{\"color\":\"white\"}},\"type\":\"table\"}]},\"layout\":{\"annotationdefaults\":{\"arrowcolor\":\"#2a3f5f\",\"arrowhead\":0,\"arrowwidth\":1},\"autotypenumbers\":\"strict\",\"coloraxis\":{\"colorbar\":{\"outlinewidth\":0,\"ticks\":\"\"}},\"colorscale\":{\"diverging\":[[0,\"#8e0152\"],[0.1,\"#c51b7d\"],[0.2,\"#de77ae\"],[0.3,\"#f1b6da\"],[0.4,\"#fde0ef\"],[0.5,\"#f7f7f7\"],[0.6,\"#e6f5d0\"],[0.7,\"#b8e186\"],[0.8,\"#7fbc41\"],[0.9,\"#4d9221\"],[1,\"#276419\"]],\"sequential\":[[0.0,\"#0d0887\"],[0.1111111111111111,\"#46039f\"],[0.2222222222222222,\"#7201a8\"],[0.3333333333333333,\"#9c179e\"],[0.4444444444444444,\"#bd3786\"],[0.5555555555555556,\"#d8576b\"],[0.6666666666666666,\"#ed7953\"],[0.7777777777777778,\"#fb9f3a\"],[0.8888888888888888,\"#fdca26\"],[1.0,\"#f0f921\"]],\"sequentialminus\":[[0.0,\"#0d0887\"],[0.1111111111111111,\"#46039f\"],[0.2222222222222222,\"#7201a8\"],[0.3333333333333333,\"#9c179e\"],[0.4444444444444444,\"#bd3786\"],[0.5555555555555556,\"#d8576b\"],[0.6666666666666666,\"#ed7953\"],[0.7777777777777778,\"#fb9f3a\"],[0.8888888888888888,\"#fdca26\"],[1.0,\"#f0f921\"]]},\"colorway\":[\"#636efa\",\"#EF553B\",\"#00cc96\",\"#ab63fa\",\"#FFA15A\",\"#19d3f3\",\"#FF6692\",\"#B6E880\",\"#FF97FF\",\"#FECB52\"],\"font\":{\"color\":\"#2a3f5f\"},\"geo\":{\"bgcolor\":\"white\",\"lakecolor\":\"white\",\"landcolor\":\"#E5ECF6\",\"showlakes\":true,\"showland\":true,\"subunitcolor\":\"white\"},\"hoverlabel\":{\"align\":\"left\"},\"hovermode\":\"closest\",\"mapbox\":{\"style\":\"light\"},\"paper_bgcolor\":\"white\",\"plot_bgcolor\":\"#E5ECF6\",\"polar\":{\"angularaxis\":{\"gridcolor\":\"white\",\"linecolor\":\"white\",\"ticks\":\"\"},\"bgcolor\":\"#E5ECF6\",\"radialaxis\":{\"gridcolor\":\"white\",\"linecolor\":\"white\",\"ticks\":\"\"}},\"scene\":{\"xaxis\":{\"backgroundcolor\":\"#E5ECF6\",\"gridcolor\":\"white\",\"gridwidth\":2,\"linecolor\":\"white\",\"showbackground\":true,\"ticks\":\"\",\"zerolinecolor\":\"white\"},\"yaxis\":{\"backgroundcolor\":\"#E5ECF6\",\"gridcolor\":\"white\",\"gridwidth\":2,\"linecolor\":\"white\",\"showbackground\":true,\"ticks\":\"\",\"zerolinecolor\":\"white\"},\"zaxis\":{\"backgroundcolor\":\"#E5ECF6\",\"gridcolor\":\"white\",\"gridwidth\":2,\"linecolor\":\"white\",\"showbackground\":true,\"ticks\":\"\",\"zerolinecolor\":\"white\"}},\"shapedefaults\":{\"line\":{\"color\":\"#2a3f5f\"}},\"ternary\":{\"aaxis\":{\"gridcolor\":\"white\",\"linecolor\":\"white\",\"ticks\":\"\"},\"baxis\":{\"gridcolor\":\"white\",\"linecolor\":\"white\",\"ticks\":\"\"},\"bgcolor\":\"#E5ECF6\",\"caxis\":{\"gridcolor\":\"white\",\"linecolor\":\"white\",\"ticks\":\"\"}},\"title\":{\"x\":0.05},\"xaxis\":{\"automargin\":true,\"gridcolor\":\"white\",\"linecolor\":\"white\",\"ticks\":\"\",\"title\":{\"standoff\":15},\"zerolinecolor\":\"white\",\"zerolinewidth\":2},\"yaxis\":{\"automargin\":true,\"gridcolor\":\"white\",\"linecolor\":\"white\",\"ticks\":\"\",\"title\":{\"standoff\":15},\"zerolinecolor\":\"white\",\"zerolinewidth\":2}}},\"polar\":{\"radialaxis\":{\"tickfont\":{\"size\":8},\"visible\":true},\"angularaxis\":{\"tickfont\":{\"size\":8},\"rotation\":90,\"direction\":\"clockwise\"}},\"showlegend\":false},                        {\"responsive\": true}                    ).then(function(){\n",
              "                            \n",
              "var gd = document.getElementById('18239f49-075e-4c82-9407-8cee21e3959c');\n",
              "var x = new MutationObserver(function (mutations, observer) {{\n",
              "        var display = window.getComputedStyle(gd).display;\n",
              "        if (!display || display === 'none') {{\n",
              "            console.log([gd, 'removed!']);\n",
              "            Plotly.purge(gd);\n",
              "            observer.disconnect();\n",
              "        }}\n",
              "}});\n",
              "\n",
              "// Listen for the removal of the full notebook cells\n",
              "var notebookContainer = gd.closest('#notebook-container');\n",
              "if (notebookContainer) {{\n",
              "    x.observe(notebookContainer, {childList: true});\n",
              "}}\n",
              "\n",
              "// Listen for the clearing of the current output cell\n",
              "var outputEl = gd.closest('.output');\n",
              "if (outputEl) {{\n",
              "    x.observe(outputEl, {childList: true});\n",
              "}}\n",
              "\n",
              "                        })                };                            </script>        </div>\n",
              "</body>\n",
              "</html>"
            ]
          },
          "metadata": {}
        }
      ]
    },
    {
      "cell_type": "markdown",
      "metadata": {
        "id": "po07K-15-Aoo"
      },
      "source": [
        "In the above plot, we see that most of the accidents which occur later in the night are the ones caused under the influence of alcohol. And a larger share of accidents which are not cused under the influence of alcohol occur either very early in the morning, when the pperson is not fully awake or under a hurry, or during the evening, when the pperson is usually tired. But, this reason might also be biases, since more number of vehicles run during the evenings than durin the afternoons, hence the chances of accidents would also increase."
      ]
    },
    {
      "cell_type": "markdown",
      "metadata": {
        "id": "4szQuQExLq4F"
      },
      "source": [
        "PLOTTING STATEWISE DENSITY ON MAP"
      ]
    },
    {
      "cell_type": "code",
      "metadata": {
        "colab": {
          "base_uri": "https://localhost:8080/",
          "height": 206
        },
        "id": "rlxxgpMJKTo3",
        "outputId": "8c471244-caab-4b7e-8615-180b7e078ea9"
      },
      "source": [
        "import altair as alt\n",
        "from vega_datasets import data\n",
        "airports = data.airports()\n",
        "airports.head()"
      ],
      "execution_count": 42,
      "outputs": [
        {
          "output_type": "execute_result",
          "data": {
            "text/html": [
              "<div>\n",
              "<style scoped>\n",
              "    .dataframe tbody tr th:only-of-type {\n",
              "        vertical-align: middle;\n",
              "    }\n",
              "\n",
              "    .dataframe tbody tr th {\n",
              "        vertical-align: top;\n",
              "    }\n",
              "\n",
              "    .dataframe thead th {\n",
              "        text-align: right;\n",
              "    }\n",
              "</style>\n",
              "<table border=\"1\" class=\"dataframe\">\n",
              "  <thead>\n",
              "    <tr style=\"text-align: right;\">\n",
              "      <th></th>\n",
              "      <th>iata</th>\n",
              "      <th>name</th>\n",
              "      <th>city</th>\n",
              "      <th>state</th>\n",
              "      <th>country</th>\n",
              "      <th>latitude</th>\n",
              "      <th>longitude</th>\n",
              "    </tr>\n",
              "  </thead>\n",
              "  <tbody>\n",
              "    <tr>\n",
              "      <th>0</th>\n",
              "      <td>00M</td>\n",
              "      <td>Thigpen</td>\n",
              "      <td>Bay Springs</td>\n",
              "      <td>MS</td>\n",
              "      <td>USA</td>\n",
              "      <td>31.953765</td>\n",
              "      <td>-89.234505</td>\n",
              "    </tr>\n",
              "    <tr>\n",
              "      <th>1</th>\n",
              "      <td>00R</td>\n",
              "      <td>Livingston Municipal</td>\n",
              "      <td>Livingston</td>\n",
              "      <td>TX</td>\n",
              "      <td>USA</td>\n",
              "      <td>30.685861</td>\n",
              "      <td>-95.017928</td>\n",
              "    </tr>\n",
              "    <tr>\n",
              "      <th>2</th>\n",
              "      <td>00V</td>\n",
              "      <td>Meadow Lake</td>\n",
              "      <td>Colorado Springs</td>\n",
              "      <td>CO</td>\n",
              "      <td>USA</td>\n",
              "      <td>38.945749</td>\n",
              "      <td>-104.569893</td>\n",
              "    </tr>\n",
              "    <tr>\n",
              "      <th>3</th>\n",
              "      <td>01G</td>\n",
              "      <td>Perry-Warsaw</td>\n",
              "      <td>Perry</td>\n",
              "      <td>NY</td>\n",
              "      <td>USA</td>\n",
              "      <td>42.741347</td>\n",
              "      <td>-78.052081</td>\n",
              "    </tr>\n",
              "    <tr>\n",
              "      <th>4</th>\n",
              "      <td>01J</td>\n",
              "      <td>Hilliard Airpark</td>\n",
              "      <td>Hilliard</td>\n",
              "      <td>FL</td>\n",
              "      <td>USA</td>\n",
              "      <td>30.688012</td>\n",
              "      <td>-81.905944</td>\n",
              "    </tr>\n",
              "  </tbody>\n",
              "</table>\n",
              "</div>"
            ],
            "text/plain": [
              "  iata                  name              city  ... country   latitude   longitude\n",
              "0  00M               Thigpen       Bay Springs  ...     USA  31.953765  -89.234505\n",
              "1  00R  Livingston Municipal        Livingston  ...     USA  30.685861  -95.017928\n",
              "2  00V           Meadow Lake  Colorado Springs  ...     USA  38.945749 -104.569893\n",
              "3  01G          Perry-Warsaw             Perry  ...     USA  42.741347  -78.052081\n",
              "4  01J      Hilliard Airpark          Hilliard  ...     USA  30.688012  -81.905944\n",
              "\n",
              "[5 rows x 7 columns]"
            ]
          },
          "metadata": {},
          "execution_count": 42
        }
      ]
    },
    {
      "cell_type": "code",
      "metadata": {
        "colab": {
          "base_uri": "https://localhost:8080/",
          "height": 112
        },
        "id": "WjYKhFJ-NWcr",
        "outputId": "f4015531-9763-4c94-8f44-1ce550611662"
      },
      "source": [
        "states = alt.topo_feature(data.us_10m.url, feature='states')\n",
        "airports = piv_accid_df\n",
        "airports.sort_values(by = 'STATENAME').head(2)"
      ],
      "execution_count": 43,
      "outputs": [
        {
          "output_type": "execute_result",
          "data": {
            "text/html": [
              "<div>\n",
              "<style scoped>\n",
              "    .dataframe tbody tr th:only-of-type {\n",
              "        vertical-align: middle;\n",
              "    }\n",
              "\n",
              "    .dataframe tbody tr th {\n",
              "        vertical-align: top;\n",
              "    }\n",
              "\n",
              "    .dataframe thead th {\n",
              "        text-align: right;\n",
              "    }\n",
              "</style>\n",
              "<table border=\"1\" class=\"dataframe\">\n",
              "  <thead>\n",
              "    <tr style=\"text-align: right;\">\n",
              "      <th></th>\n",
              "      <th>STATENAME</th>\n",
              "      <th>STATE</th>\n",
              "      <th>not_drunk</th>\n",
              "      <th>drunk</th>\n",
              "      <th>perc_drunk</th>\n",
              "    </tr>\n",
              "  </thead>\n",
              "  <tbody>\n",
              "    <tr>\n",
              "      <th>0</th>\n",
              "      <td>Alabama</td>\n",
              "      <td>1</td>\n",
              "      <td>631</td>\n",
              "      <td>220</td>\n",
              "      <td>0.258519</td>\n",
              "    </tr>\n",
              "    <tr>\n",
              "      <th>1</th>\n",
              "      <td>Alaska</td>\n",
              "      <td>2</td>\n",
              "      <td>40</td>\n",
              "      <td>20</td>\n",
              "      <td>0.333333</td>\n",
              "    </tr>\n",
              "  </tbody>\n",
              "</table>\n",
              "</div>"
            ],
            "text/plain": [
              "  STATENAME  STATE  not_drunk  drunk  perc_drunk\n",
              "0   Alabama      1        631    220    0.258519\n",
              "1    Alaska      2         40     20    0.333333"
            ]
          },
          "metadata": {},
          "execution_count": 43
        }
      ]
    },
    {
      "cell_type": "code",
      "metadata": {
        "colab": {
          "base_uri": "https://localhost:8080/"
        },
        "id": "iLyAlx4BQx54",
        "outputId": "bcab8004-df8e-4dae-b4d9-4434b7cd37a1"
      },
      "source": [
        "list(piv_accid_df.columns)"
      ],
      "execution_count": 44,
      "outputs": [
        {
          "output_type": "execute_result",
          "data": {
            "text/plain": [
              "['STATENAME', 'STATE', 'not_drunk', 'drunk', 'perc_drunk']"
            ]
          },
          "metadata": {},
          "execution_count": 44
        }
      ]
    },
    {
      "cell_type": "code",
      "metadata": {
        "colab": {
          "base_uri": "https://localhost:8080/",
          "height": 331
        },
        "id": "Lzq25vmmNFoZ",
        "outputId": "810a8399-0612-4603-f730-a1de1d9339fb"
      },
      "source": [
        "import altair as alt\n",
        "from vega_datasets import data\n",
        "\n",
        "states = alt.topo_feature(data.us_10m.url, 'states')\n",
        "\n",
        "variable_list = ['perc_drunk']\n",
        "\n",
        "alt.Chart(states).mark_geoshape().encode(\n",
        "    color='perc_drunk:Q'\n",
        ").transform_lookup(\n",
        "    lookup='id',\n",
        "    from_=alt.LookupData(piv_accid_df, 'STATE', list(piv_accid_df.columns))\n",
        ").properties(\n",
        "    width=500,\n",
        "    height=300\n",
        ").project(\n",
        "    type='albersUsa'\n",
        ")"
      ],
      "execution_count": 45,
      "outputs": [
        {
          "output_type": "execute_result",
          "data": {
            "text/plain": [
              "alt.Chart(...)"
            ],
            "text/html": [
              "\n",
              "<div id=\"altair-viz-fde138aa6f7f4d3b9404daf6b8230e70\"></div>\n",
              "<script type=\"text/javascript\">\n",
              "  (function(spec, embedOpt){\n",
              "    let outputDiv = document.currentScript.previousElementSibling;\n",
              "    if (outputDiv.id !== \"altair-viz-fde138aa6f7f4d3b9404daf6b8230e70\") {\n",
              "      outputDiv = document.getElementById(\"altair-viz-fde138aa6f7f4d3b9404daf6b8230e70\");\n",
              "    }\n",
              "    const paths = {\n",
              "      \"vega\": \"https://cdn.jsdelivr.net/npm//vega@5?noext\",\n",
              "      \"vega-lib\": \"https://cdn.jsdelivr.net/npm//vega-lib?noext\",\n",
              "      \"vega-lite\": \"https://cdn.jsdelivr.net/npm//vega-lite@4.8.1?noext\",\n",
              "      \"vega-embed\": \"https://cdn.jsdelivr.net/npm//vega-embed@6?noext\",\n",
              "    };\n",
              "\n",
              "    function loadScript(lib) {\n",
              "      return new Promise(function(resolve, reject) {\n",
              "        var s = document.createElement('script');\n",
              "        s.src = paths[lib];\n",
              "        s.async = true;\n",
              "        s.onload = () => resolve(paths[lib]);\n",
              "        s.onerror = () => reject(`Error loading script: ${paths[lib]}`);\n",
              "        document.getElementsByTagName(\"head\")[0].appendChild(s);\n",
              "      });\n",
              "    }\n",
              "\n",
              "    function showError(err) {\n",
              "      outputDiv.innerHTML = `<div class=\"error\" style=\"color:red;\">${err}</div>`;\n",
              "      throw err;\n",
              "    }\n",
              "\n",
              "    function displayChart(vegaEmbed) {\n",
              "      vegaEmbed(outputDiv, spec, embedOpt)\n",
              "        .catch(err => showError(`Javascript Error: ${err.message}<br>This usually means there's a typo in your chart specification. See the javascript console for the full traceback.`));\n",
              "    }\n",
              "\n",
              "    if(typeof define === \"function\" && define.amd) {\n",
              "      requirejs.config({paths});\n",
              "      require([\"vega-embed\"], displayChart, err => showError(`Error loading script: ${err.message}`));\n",
              "    } else if (typeof vegaEmbed === \"function\") {\n",
              "      displayChart(vegaEmbed);\n",
              "    } else {\n",
              "      loadScript(\"vega\")\n",
              "        .then(() => loadScript(\"vega-lite\"))\n",
              "        .then(() => loadScript(\"vega-embed\"))\n",
              "        .catch(showError)\n",
              "        .then(() => displayChart(vegaEmbed));\n",
              "    }\n",
              "  })({\"config\": {\"view\": {\"continuousWidth\": 400, \"continuousHeight\": 300}}, \"data\": {\"url\": \"https://cdn.jsdelivr.net/npm/vega-datasets@v1.29.0/data/us-10m.json\", \"format\": {\"feature\": \"states\", \"type\": \"topojson\"}}, \"mark\": \"geoshape\", \"encoding\": {\"color\": {\"type\": \"quantitative\", \"field\": \"perc_drunk\"}}, \"height\": 300, \"projection\": {\"type\": \"albersUsa\"}, \"transform\": [{\"lookup\": \"id\", \"from\": {\"data\": {\"name\": \"data-211067f8c9080e68e3ba0a4ac70f140f\"}, \"key\": \"STATE\", \"fields\": [\"STATENAME\", \"STATE\", \"not_drunk\", \"drunk\", \"perc_drunk\"]}}], \"width\": 500, \"$schema\": \"https://vega.github.io/schema/vega-lite/v4.8.1.json\", \"datasets\": {\"data-211067f8c9080e68e3ba0a4ac70f140f\": [{\"STATENAME\": \"Rhode Island\", \"STATE\": 44, \"not_drunk\": 23, \"drunk\": 28, \"perc_drunk\": 0.5490196078431373}, {\"STATENAME\": \"Montana\", \"STATE\": 30, \"not_drunk\": 96, \"drunk\": 69, \"perc_drunk\": 0.41818181818181815}, {\"STATENAME\": \"North Dakota\", \"STATE\": 38, \"not_drunk\": 54, \"drunk\": 37, \"perc_drunk\": 0.4065934065934066}, {\"STATENAME\": \"Washington\", \"STATE\": 53, \"not_drunk\": 314, \"drunk\": 174, \"perc_drunk\": 0.35655737704918034}, {\"STATENAME\": \"Idaho\", \"STATE\": 16, \"not_drunk\": 129, \"drunk\": 71, \"perc_drunk\": 0.355}, {\"STATENAME\": \"New Hampshire\", \"STATE\": 33, \"not_drunk\": 59, \"drunk\": 30, \"perc_drunk\": 0.33707865168539325}, {\"STATENAME\": \"Alaska\", \"STATE\": 2, \"not_drunk\": 40, \"drunk\": 20, \"perc_drunk\": 0.3333333333333333}, {\"STATENAME\": \"Wisconsin\", \"STATE\": 55, \"not_drunk\": 344, \"drunk\": 171, \"perc_drunk\": 0.3320388349514563}, {\"STATENAME\": \"Ohio\", \"STATE\": 39, \"not_drunk\": 695, \"drunk\": 339, \"perc_drunk\": 0.327852998065764}, {\"STATENAME\": \"Colorado\", \"STATE\": 8, \"not_drunk\": 363, \"drunk\": 173, \"perc_drunk\": 0.32276119402985076}, {\"STATENAME\": \"South Dakota\", \"STATE\": 46, \"not_drunk\": 60, \"drunk\": 28, \"perc_drunk\": 0.3181818181818182}, {\"STATENAME\": \"Massachusetts\", \"STATE\": 25, \"not_drunk\": 220, \"drunk\": 100, \"perc_drunk\": 0.3125}, {\"STATENAME\": \"Oregon\", \"STATE\": 41, \"not_drunk\": 309, \"drunk\": 138, \"perc_drunk\": 0.3087248322147651}, {\"STATENAME\": \"Nevada\", \"STATE\": 32, \"not_drunk\": 197, \"drunk\": 84, \"perc_drunk\": 0.298932384341637}, {\"STATENAME\": \"Maine\", \"STATE\": 23, \"not_drunk\": 99, \"drunk\": 42, \"perc_drunk\": 0.2978723404255319}, {\"STATENAME\": \"Virginia\", \"STATE\": 51, \"not_drunk\": 540, \"drunk\": 227, \"perc_drunk\": 0.29595827900912647}, {\"STATENAME\": \"Vermont\", \"STATE\": 50, \"not_drunk\": 31, \"drunk\": 13, \"perc_drunk\": 0.29545454545454547}, {\"STATENAME\": \"Nebraska\", \"STATE\": 31, \"not_drunk\": 149, \"drunk\": 61, \"perc_drunk\": 0.2904761904761905}, {\"STATENAME\": \"South Carolina\", \"STATE\": 45, \"not_drunk\": 648, \"drunk\": 265, \"perc_drunk\": 0.2902519167579409}, {\"STATENAME\": \"Louisiana\", \"STATE\": 22, \"not_drunk\": 476, \"drunk\": 194, \"perc_drunk\": 0.28955223880597014}, {\"STATENAME\": \"Hawaii\", \"STATE\": 15, \"not_drunk\": 72, \"drunk\": 29, \"perc_drunk\": 0.2871287128712871}, {\"STATENAME\": \"Illinois\", \"STATE\": 17, \"not_drunk\": 670, \"drunk\": 262, \"perc_drunk\": 0.2811158798283262}, {\"STATENAME\": \"Minnesota\", \"STATE\": 27, \"not_drunk\": 237, \"drunk\": 92, \"perc_drunk\": 0.2796352583586626}, {\"STATENAME\": \"Maryland\", \"STATE\": 24, \"not_drunk\": 348, \"drunk\": 134, \"perc_drunk\": 0.27800829875518673}, {\"STATENAME\": \"Connecticut\", \"STATE\": 9, \"not_drunk\": 167, \"drunk\": 63, \"perc_drunk\": 0.27391304347826084}, {\"STATENAME\": \"Missouri\", \"STATE\": 29, \"not_drunk\": 595, \"drunk\": 216, \"perc_drunk\": 0.26633785450061653}, {\"STATENAME\": \"Pennsylvania\", \"STATE\": 42, \"not_drunk\": 726, \"drunk\": 261, \"perc_drunk\": 0.26443768996960487}, {\"STATENAME\": \"Michigan\", \"STATE\": 26, \"not_drunk\": 658, \"drunk\": 236, \"perc_drunk\": 0.2639821029082774}, {\"STATENAME\": \"New Mexico\", \"STATE\": 35, \"not_drunk\": 268, \"drunk\": 96, \"perc_drunk\": 0.26373626373626374}, {\"STATENAME\": \"Alabama\", \"STATE\": 1, \"not_drunk\": 631, \"drunk\": 220, \"perc_drunk\": 0.25851938895417154}, {\"STATENAME\": \"Wyoming\", \"STATE\": 56, \"not_drunk\": 89, \"drunk\": 31, \"perc_drunk\": 0.25833333333333336}, {\"STATENAME\": \"Arkansas\", \"STATE\": 5, \"not_drunk\": 345, \"drunk\": 120, \"perc_drunk\": 0.25806451612903225}, {\"STATENAME\": \"Iowa\", \"STATE\": 19, \"not_drunk\": 231, \"drunk\": 79, \"perc_drunk\": 0.25483870967741934}, {\"STATENAME\": \"Oklahoma\", \"STATE\": 40, \"not_drunk\": 437, \"drunk\": 143, \"perc_drunk\": 0.24655172413793103}, {\"STATENAME\": \"California\", \"STATE\": 6, \"not_drunk\": 2493, \"drunk\": 802, \"perc_drunk\": 0.2433990895295903}, {\"STATENAME\": \"West Virginia\", \"STATE\": 54, \"not_drunk\": 187, \"drunk\": 60, \"perc_drunk\": 0.242914979757085}, {\"STATENAME\": \"Tennessee\", \"STATE\": 47, \"not_drunk\": 787, \"drunk\": 245, \"perc_drunk\": 0.2374031007751938}, {\"STATENAME\": \"Texas\", \"STATE\": 48, \"not_drunk\": 2517, \"drunk\": 745, \"perc_drunk\": 0.22838749233599018}, {\"STATENAME\": \"Kentucky\", \"STATE\": 21, \"not_drunk\": 513, \"drunk\": 150, \"perc_drunk\": 0.22624434389140272}, {\"STATENAME\": \"New Jersey\", \"STATE\": 34, \"not_drunk\": 407, \"drunk\": 114, \"perc_drunk\": 0.21880998080614203}, {\"STATENAME\": \"Mississippi\", \"STATE\": 28, \"not_drunk\": 450, \"drunk\": 125, \"perc_drunk\": 0.21739130434782608}, {\"STATENAME\": \"Arizona\", \"STATE\": 4, \"not_drunk\": 714, \"drunk\": 190, \"perc_drunk\": 0.21017699115044247}, {\"STATENAME\": \"North Carolina\", \"STATE\": 37, \"not_drunk\": 1019, \"drunk\": 262, \"perc_drunk\": 0.20452771272443404}, {\"STATENAME\": \"Florida\", \"STATE\": 12, \"not_drunk\": 2341, \"drunk\": 590, \"perc_drunk\": 0.2012964858410099}, {\"STATENAME\": \"Delaware\", \"STATE\": 10, \"not_drunk\": 98, \"drunk\": 24, \"perc_drunk\": 0.19672131147540983}, {\"STATENAME\": \"New York\", \"STATE\": 36, \"not_drunk\": 705, \"drunk\": 168, \"perc_drunk\": 0.19243986254295534}, {\"STATENAME\": \"Kansas\", \"STATE\": 20, \"not_drunk\": 295, \"drunk\": 66, \"perc_drunk\": 0.18282548476454294}, {\"STATENAME\": \"Indiana\", \"STATE\": 18, \"not_drunk\": 618, \"drunk\": 127, \"perc_drunk\": 0.1704697986577181}, {\"STATENAME\": \"Utah\", \"STATE\": 49, \"not_drunk\": 187, \"drunk\": 35, \"perc_drunk\": 0.15765765765765766}, {\"STATENAME\": \"Georgia\", \"STATE\": 13, \"not_drunk\": 1163, \"drunk\": 209, \"perc_drunk\": 0.152332361516035}, {\"STATENAME\": \"District of Columbia\", \"STATE\": 11, \"not_drunk\": 19, \"drunk\": 3, \"perc_drunk\": 0.13636363636363635}]}}, {\"mode\": \"vega-lite\"});\n",
              "</script>"
            ]
          },
          "metadata": {},
          "execution_count": 45
        }
      ]
    },
    {
      "cell_type": "markdown",
      "metadata": {
        "id": "QUmwKwW_ZyRK"
      },
      "source": [
        "ANALYSING INFLUENCE OF ROUTES AND ITS IMPACT IN ALCOHOL RELATED ACCIDENTS.\n",
        "\n",
        "\n",
        "\n"
      ]
    },
    {
      "cell_type": "code",
      "metadata": {
        "colab": {
          "base_uri": "https://localhost:8080/",
          "height": 424
        },
        "id": "tkR4kUlxKmIr",
        "outputId": "10d9de04-5997-4781-a2db-5278301925d6"
      },
      "source": [
        "accid_df"
      ],
      "execution_count": 46,
      "outputs": [
        {
          "output_type": "execute_result",
          "data": {
            "text/html": [
              "<div>\n",
              "<style scoped>\n",
              "    .dataframe tbody tr th:only-of-type {\n",
              "        vertical-align: middle;\n",
              "    }\n",
              "\n",
              "    .dataframe tbody tr th {\n",
              "        vertical-align: top;\n",
              "    }\n",
              "\n",
              "    .dataframe thead th {\n",
              "        text-align: right;\n",
              "    }\n",
              "</style>\n",
              "<table border=\"1\" class=\"dataframe\">\n",
              "  <thead>\n",
              "    <tr style=\"text-align: right;\">\n",
              "      <th></th>\n",
              "      <th>STATE</th>\n",
              "      <th>STATENAME</th>\n",
              "      <th>MONTH</th>\n",
              "      <th>MONTHNAME</th>\n",
              "      <th>HOUR</th>\n",
              "      <th>ROUTENAME</th>\n",
              "      <th>LATITUDE</th>\n",
              "      <th>LONGITUD</th>\n",
              "      <th>WEATHER1NAME</th>\n",
              "      <th>DRUNK_DR</th>\n",
              "    </tr>\n",
              "  </thead>\n",
              "  <tbody>\n",
              "    <tr>\n",
              "      <th>0</th>\n",
              "      <td>1</td>\n",
              "      <td>Alabama</td>\n",
              "      <td>2</td>\n",
              "      <td>February</td>\n",
              "      <td>12</td>\n",
              "      <td>Interstate</td>\n",
              "      <td>32.666222</td>\n",
              "      <td>-85.336658</td>\n",
              "      <td>Clear</td>\n",
              "      <td>1</td>\n",
              "    </tr>\n",
              "    <tr>\n",
              "      <th>1</th>\n",
              "      <td>1</td>\n",
              "      <td>Alabama</td>\n",
              "      <td>1</td>\n",
              "      <td>January</td>\n",
              "      <td>18</td>\n",
              "      <td>Interstate</td>\n",
              "      <td>33.997828</td>\n",
              "      <td>-86.053997</td>\n",
              "      <td>Rain</td>\n",
              "      <td>0</td>\n",
              "    </tr>\n",
              "    <tr>\n",
              "      <th>2</th>\n",
              "      <td>1</td>\n",
              "      <td>Alabama</td>\n",
              "      <td>1</td>\n",
              "      <td>January</td>\n",
              "      <td>19</td>\n",
              "      <td>Interstate</td>\n",
              "      <td>33.660842</td>\n",
              "      <td>-85.391011</td>\n",
              "      <td>Cloudy</td>\n",
              "      <td>0</td>\n",
              "    </tr>\n",
              "    <tr>\n",
              "      <th>3</th>\n",
              "      <td>1</td>\n",
              "      <td>Alabama</td>\n",
              "      <td>1</td>\n",
              "      <td>January</td>\n",
              "      <td>3</td>\n",
              "      <td>Interstate</td>\n",
              "      <td>33.956472</td>\n",
              "      <td>-86.140522</td>\n",
              "      <td>Clear</td>\n",
              "      <td>0</td>\n",
              "    </tr>\n",
              "    <tr>\n",
              "      <th>4</th>\n",
              "      <td>1</td>\n",
              "      <td>Alabama</td>\n",
              "      <td>1</td>\n",
              "      <td>January</td>\n",
              "      <td>5</td>\n",
              "      <td>Interstate</td>\n",
              "      <td>30.656269</td>\n",
              "      <td>-87.809461</td>\n",
              "      <td>Fog, Smog, Smoke</td>\n",
              "      <td>1</td>\n",
              "    </tr>\n",
              "    <tr>\n",
              "      <th>...</th>\n",
              "      <td>...</td>\n",
              "      <td>...</td>\n",
              "      <td>...</td>\n",
              "      <td>...</td>\n",
              "      <td>...</td>\n",
              "      <td>...</td>\n",
              "      <td>...</td>\n",
              "      <td>...</td>\n",
              "      <td>...</td>\n",
              "      <td>...</td>\n",
              "    </tr>\n",
              "    <tr>\n",
              "      <th>33239</th>\n",
              "      <td>56</td>\n",
              "      <td>Wyoming</td>\n",
              "      <td>9</td>\n",
              "      <td>September</td>\n",
              "      <td>18</td>\n",
              "      <td>Unknown</td>\n",
              "      <td>44.354406</td>\n",
              "      <td>-104.810853</td>\n",
              "      <td>Severe Crosswinds</td>\n",
              "      <td>0</td>\n",
              "    </tr>\n",
              "    <tr>\n",
              "      <th>33240</th>\n",
              "      <td>56</td>\n",
              "      <td>Wyoming</td>\n",
              "      <td>9</td>\n",
              "      <td>September</td>\n",
              "      <td>13</td>\n",
              "      <td>State Highway</td>\n",
              "      <td>41.167136</td>\n",
              "      <td>-105.887706</td>\n",
              "      <td>Clear</td>\n",
              "      <td>0</td>\n",
              "    </tr>\n",
              "    <tr>\n",
              "      <th>33241</th>\n",
              "      <td>56</td>\n",
              "      <td>Wyoming</td>\n",
              "      <td>9</td>\n",
              "      <td>September</td>\n",
              "      <td>15</td>\n",
              "      <td>State Highway</td>\n",
              "      <td>44.912142</td>\n",
              "      <td>-107.104503</td>\n",
              "      <td>Clear</td>\n",
              "      <td>1</td>\n",
              "    </tr>\n",
              "    <tr>\n",
              "      <th>33242</th>\n",
              "      <td>56</td>\n",
              "      <td>Wyoming</td>\n",
              "      <td>9</td>\n",
              "      <td>September</td>\n",
              "      <td>4</td>\n",
              "      <td>U.S. Highway</td>\n",
              "      <td>41.403750</td>\n",
              "      <td>-104.456917</td>\n",
              "      <td>Clear</td>\n",
              "      <td>1</td>\n",
              "    </tr>\n",
              "    <tr>\n",
              "      <th>33243</th>\n",
              "      <td>56</td>\n",
              "      <td>Wyoming</td>\n",
              "      <td>9</td>\n",
              "      <td>September</td>\n",
              "      <td>23</td>\n",
              "      <td>Other</td>\n",
              "      <td>41.522656</td>\n",
              "      <td>-109.447392</td>\n",
              "      <td>Rain</td>\n",
              "      <td>1</td>\n",
              "    </tr>\n",
              "  </tbody>\n",
              "</table>\n",
              "<p>32745 rows × 10 columns</p>\n",
              "</div>"
            ],
            "text/plain": [
              "       STATE STATENAME  MONTH  ...    LONGITUD       WEATHER1NAME DRUNK_DR\n",
              "0          1   Alabama      2  ...  -85.336658              Clear        1\n",
              "1          1   Alabama      1  ...  -86.053997               Rain        0\n",
              "2          1   Alabama      1  ...  -85.391011             Cloudy        0\n",
              "3          1   Alabama      1  ...  -86.140522              Clear        0\n",
              "4          1   Alabama      1  ...  -87.809461   Fog, Smog, Smoke        1\n",
              "...      ...       ...    ...  ...         ...                ...      ...\n",
              "33239     56   Wyoming      9  ... -104.810853  Severe Crosswinds        0\n",
              "33240     56   Wyoming      9  ... -105.887706              Clear        0\n",
              "33241     56   Wyoming      9  ... -107.104503              Clear        1\n",
              "33242     56   Wyoming      9  ... -104.456917              Clear        1\n",
              "33243     56   Wyoming      9  ... -109.447392               Rain        1\n",
              "\n",
              "[32745 rows x 10 columns]"
            ]
          },
          "metadata": {},
          "execution_count": 46
        }
      ]
    },
    {
      "cell_type": "code",
      "metadata": {
        "colab": {
          "base_uri": "https://localhost:8080/"
        },
        "id": "SOsJAUVZZ7bJ",
        "outputId": "8022ea02-0448-4065-b16a-0ec48e55ef36"
      },
      "source": [
        "ry1 = accid_df[accid_df['DRUNK_DR']==1].groupby('ROUTENAME').size()\n",
        "ry1"
      ],
      "execution_count": 47,
      "outputs": [
        {
          "output_type": "execute_result",
          "data": {
            "text/plain": [
              "ROUTENAME\n",
              "County Road                     1424\n",
              "Interstate                       919\n",
              "Local Street - Frontage Road      63\n",
              "Local Street - Municipality     1173\n",
              "Local Street - Township          281\n",
              "Other                            354\n",
              "State Highway                   2254\n",
              "U.S. Highway                    1137\n",
              "Unknown                          456\n",
              "dtype: int64"
            ]
          },
          "metadata": {},
          "execution_count": 47
        }
      ]
    },
    {
      "cell_type": "code",
      "metadata": {
        "colab": {
          "base_uri": "https://localhost:8080/"
        },
        "id": "F0EzghidbYkZ",
        "outputId": "7b59e63a-c535-4d41-c5b7-cbe3e2f42945"
      },
      "source": [
        "rx1 = accid_df['ROUTENAME'].sort_values().unique()\n",
        "rx1\n"
      ],
      "execution_count": 48,
      "outputs": [
        {
          "output_type": "execute_result",
          "data": {
            "text/plain": [
              "array(['County Road', 'Interstate', 'Local Street - Frontage Road',\n",
              "       'Local Street - Municipality', 'Local Street - Township', 'Other',\n",
              "       'State Highway', 'U.S. Highway', 'Unknown'], dtype=object)"
            ]
          },
          "metadata": {},
          "execution_count": 48
        }
      ]
    },
    {
      "cell_type": "code",
      "metadata": {
        "id": "4IDhnHXK6DyW"
      },
      "source": [
        "def show_values(axs, orient=\"v\", space=.01):\n",
        "    def _single(ax):\n",
        "        if orient == \"v\":\n",
        "            for p in ax.patches:\n",
        "                _x = p.get_x() + p.get_width() / 2\n",
        "                _y = p.get_y() + p.get_height() + (p.get_height()*0.01)\n",
        "                value = '{:.1f}'.format(p.get_height())\n",
        "                ax.text(_x, _y, value, ha=\"center\") \n",
        "        elif orient == \"h\":\n",
        "            for p in ax.patches:\n",
        "                _x = p.get_x() + p.get_width() + float(space)\n",
        "                _y = p.get_y() + p.get_height() - (p.get_height()*0.5)\n",
        "                value = '{:.1f}'.format(p.get_width())\n",
        "                ax.text(_x, _y, value, ha=\"left\")\n",
        "\n",
        "    if isinstance(axs, np.ndarray):\n",
        "        for idx, ax in np.ndenumerate(axs):\n",
        "            _single(ax)\n",
        "    else:\n",
        "        _single(axs)"
      ],
      "execution_count": 49,
      "outputs": []
    },
    {
      "cell_type": "code",
      "metadata": {
        "colab": {
          "base_uri": "https://localhost:8080/",
          "height": 846
        },
        "id": "3Wa0CcOdcQB9",
        "outputId": "630ca925-2478-4335-9674-000952e8c541"
      },
      "source": [
        "graph = sns.barplot(rx1,ry1)\n",
        "for i in range(len(rx1)):\n",
        "  graph.axvline(i,ymin = 0,ymax=ry1[i]/max(ry1),linestyle = '-.', color = 'white')\n",
        "  \n",
        "show_values(graph)\n",
        "plt.xticks(rotation=90)\n",
        "plt.title('Drunk Driving Accidents - Route Wise')\n",
        "plt.ylabel('No. of Accidents')\n",
        "plt.show()"
      ],
      "execution_count": 50,
      "outputs": [
        {
          "output_type": "stream",
          "name": "stderr",
          "text": [
            "/usr/local/lib/python3.7/dist-packages/seaborn/_decorators.py:43: FutureWarning:\n",
            "\n",
            "Pass the following variables as keyword args: x, y. From version 0.12, the only valid positional argument will be `data`, and passing other arguments without an explicit keyword will result in an error or misinterpretation.\n",
            "\n"
          ]
        },
        {
          "output_type": "display_data",
          "data": {
            "image/png": "[encoded data removed]",
            "text/plain": [
              "<Figure size 1080x720 with 1 Axes>"
            ]
          },
          "metadata": {}
        }
      ]
    },
    {
      "cell_type": "code",
      "metadata": {
        "id": "A0orGqdadJyE",
        "colab": {
          "base_uri": "https://localhost:8080/"
        },
        "outputId": "9ef83b8d-0336-4340-83b6-0cfa06907184"
      },
      "source": [
        "%%shell\n",
        "jupyter nbconvert --to html /content/Data_Viz_Project.ipynb"
      ],
      "execution_count": 54,
      "outputs": [
        {
          "output_type": "stream",
          "name": "stdout",
          "text": [
            "[NbConvertApp] Converting notebook /content/Data_Viz_Project.ipynb to html\n",
            "[NbConvertApp] Writing 2597505 bytes to /content/Data_Viz_Project.html\n"
          ]
        },
        {
          "output_type": "execute_result",
          "data": {
            "text/plain": [
              ""
            ]
          },
          "metadata": {},
          "execution_count": 54
        }
      ]
    },
    {
      "cell_type": "code",
      "metadata": {
        "id": "TxwqhMdFCzkt"
      },
      "source": [
        ""
      ],
      "execution_count": null,
      "outputs": []
    }
  ]
}